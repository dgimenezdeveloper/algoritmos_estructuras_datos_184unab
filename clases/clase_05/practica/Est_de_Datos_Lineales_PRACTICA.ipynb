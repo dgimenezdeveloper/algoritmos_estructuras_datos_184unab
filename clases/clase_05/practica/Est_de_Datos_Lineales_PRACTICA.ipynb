{
  "cells": [
    {
      "cell_type": "markdown",
      "metadata": {
        "id": "GRXpprZ3zovT"
      },
      "source": [
        "# Algoritmos y Estructuras de Datos.\n",
        "\n",
        "## - Clase 9 - Practica - Estructuras de Datos Lineales"
      ]
    },
    {
      "cell_type": "markdown",
      "metadata": {
        "id": "l5dlkPulzovu"
      },
      "source": [
        "### Ejercicio 1\n",
        "\n",
        "Implementar una Pila utilizando la siguiente definición de una *Lista 'Simple' Enlazada*. Utilizar el prototipo de la clase Lista Simple Enlazada mostrado a continuación."
      ]
    },
    {
      "cell_type": "code",
      "execution_count": null,
      "metadata": {
        "id": "mCeXdcF-zovu"
      },
      "outputs": [],
      "source": [
        "class ListaSimpleEnlazada:\n",
        "\"\"\"Clase Lista 'Simplemente' Enlazada.\"\"\"\n",
        "\n",
        "#-------- Clase Anidada - NODO ------------#\n",
        "    class _Node:\n",
        "        \"\"\"Clase Nodo.\"\"\"\n",
        "        __slots__ = '_element', '_next' # optimiza el uso de memoria\n",
        "\n",
        "        def __init__(self, element, next):\n",
        "            self._element = element # inicializar el contenido del Nodo\n",
        "            self._next = next       #referencia al siguiente Nodo\n",
        "\n",
        "    def __init__(self):\n",
        "    \"\"\"Crea una Pila Vacia.\"\"\"\n",
        "    self._head = None  #referencia a la \"cabeza\" de la lista\n",
        "    self._size = 0     #cantidad de elementos\n",
        "\n",
        "\n",
        "    def __len__(self):\n",
        "        \"\"\"Retorna el numero de elementos de la Pila.\"\"\"\n",
        "        return self._size\n",
        "\n",
        "    def is_empty(self):\n",
        "        \"\"\"Retorna VERDADERO si la Pila esta Vacia.\"\"\"\n",
        "        return self._size == 0\n",
        "\n",
        "    #----------- Métodos de la Pila ----------- #\n",
        "\n",
        "    def push(elem) : pass # COMPLETAR #\n",
        "    def pop() : pass    # COMPLETAR #\n",
        "    def top() : pass    # COMPLETAR #"
      ]
    },
    {
      "cell_type": "markdown",
      "metadata": {
        "id": "lZY5Q2Bxzovu"
      },
      "source": [
        "### Ejercicio 2\n",
        "\n",
        "Implementar el tipo de dato *Cola* utilizando listas enlazadas. Completar la siguiente definición de la clase *Cola Enlazada*."
      ]
    },
    {
      "cell_type": "code",
      "execution_count": null,
      "metadata": {
        "id": "yHCu8A-c6E26"
      },
      "outputs": [],
      "source": [
        "class ColaEnlazada:\n",
        "\"\"\"FIFO queue implementation using a singly linked list for storage.\"\"\"\n",
        "\n",
        "#-------- Clase Anidada - NODO ------------#\n",
        "  class _Node:\n",
        "    \"\"\"Clase Nodo.\"\"\"\n",
        "    __slots__ = '_element', '_next' # optimiza el uso de memoria\n",
        "\n",
        "    def __init__(self, element, next):\n",
        "      self._element = element # inicializar el contenido del Nodo\n",
        "      self._next = next       #referencia al siguiente Nodo\n",
        "\n",
        "#----------- Métodos de la Cola ----------- #\n",
        "\n",
        "  def __init__(self):\n",
        "    \"\"\"Crea una Cola Vacia.\"\"\"\n",
        "    self._head = None\n",
        "    self._tail = None\n",
        "    self._size = 0  # Numero de elementos en la Cola\n",
        "\n",
        "  def __len__(self):\n",
        "    \"\"\"Retorna el numero de elementos de la Cola.\"\"\"\n",
        "    # COMPLETAR #\n",
        "\n",
        "  def is_empty(self):\n",
        "    \"\"\"True si la Cola esta vacia.\"\"\"\n",
        "    # COMPLETAR #\n",
        "\n",
        "  def first(self):\n",
        "    \"\"\"Retornar (sin remover) el primer elemento de la Cola.\n",
        "\n",
        "       Raise Empty exception if the queue is empty. \"\"\"\n",
        "    # COMPLETAR #\n",
        "\n",
        "  def dequeue(self):\n",
        "    \"\"\"Remove and return the first element of the queue (i.e., FIFO).\n",
        "\n",
        "       Raise Empty exception if the queue is empty.\"\"\"\n",
        "        # Ejemplo:   ## if self.is empty():\n",
        "        #            ##    raise Empty( Queue is empty )\n",
        "\n",
        "  def enqueue(self, e):\n",
        "    \"\"\"Add an element to the back of queue.\"\"\"\n",
        "    # COMPLETAR #\n",
        "\n"
      ]
    },
    {
      "cell_type": "markdown",
      "metadata": {
        "id": "UYTAOidGzovu"
      },
      "source": [
        "### Ejercicio 3\n",
        "\n",
        "Sobrecargar los métodos  **\\_\\_str\\_\\_** y **\\_\\_add\\_\\_** para la 'PilaEnlazada'."
      ]
    },
    {
      "cell_type": "code",
      "execution_count": null,
      "metadata": {
        "id": "_aETq7nlzovv"
      },
      "outputs": [],
      "source": []
    },
    {
      "cell_type": "markdown",
      "metadata": {
        "id": "FsJALYeEzovv"
      },
      "source": [
        "### Ejercicio 4\n",
        "\n",
        "Sobrecargar los métodos **\\_\\_str\\_\\_** y **\\_\\_add\\_\\_** para la 'ColaEnlazada'."
      ]
    },
    {
      "cell_type": "code",
      "execution_count": null,
      "metadata": {
        "id": "YuSKY14Ozovv"
      },
      "outputs": [],
      "source": []
    },
    {
      "cell_type": "markdown",
      "metadata": {
        "id": "gT9PwyWvzovv"
      },
      "source": [
        "### Ejercicio 5\n",
        "\n",
        "Implementar el tipo de dato lista enlazada circular."
      ]
    },
    {
      "cell_type": "code",
      "execution_count": null,
      "metadata": {
        "id": "J9fzOvxqwPDy"
      },
      "outputs": [],
      "source": [
        "class ListaEnlazadaCircular:\n",
        "\"\"\"Clase Lista enlazada Circular.\"\"\"\n",
        "\n",
        "#-------- Clase Anidada - NODO ------------#\n",
        "    class _Node:\n",
        "        \"\"\"Clase Nodo.\"\"\"\n",
        "        __slots__ = '_element', '_next' # optimiza el uso de memoria\n",
        "\n",
        "        def __init__(self, element, next):\n",
        "            self._element = element # inicializar el contenido del Nodo\n",
        "            self._next = next       # referencia al siguiente Nodo\n",
        "\n",
        "    def __init__(self):\n",
        "    \"\"\"Crea una Lista Vacia.\"\"\"\n",
        "    self._head = None  #referencia a la \"cabeza\" de la lista\n",
        "    self._size = 0     #cantidad de elementos\n",
        "\n",
        "\n",
        "    def __len__(self):\n",
        "        \"\"\"Retorna el numero de elementos de la Lista.\"\"\"\n",
        "        return self._size\n",
        "\n",
        "    def is_empty(self):\n",
        "        \"\"\"Retorna VERDADERO si la Lista esta Vacia.\"\"\"\n",
        "        return self._size == 0\n",
        "\n",
        "    def append(x): pass\n",
        "    ## Agrega un elemento al final de la lista. ##\n",
        "    ## COMPLETAR ##\n",
        "\n",
        "    def insert(i, x): pass\n",
        "    ## Agrega el elemento 'x' en la posición 'i' ##\n",
        "    # levanta una excepción / informa un erorr; si la posición 'i'es inválida. #\n",
        "    ## COMPLETAR ##\n",
        "\n",
        "    def remove(x): pass\n",
        "    ## Eliminar la primera aparición de 'x' en la lista ##\n",
        "    # levanta una excepción / informa error; si 'x' no está.\n",
        "    ## COMPLETAR ##\n",
        "\n",
        "    def pop([i]): pass\n",
        "    ## borra el elemento que está en la posición 'i' y devolver su valor. ##\n",
        "    # Si no se especifica el valor de 'i' ver el método pop() debajo #\n",
        "    ## COMPLETAR ##\n",
        "\n",
        "    def pop(): pass\n",
        "    ## elimina y devuelve el elemento que está en el último lugar de la lista ##\n",
        "    # levanta una excepción / informa del error; si se hace  referencia a una posición no válida de la lista. #\n",
        "    ## COMPLETAR ##\n",
        "\n",
        "    def index(x): pass\n",
        "    ## devuelve la posición de la primera aparición de 'x' en la lista ##\n",
        "    # levanta una excepción / informa error; si 'x' no está.\n",
        "    ## COMPLETAR ##\n"
      ]
    },
    {
      "cell_type": "markdown",
      "metadata": {
        "id": "BXTAAPPwwPD0"
      },
      "source": [
        "### Ejercicio 6\n",
        "\n",
        "Sobrecargar los métodos **\\_\\_str\\_\\_** y **\\_\\_add\\_\\_** para la 'Lista Circular'."
      ]
    },
    {
      "cell_type": "markdown",
      "metadata": {
        "id": "zhjra2VgwPD1"
      },
      "source": [
        "### Ejercicio 7\n",
        "\n",
        "Implementar una lista *doblemente* enlazada."
      ]
    },
    {
      "cell_type": "code",
      "execution_count": null,
      "metadata": {
        "id": "q9IzOslb_u0y"
      },
      "outputs": [],
      "source": [
        "class ListaDoblementeEnlazada:\n",
        "\"\"\"Clase Lista doblemente enlazada.\"\"\"\n",
        "\n",
        "#-------- Clase Anidada - NODO ------------#\n",
        "    class _Node:\n",
        "        \"\"\"Clase Nodo.\"\"\"\n",
        "        __slots__ = '_element', '_prev', '_next' # optimiza el uso de memoria\n",
        "\n",
        "        def __init__(self, element, prev, next):\n",
        "            self._element = element # inicializar el contenido del Nodo\n",
        "            self._next = next       # referencia al siguiente Nodo\n",
        "            self._prev = prev       # referencia al Nodo anterior\n",
        "\n",
        "    def __init__(self):\n",
        "    \"\"\"Crea una Lista Vacia.\"\"\"\n",
        "    self._head = None  #referencia a la \"cabeza\" de la lista\n",
        "    self._size = 0     #cantidad de elementos\n",
        "\n",
        "\n",
        "    def __len__(self):\n",
        "        \"\"\"Retorna el numero de elementos de la Lista.\"\"\"\n",
        "        return self._size\n",
        "\n",
        "    def is_empty(self):\n",
        "        \"\"\"Retorna VERDADERO si la Lista esta Vacia.\"\"\"\n",
        "        return self._size == 0\n",
        "\n",
        "    def append(x): pass\n",
        "    ## Agrega un elemento al final de la lista. ##\n",
        "    ## COMPLETAR ##\n",
        "\n",
        "    def insert(i, x): pass\n",
        "    ## Agrega el elemento 'x' en la posición 'i' ##\n",
        "    # levanta una excepción / informa un erorr; si la posición 'i'es inválida. #\n",
        "    ## COMPLETAR ##\n",
        "\n",
        "    def remove(x): pass\n",
        "    ## Eliminar la primera aparición de 'x' en la lista ##\n",
        "    # levanta una excepción / informa error; si 'x' no está.\n",
        "    ## COMPLETAR ##\n",
        "\n",
        "    def pop([i]): pass\n",
        "    ## borra el elemento que está en la posición 'i' y devolver su valor. ##\n",
        "    # Si no se especifica el valor de 'i' ver el método pop() debajo #\n",
        "    ## COMPLETAR ##\n",
        "\n",
        "    def pop(): pass\n",
        "    ## elimina y devuelve el elemento que está en el último lugar de la lista ##\n",
        "    # levanta una excepción / informa del error; si se hace  referencia a una posición no válida de la lista. #\n",
        "    ## COMPLETAR ##\n",
        "\n",
        "    def index(x): pass\n",
        "    ## devuelve la posición de la primera aparición de 'x' en la lista ##\n",
        "    # levanta una excepción / informa error; si 'x' no está.\n",
        "    ## COMPLETAR ##\n"
      ]
    },
    {
      "cell_type": "markdown",
      "metadata": {
        "id": "_V_pMwihwPD3"
      },
      "source": [
        "### Ejercicio 8\n",
        "\n",
        "Sobrecargar los métodos **\\_\\_str\\_\\_** y **\\_\\_add\\_\\_** para la 'Lista Doblemente Enlazada'.a"
      ]
    },
    {
      "cell_type": "markdown",
      "metadata": {
        "id": "1Tjul03JwPD4"
      },
      "source": [
        "### Ejercicio 9\n",
        "\n",
        "Implementar una lista *doblemente* enlazada y *circular*."
      ]
    },
    {
      "cell_type": "code",
      "execution_count": null,
      "metadata": {
        "id": "vIEjeaH4wPD4"
      },
      "outputs": [],
      "source": []
    },
    {
      "cell_type": "markdown",
      "metadata": {
        "id": "12Am0KwpwPD4"
      },
      "source": [
        "### Ejercicio 10\n",
        "\n",
        "Sobrecargar los métodos **\\_\\_str\\_\\_** y **\\_\\_add\\_\\_** para la 'Lista Doblemente Enlazada Circular'."
      ]
    }
  ],
  "metadata": {
    "colab": {
      "provenance": []
    },
    "kernelspec": {
      "display_name": "Python 3",
      "language": "python",
      "name": "python3"
    },
    "language_info": {
      "codemirror_mode": {
        "name": "ipython",
        "version": 3
      },
      "file_extension": ".py",
      "mimetype": "text/x-python",
      "name": "python",
      "nbconvert_exporter": "python",
      "pygments_lexer": "ipython3",
      "version": "3.8.3"
    }
  },
  "nbformat": 4,
  "nbformat_minor": 0
}
