{
 "cells": [
  {
   "cell_type": "markdown",
   "metadata": {},
   "source": [
    "# Clase 03 - Practica 3 - Funciones - "
   ]
  },
  {
   "cell_type": "markdown",
   "metadata": {},
   "source": [
    "Implementar una función **recursiva** que retorne la suma de los primeros $\\textit{n}$ números."
   ]
  },
  {
   "cell_type": "code",
   "execution_count": null,
   "metadata": {},
   "outputs": [],
   "source": [
    "def recursive_sum(n):\n",
    "    if n == 0:\n",
    "        return 0\n",
    "    else:\n",
    "        return n + recursive_sum(n-1)"
   ]
  },
  {
   "cell_type": "markdown",
   "metadata": {},
   "source": [
    "Implementar una función **iterativa** que retorne la suma de los primeros $\\textit{n}$ números."
   ]
  },
  {
   "cell_type": "code",
   "execution_count": null,
   "metadata": {},
   "outputs": [],
   "source": [
    "def suma_iterativa(n):\n",
    "    total = 0\n",
    "    for i in range(1, n+1):\n",
    "        total += i\n",
    "    return total"
   ]
  },
  {
   "cell_type": "markdown",
   "metadata": {},
   "source": [
    "Implementar una función **recursiva** que reciba como parametro una lista de números enteros y retorne el maximo. "
   ]
  },
  {
   "cell_type": "code",
   "execution_count": null,
   "metadata": {},
   "outputs": [],
   "source": [
    "def maximo_recursivo(lista):\n",
    "    if len(lista) == 1:\n",
    "        return lista[0]\n",
    "    else:\n",
    "        maximo_resto = maximo_recursivo(lista[1:])\n",
    "        if lista[0] > maximo_resto:\n",
    "            return lista[0]\n",
    "        else:\n",
    "            return maximo_resto"
   ]
  },
  {
   "cell_type": "markdown",
   "metadata": {},
   "source": [
    "Escribir un programa que, dado un número entero $k$, retorne el indice de la primer ocurrencia del número 1, en la secuencia de Siracusa generada con el parametro $k$. Es decir, la cantidad de pasos necesarios para que la serie converja a su punto fijo.  \n",
    "\n",
    "La secuencia de Siracusa: \\\\\n",
    "- El primer termino es $s_0=k$, y los terminos siguentes ($s_i$) se calculan con la siguiente formula: \n",
    " - (i) si el termino $k_i$ es par, dividimos por 2: $\\frac{k}{2}$;\n",
    " - (ii) si el termino $k_i$ es impar, multiplicamos por 3 y sumamos 1: $(3 k + 1)$. \\\\\n",
    "\n",
    "$s_{n+1} = \\left\\lbrace\\begin{array}{l} \\dfrac{s_{n}}{2}  &\\texttt{si } n \\texttt{ es par}\\\\\n",
    "3 s_{n} + 1  &\\texttt{si } n \\texttt{ es impar}\\end{array}\\right.$\n",
    "\n",
    "La secuencia para cuando obtenemos el numero $1$, ya que desde ese punto se repite. \n",
    "**Ejemplo:** para $k=1$, $k=2$, o $k=4$. La secuencia de Siracusa sera: [4, 2, 1]. \n",
    "\n"
   ]
  }
 ],
 "metadata": {
  "kernelspec": {
   "display_name": "Python 3",
   "language": "python",
   "name": "python3"
  },
  "language_info": {
   "codemirror_mode": {
    "name": "ipython",
    "version": 3
   },
   "file_extension": ".py",
   "mimetype": "text/x-python",
   "name": "python",
   "nbconvert_exporter": "python",
   "pygments_lexer": "ipython3",
   "version": "3.10.12"
  }
 },
 "nbformat": 4,
 "nbformat_minor": 2
}
