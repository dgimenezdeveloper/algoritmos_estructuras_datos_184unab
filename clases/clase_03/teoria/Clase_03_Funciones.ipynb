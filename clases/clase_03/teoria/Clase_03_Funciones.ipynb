{
 "cells": [
  {
   "cell_type": "markdown",
   "metadata": {},
   "source": [
    "# Algoritmos y Estructuras de Datos. \n",
    "\n",
    "## - Clase 3 - Funciones  -"
   ]
  },
  {
   "cell_type": "markdown",
   "metadata": {},
   "source": [
    "# Funciones"
   ]
  },
  {
   "cell_type": "markdown",
   "metadata": {},
   "source": [
    "\n",
    "Para definir una función usamos la palabra reservada <code>def</code>, luego escribimos la *'signatura'* de la función, esto es, el *nombre* de dicha función y los *parámetros* que recibe. Como siempre, debemos termina la line con <code> : </code> para indicar que a continuación habra un bloque de código. Obviamente, luego respetar la indentación.  \n",
    "\n",
    "\n",
    "## Definición\n",
    "\n",
    "Este es un prototipo tipico de la signatura de una función: \n",
    "\n",
    "<code>def nombreFunción(arg_1, ..., arg_r) : \n",
    "\n",
    "          {código de la función}\n",
    "          ...\n",
    "          {más código de la función}\n",
    "</code>\n",
    "\n",
    "Al igual que cualquier bloque de código indentado, debe contener al menos una linea, en otro caso deberemos escribir <code>pass</code> luego de los **_'_:_'_** .\n",
    " \n",
    "\n",
    "Algunas reglas basicas para definir funciones :\n",
    "\n",
    "- El *Nombre* de la función debe ser representativo (al igual que con los nombres de variable).\n",
    "\n",
    "- Puede aceptar tantos argumentos como sea necesario, incluso ninguno.\n",
    "\n",
    "- Siempre que llamamos una función debemos añadir los *parentesis* $()$, aunque la función no reciva parámetros.\n",
    "\n",
    "- Si no proveemos la cantidad correcta de argumentos, la función retornara un error del tipo **TypeError**. \n",
    "\n",
    "- Los argumentos no tienen un tipo definido. Para controlar que los argumentos sean del tipo esperado deberemos, tendremos que validar su tipo y en caso de error, utilizar <code>assert</code> e informar un *nuevo* tipo de error **TypeError** propio. \n",
    "\n",
    "- Para que la función retorne un valor $\\texttt{v}$ usaremos, usaremos el comando <code>return v</code>. \n",
    "\n",
    "- Luego del comando <code>return</code> es ejecutado, la función termina.  \n",
    "\n",
    "- Si no usamos el comando <code>return</code> en el cuerpo de la función, entonces el valor de la función del tipo **NoneType**. \n"
   ]
  },
  {
   "cell_type": "code",
   "execution_count": null,
   "metadata": {},
   "outputs": [],
   "source": [
    "# Cuál es la diferencia entre estas dos funciones?\n",
    "def HelloWorld1():\n",
    "    print(\"Hello world\")\n",
    "    \n",
    "def HelloWorld2():\n",
    "    return 12,\"Hello world\"\n",
    "    print(3)\n",
    "    \n",
    "HelloWorld1()\n",
    "HelloWorld2()"
   ]
  },
  {
   "cell_type": "markdown",
   "metadata": {},
   "source": [
    "## Modificación de los argumentos\n",
    "\n",
    "Dependiendo de si el argumento que le pasamos a la función es *mutable o no*, es posible modificar su contenido dentro de la función. A continuación veremos algunos ejemplos. \n"
   ]
  },
  {
   "cell_type": "code",
   "execution_count": null,
   "metadata": {},
   "outputs": [],
   "source": [
    "# Ejemplo definiendo la función 'incrementation'\n",
    "def incrementation(x,k):\n",
    "    x+=k\n",
    "    return x"
   ]
  },
  {
   "cell_type": "code",
   "execution_count": null,
   "metadata": {},
   "outputs": [],
   "source": [
    "y=3\n",
    "ret = incrementation(k=10,x=y) # Crea una variable 'x' con el valor de 'y', adiciona 10; x+=10\n",
    "                              # No-mutable: pasaje de parametro \"por copia\".  \n",
    "ret"
   ]
  },
  {
   "cell_type": "code",
   "execution_count": null,
   "metadata": {},
   "outputs": [],
   "source": [
    "# Ejemplo\n",
    "L=[1,'algo',3]\n",
    "incrementation(L,[2]) # Crea una variable 'x' con el valor de 'L', luego agrega el 2; x+=[2]\n",
    "                      # Mutables: pasaje de parametro \"por referencia\" \n",
    "print(L)"
   ]
  },
  {
   "cell_type": "code",
   "execution_count": null,
   "metadata": {},
   "outputs": [],
   "source": [
    "# Ejercicio: Escribir una función que cambie todos los valores de un diccionario por un 'string' nuevo. \n",
    "\n",
    "def change(dico,c):\n",
    "    for key in dico.keys():\n",
    "        dico[key]=c\n",
    "        \n",
    "dico={'k1' : 'algo1', 'k2' : 'algo2'}\n",
    "\n",
    "change(dico,'otrovalor')"
   ]
  },
  {
   "cell_type": "code",
   "execution_count": null,
   "metadata": {},
   "outputs": [],
   "source": [
    "dico"
   ]
  },
  {
   "cell_type": "markdown",
   "metadata": {},
   "source": [
    "Cambiar un argumento mutable en la definición de la función puede ser propenso a \"errores semanticos\" (ya que estamos cambiado los valores internos de la variable/argumento.\n"
   ]
  },
  {
   "cell_type": "markdown",
   "metadata": {},
   "source": [
    "## Funciónes y el \"alcanze\" (scope) de las variables\n",
    "\n",
    "El *alcanze* de una variable $\\texttt{v}$ es el conjunto de lineas de código, en donde la variable es comprendida. Es decir, donde el nombre de variable $\\texttt{v}$ esta asignado a un valor. A priori, es simple: \"*si la variable* $\\texttt{v}$ *esta definida en la linea* $n$ *el alcanze de la variable será cualquier linea* $m > n$ \".\n",
    "\n",
    "Esto se complica cuando introducimos funciones, estas pueden (o no) cambiar el alcanze de una variable. Esta situación se complica aún más cuando tenemos *funciones anidadas*, es decir, funciones dentro de otras funciones. A continuación veremos algunos ejemplos: \n"
   ]
  },
  {
   "cell_type": "code",
   "execution_count": null,
   "metadata": {},
   "outputs": [],
   "source": [
    "# Investigar en los siguientes ejemplos: - qué será impreso por pantalla? \n",
    "#                                        - cuál es el valor de x luego de cada llamada a una función? \n",
    "#                                        - habra algún mensaje de error?\n",
    "\n",
    "x=2\n",
    "\n",
    "def ExVar1():\n",
    "    print(x)\n",
    "    \n",
    "def ExVar2():\n",
    "    x=5\n",
    "    print(x)\n",
    "    \n",
    "def ExVar3():\n",
    "    x=5\n",
    "    \n",
    "    def ExVar11():\n",
    "        global x\n",
    "        print(x)\n",
    "        \n",
    "    ExVar11()    \n",
    "    print(x)\n",
    "    \n",
    "def ExVar4():\n",
    "    print(x)"
   ]
  },
  {
   "cell_type": "code",
   "execution_count": null,
   "metadata": {},
   "outputs": [],
   "source": [
    "ExVar4()"
   ]
  },
  {
   "cell_type": "markdown",
   "metadata": {},
   "source": [
    "La razón principal por la cual los variables tienen un alcanze predefinido es para evitar **efectos secundarios**. Es decir, cambiar los valores de variables que pasamos por argumento y afectar el resto del código. Por ello, por defecto, el alcanze de las variables es **dentro del cuerpo de la función**. Notar que aquellas variables **invocadasm pero que no están en el cuerpo de la función no existiran**.\n",
    "\n",
    "De esta menera podemos \"proteger\" las variables fuera de la función.\n",
    "\n",
    "Es posible cambiar este comportamiento por defecto. Debemos usar el comando $\\normalsize \\color{green}{\\textsf{ global }}$ o $\\normalsize \\color{green}{\\textsf{ nonlocal }}$. La diferencia entre ambos es sutil. Sea una variable $\\texttt{v}$, invocando $\\normalsize \\color{green}{\\textsf{ global }}$ $\\texttt{v}$ en el cuerpo de una función, $\\texttt{v}$ será usada como una variable global, perteneciente al código con mayor alcanze. El comando $\\normalsize \\color{green}{\\textsf{ nonlocal }}$ $\\texttt{v}$, la variable $\\texttt{v}$ será aquella cual alcanze es de **un nivel superioir**, es decir, en funciónes anidadas, aquella que tenga mayor alcanze.  \n",
    "\n",
    "Debemos notar que al utilizar $\\normalsize \\color{green}{\\textsf{ nonlocal }}$ en funciones recursivas, generara un error del tipo **SyntaxError**. \n"
   ]
  },
  {
   "cell_type": "code",
   "execution_count": null,
   "metadata": {},
   "outputs": [],
   "source": [
    "# Diferencia entre global y no-local\n",
    "def examplenothing():\n",
    "    x='changedinexample'\n",
    "    def insidenothing(): # inside... es una función definida dentro del alganze de example...\n",
    "        x='changedinside'\n",
    "    insidenothing()\n",
    "    print(\"la x en ejemplo... es \",x)\n",
    "\n",
    "def exampleglobal():\n",
    "    x='changedinexample'\n",
    "    def insideglobal():\n",
    "        global x        # x es una variable global en el alcaze de insideglobal. \n",
    "        x='changedinside'\n",
    "    insideglobal()\n",
    "    print(\"la x en ejemplo... es \",x)\n",
    "\n",
    "def examplenonlocal():\n",
    "    x='changedinexample'\n",
    "    def insidenonlocal():\n",
    "        nonlocal x      # x es una variable local a examplenonlocal\n",
    "        x='changedinside'\n",
    "    insidenonlocal()\n",
    "    print(\"la x en ejemplo... es \",x)"
   ]
  },
  {
   "cell_type": "code",
   "execution_count": null,
   "metadata": {},
   "outputs": [],
   "source": [
    "x='notchanged'\n",
    "examplenothing() # x no es cambiada en la primer función \n",
    "print(\"global x es \",x) # x no es cambiada globalmente\n",
    "print(5*'-')\n",
    "x='notchanged'\n",
    "exampleglobal() # x no es cambiada en la primer función\n",
    "print(\"global x es \",x) # x cambiada globalmente\n",
    "print(5*'-')\n",
    "x='notchanged'\n",
    "examplenonlocal() # x es cambiada en la primer función\n",
    "print(\"global x es \",x) # x no es cambiada de forma goblal\n",
    "print(5*'-')"
   ]
  },
  {
   "cell_type": "code",
   "execution_count": null,
   "metadata": {},
   "outputs": [],
   "source": [
    "# Diferencia entre global y no-local\n",
    "def examplenothing():\n",
    "    global x             #OK\n",
    "    x='changedinexample'\n",
    "    def insidenothing(): # inside... es una función definida dentro del alganze de example...\n",
    "        x='changedinside' # x no es global dentro del alcanze de insidenothing.\n",
    "    insidenothing()\n",
    "    print(\"la x en ejemplo... es \",x)\n",
    "\n",
    "def exampleglobal(): \n",
    "    global x             # OK\n",
    "    x='changedinexample'\n",
    "    def insideglobal():\n",
    "        global x         # aquí x es una variable global.\n",
    "        x='changedinside'\n",
    "    insideglobal()\n",
    "    print(\"la x en ejemplo... es \",x)\n",
    "\n",
    "def examplenonlocal():\n",
    "    #global x            # Problema! conflicto con \"non local\". \n",
    "    x='changedinexample'\n",
    "    def insidenonlocal():\n",
    "        nonlocal x       # aquí x una variable local de examplenonlocal\n",
    "        x='changedinside'\n",
    "    insidenonlocal()\n",
    "    print(\"la x en ejemplo... es \",x)"
   ]
  },
  {
   "cell_type": "code",
   "execution_count": null,
   "metadata": {},
   "outputs": [],
   "source": [
    "x='notchanged'\n",
    "examplenothing() # x no es cambiada en la primer función\n",
    "print(\"global x es \",x) # x es cambiada de manera global\n",
    "print(5*'-')\n",
    "x='notchanged'\n",
    "exampleglobal() # x no es cambiada en la primer función\n",
    "print(\"global x es \",x) # x es cambiada de manera global\n",
    "print(5*'-')\n",
    "x='notchanged'\n",
    "examplenonlocal()\n",
    "print(\"global x es \",x) # x es cambiada de manera global\n",
    "print(5*'-')"
   ]
  },
  {
   "cell_type": "markdown",
   "metadata": {},
   "source": [
    "## Argumentos posicionales y argumentos asignados\n",
    "\n",
    "\n",
    "En Python, las funciones, a priori, deben ser definidas con un número fijo de argumentos. Si nuestra función no recive la cantidad correcta de argumentos obtendremos un error del tipo **TypeError**. \n",
    "\n",
    "Podemos definir los argumentos de dos formas: \n",
    "\n",
    "- (argumento) **posicional**: el orden de los argumentos es importante.\n",
    "- (argumento) **asignado**: podemos asignar valores, ya sea por defecto, o mediante asignacion directa en la llamada de la función. \n"
   ]
  },
  {
   "cell_type": "code",
   "execution_count": null,
   "metadata": {},
   "outputs": [],
   "source": [
    "print('c','g',end=\" ** \",sep=\"*\") # 'c' es un argumento posicional, mientras que, \n",
    "                                  # 'end'('endofthe[...]printline') y 'sep' son argumentos asignados. \n",
    "print('g','c')"
   ]
  },
  {
   "cell_type": "markdown",
   "metadata": {},
   "source": [
    "También podemos dar valores por defecto a nuestros argumentos. Escribimos de la forma:\n",
    "\n",
    "<code>def func(posarg_1, ..., posarg_r, kwarg_1 = vk_1, ..., kwarg_s = vk_s) :</code> \n",
    "\n",
    "los argumentos <code>posarg_1, ..., posarg_r</code> serán argumentos posicionales, sin valores por defecto, mientras que <code>vk_1, ..., vk_s</code> tendrán valores por defecto. \n"
   ]
  },
  {
   "cell_type": "code",
   "execution_count": null,
   "metadata": {},
   "outputs": [],
   "source": [
    "# Un simple ejemplo son solo argumentos posicionales\n",
    "def Displayingarguments1(a,b,c):\n",
    "    \"Muestra los argumentos uno por linea\"\n",
    "    print(\"argumento posicional a es \",a)\n",
    "    print(\"argumento posicional b es \",b)\n",
    "    print(\"argumento posicional c es \",c)"
   ]
  },
  {
   "cell_type": "code",
   "execution_count": null,
   "metadata": {},
   "outputs": [],
   "source": [
    "Displayingarguments1('si',(1,2,3),'no') # ok!"
   ]
  },
  {
   "cell_type": "code",
   "execution_count": null,
   "metadata": {},
   "outputs": [],
   "source": [
    "# No podemos llamar posicionales como argumentos asignados \n",
    "Displayingarguments1((1,2,3), b='si',c='no')"
   ]
  },
  {
   "cell_type": "code",
   "execution_count": null,
   "metadata": {},
   "outputs": [],
   "source": [
    "# Debemos proveeer algunos de los argumentos posicionales (primero)\n",
    "Displayingarguments1('si',(1,2,3))"
   ]
  },
  {
   "cell_type": "code",
   "execution_count": null,
   "metadata": {},
   "outputs": [],
   "source": [
    "# Todos los que creamos necesarios\n",
    "Displayingarguments1('si',(1,2,3),'no',3)"
   ]
  },
  {
   "cell_type": "code",
   "execution_count": null,
   "metadata": {},
   "outputs": [],
   "source": [
    "# No podemos asignar mas de un valor a b\n",
    "Displayingarguments1('si',(1,2,3),'no',b=(1,2))"
   ]
  },
  {
   "cell_type": "code",
   "execution_count": null,
   "metadata": {},
   "outputs": [],
   "source": [
    "# No es posible poner argumentos posicionales luego de un argumento asignado\n",
    "Displayingarguments1('si',b=(1,2,3),'no')"
   ]
  },
  {
   "cell_type": "code",
   "execution_count": null,
   "metadata": {},
   "outputs": [],
   "source": [
    "def Displayingarguments2(a,b,c,kw1='defautkw1',kw2='defautkw2',kw3='defautkw3'):# Un ejemplo con ambos.\n",
    "    \n",
    "    \"Muestra los argumentos uno por linea\"\n",
    "    print(\"argumento posicional a es \",a)\n",
    "    print(\"argumento posicional b es \",b)\n",
    "    print(\"argumento posicional c es \",c)\n",
    "    print(\"argumento asignado kw1 es \",kw1)\n",
    "    print(\"argumento asignado kw2 es \",kw2)\n",
    "    print(\"argumento asignado kw3 es \",kw3)"
   ]
  },
  {
   "cell_type": "code",
   "execution_count": null,
   "metadata": {},
   "outputs": [],
   "source": [
    "Displayingarguments2('si',(1,2,3),'no','algo',3,'nada') # Todos los argumentos son dados de manera posicional"
   ]
  },
  {
   "cell_type": "code",
   "execution_count": null,
   "metadata": {},
   "outputs": [],
   "source": [
    "Displayingarguments2('si',(1,2,3),'no') # Solo los argumentos posicionales son llamados,\n",
    "                                        # los argumentos asignados obtendran valores por defecto"
   ]
  },
  {
   "cell_type": "code",
   "execution_count": null,
   "metadata": {},
   "outputs": [],
   "source": [
    "Displayingarguments2('si',(1,2,3),'no','algo', kw3='nada')  # los argumentos posicionales son lamados de esa manera\n",
    "                                                            # kw1 es llamado como argumento posicional\n",
    "                                                            # kw2 es dado su valor por defecto\n",
    "                                                            # kw3 es llamado como argumento asignado"
   ]
  },
  {
   "cell_type": "code",
   "execution_count": null,
   "metadata": {},
   "outputs": [],
   "source": [
    "# No es posible pasar argumentos por asignación, antes de los posicionales (o mezclados) \n",
    "Displayingarguments2('si',(1,2,3),'no', kw3='nada','algo')"
   ]
  },
  {
   "cell_type": "code",
   "execution_count": null,
   "metadata": {},
   "outputs": [],
   "source": [
    "def Displayingarguments3(a,b,c,kw=[]):     # Ejemplo con un argumento mutable (la lista 'kw')\n",
    "    \"Muestra los argumentos uno por linea\"\n",
    "    print(\"argumento posicional a es \",a)\n",
    "    print(\"argumento posicional b es \",b)\n",
    "    print(\"argumento posicional c es \",c)\n",
    "    print(\"argumento asignado kw es \",kw)\n",
    "    kw.append(1)"
   ]
  },
  {
   "cell_type": "code",
   "execution_count": null,
   "metadata": {},
   "outputs": [],
   "source": [
    "Displayingarguments3(1,2,3) # El valor de 'kw' es cambiado!"
   ]
  },
  {
   "cell_type": "code",
   "execution_count": null,
   "metadata": {},
   "outputs": [],
   "source": [
    "def Displayingarguments4(a,b,c,kw=None):# Un ejemplo con argumentos mutables\n",
    "                                        \n",
    "    \"Mostar los argumentos, uno por linea\"\n",
    "    if kw is None:\n",
    "        kw=[]\n",
    "    print(\"argumento posicional a es \",a)\n",
    "    print(\"argumento posicional b es \",b)\n",
    "    print(\"argumento posicional c es \",c)\n",
    "    print(\"argumento asignado kw is \",kw)\n",
    "    kw.append(1)"
   ]
  },
  {
   "cell_type": "code",
   "execution_count": null,
   "metadata": {},
   "outputs": [],
   "source": [
    "Displayingarguments4(1,2,3) # ok."
   ]
  },
  {
   "cell_type": "code",
   "execution_count": null,
   "metadata": {},
   "outputs": [],
   "source": [
    "# Ejercicio : Escribir una función \"cambio\" que tiene un argumento posicional (un string) y otros dos argumentos \n",
    "# la cual cambie las palabras las dos palabras recibidas como argumento en el string.\n",
    "# Por defecto debe cambiar los espacios \" \", por asteriscos \"*\".\n",
    "\n",
    "def cambio(stringtobechanged,firstchar=' ',secchar='*'):\n",
    "    res=''\n",
    "    for c in stringtobechanged:\n",
    "        if c==firstchar:\n",
    "            res+=secchar\n",
    "        else:\n",
    "            res+=c\n",
    "    return res\n",
    "x='este es el string a ser modificado'\n",
    "cambio(x,secchar='s')"
   ]
  },
  {
   "cell_type": "markdown",
   "metadata": {},
   "source": [
    "** Los nombres de los argumentos importantes merecen un monbre apropiado (descriptivo) **"
   ]
  },
  {
   "cell_type": "code",
   "execution_count": null,
   "metadata": {},
   "outputs": [],
   "source": [
    "def reverseornot(stringofchar,rev=True):\n",
    "    if rev:\n",
    "        print(stringofchar[::-1])\n",
    "    else:\n",
    "        print(stringofchar)\n",
    "reverseornot(x,rev=False)"
   ]
  },
  {
   "cell_type": "markdown",
   "metadata": {},
   "source": [
    "## El comando Yield\n",
    "\n",
    "Ya hemos visto el objeto $\\normalsize \\color{green}{\\textsf{ range }}$, el cual no contiene objetos en si mismo, pero tiene un *'tipo especial'*. Además de ser un objeto **iterable**, es decir, podremos recorrerlo usando un ciclo $\\normalsize \\color{green}{\\textsf{ for }}$, por ejemplo. Un rango, debe ser comprendido como una *'lista potencial'*. \n",
    "\n",
    "\n",
    "La diferencia tecnica radica en lo siguiente. Veamos la lista $\\texttt{L = [ 0,} \\dots , 10^{1000} - 1 ]$, es un objeto que ocupara mucha memoria, mientras que $\\normalsize \\color{green}{\\textsf{ range }}(10^{1000} - 1) $ será visto como: \"*comenzar en 0 y contar hasta* $10^{10000}-1$ \". Cuando recorremos la lista $\\texttt{ L }$ usando un rango, *iteraremos sobre el rango*, es decir, se generaran las variables indices automaticamente y de a una, primero  $\\texttt{ x=0 }$, luego $\\texttt{ x=1 }$, y así sucesivamente. \n"
   ]
  },
  {
   "cell_type": "code",
   "execution_count": null,
   "metadata": {},
   "outputs": [],
   "source": [
    "L=[i for i in range(10)]# Creación de la lista [0,1,2,3,4,5,6,7,8,9]\n",
    "for x in L:             # Recorremoms la lista: x=0, x=1,... x=9\n",
    "    print(x,end=\",\")\n",
    "print(\"\")\n",
    "for x in range(10): # x=0 luego x+=1, x+=1, ... hasta concluir en x=10\n",
    "    print(x,end=\",\")\n",
    "print(\"\")"
   ]
  },
  {
   "cell_type": "code",
   "execution_count": null,
   "metadata": {},
   "outputs": [],
   "source": [
    "gen1=(x*x for x in range(10))\n",
    "type(gen1)\n",
    "gen1"
   ]
  },
  {
   "cell_type": "markdown",
   "metadata": {},
   "source": [
    "El comando $\\normalsize \\color{green}{\\textsf{ yield }}$ nos permite crear objetos más generales. Los llamaremos **generadores**. \n"
   ]
  },
  {
   "cell_type": "code",
   "execution_count": null,
   "metadata": {},
   "outputs": [],
   "source": [
    "def generateur(N):\n",
    "    myrange=range(N)\n",
    "    for i in myrange:\n",
    "        print(10*\"--\")\n",
    "        print(\"Paso: \",i) # Cuándo generamos i*i?\n",
    "        print(10*\"--\")\n",
    "        yield i*i   # El comando yield tiene el mismo 'status' que el comando return.\n",
    "gen2=generateur(10) # No es una lista de cuadrados.\n",
    "print(\"gen2 ha generado alguna salida?\")\n",
    "for i in gen2:\n",
    "    print(i)"
   ]
  },
  {
   "cell_type": "markdown",
   "metadata": {},
   "source": [
    "## Funciones Recursivas\n",
    "\n",
    "Python nos permite una declaración sencilla de **funciones recursivas**, solamente debemos llamar a la función, dentro del cuerpo de la (misma) función. Debe destacarse, que siempre debemos tratar el *caso base*, o inical de manera especial, ya que sino, la función prodria no terminar. Por ejemplo: podemos manejar el caso base utilizando un  $\\normalsize \\color{green}{\\textsf{ if }}$, como veremos a continuación.\n"
   ]
  },
  {
   "cell_type": "code",
   "execution_count": null,
   "metadata": {},
   "outputs": [],
   "source": [
    "# Secuencia de Fibonacci. 1,1,2,3,5,8,13,21,34,55,89,144,233,377,610,...\n",
    "def Fibo(n):\n",
    "    \"Definición: F(n)=F(n-1)+F(n-2), F(1)=F(0)=1\"\n",
    "    if n<0:\n",
    "        raise ValueError(\"Fibonacci terms begin at 0\") # sin este error, Fibo(-1) etrara en un ciclo eterno.\n",
    "    if n==0:\n",
    "        return 1 # Primer caso base\n",
    "    elif n==1:\n",
    "        return 1 # Segundo caso base\n",
    "    else:\n",
    "        return Fibo(n-1)+Fibo(n-2) # Esta es la llamada recursiva"
   ]
  },
  {
   "cell_type": "code",
   "execution_count": null,
   "metadata": {},
   "outputs": [],
   "source": [
    "print(Fibo(5))"
   ]
  },
  {
   "cell_type": "code",
   "execution_count": null,
   "metadata": {},
   "outputs": [],
   "source": [
    "# Calculo recursivo del factorial de un número n.\n",
    "# n!= n * (n-1) * (n-2) * ... * 1\n",
    "# n!= n * (n-1)!\n",
    "def factorial(n):\n",
    "    if type(n) is not int:\n",
    "        raise ValueError(\"N debe ser un numero entero\")\n",
    "    elif n <0 :\n",
    "        raise ValueError(\"N debe ser mayor a 0\")\n",
    "    elif n<=1:\n",
    "        return 1\n",
    "    else: \n",
    "        return factorial(n-1)* n"
   ]
  },
  {
   "cell_type": "code",
   "execution_count": null,
   "metadata": {},
   "outputs": [],
   "source": [
    "factorial(4)"
   ]
  },
  {
   "cell_type": "code",
   "execution_count": null,
   "metadata": {},
   "outputs": [],
   "source": [
    "[Fibo(n) for n in range(0,10)] # Para n>30 la performace es muy lenta. "
   ]
  },
  {
   "cell_type": "markdown",
   "metadata": {},
   "source": [
    "El uso de funciones recursivas no debe ser abusado. Este tipo de funciones nos permite la facilidad de escritura de una función, aunque generalmente requieren el uso de mucha memoria. *(Luego veremos cómo mejorar esto)*.\n"
   ]
  },
  {
   "cell_type": "code",
   "execution_count": null,
   "metadata": {},
   "outputs": [],
   "source": [
    "# Ejemplo: Fibonacci Iterativo\n",
    "def Fiboiter(n):\n",
    "    if n<0:\n",
    "        raise ValueError(\"La secuencia de Fibonacci comienza en '0'\") # si no comprabos que el parámetro es un \n",
    "                                                                      # nro. entero, por ejemplo, llamar a Fibo(-1) \n",
    "                                                                      # causara que la función nunca termine.\n",
    "    elif n==0:\n",
    "        return 1 # Primer caso base\n",
    "    elif n==1:\n",
    "        return 1 # Segundo caso base\n",
    "    else:\n",
    "        x=1 # elemento 0\n",
    "        y=1 # elemento 1ro\n",
    "        for i in range(1,n):\n",
    "            # elemento 'x' i-1-esimo, e 'y' sera el i-esimo elemento\n",
    "            x,y=y,x+y\n",
    "            # elemento 'x' i-esimo, e 'y' sera el i+1-esimo elemento\n",
    "        return y\n",
    "\n"
   ]
  },
  {
   "cell_type": "code",
   "execution_count": null,
   "metadata": {},
   "outputs": [],
   "source": [
    "N=10\n",
    "print(Fibo(N),\"=\",Fiboiter(N))"
   ]
  },
  {
   "cell_type": "code",
   "execution_count": null,
   "metadata": {},
   "outputs": [],
   "source": [
    "Fibo(40)"
   ]
  },
  {
   "cell_type": "code",
   "execution_count": null,
   "metadata": {},
   "outputs": [],
   "source": [
    "Fiboiter(100)"
   ]
  },
  {
   "cell_type": "code",
   "execution_count": null,
   "metadata": {},
   "outputs": [],
   "source": [
    "# Secuencia de Fibonacci contando la cantidad de llamaradas recursivas\n",
    "t=0\n",
    "def Fibo(n):\n",
    "    \"\"\"n debe ser un número entero \n",
    "    \"F(n)=F(n-1)+F(n-2), F(1)=F(0)=1\"\"\"\n",
    "    global t # la variable t será considerada como global\n",
    "    t+=1     # hacemos algo con t\n",
    "    if n<0:\n",
    "        raise ValueError(\"Fibonacci terms begin at 0\") \n",
    "    elif n==0:\n",
    "        return 1 \n",
    "    elif n==1:\n",
    "        return 1 \n",
    "    else:\n",
    "        return Fibo(n-1)+Fibo(n-2)\n",
    "# Es posible estimar la cantidad de llamadas a la función? "
   ]
  },
  {
   "cell_type": "code",
   "execution_count": null,
   "metadata": {},
   "outputs": [],
   "source": [
    "help(Fibo)"
   ]
  },
  {
   "cell_type": "code",
   "execution_count": null,
   "metadata": {},
   "outputs": [],
   "source": [
    "t=0\n",
    "2*Fibo(20)-1"
   ]
  },
  {
   "cell_type": "code",
   "execution_count": null,
   "metadata": {},
   "outputs": [],
   "source": [
    "t"
   ]
  },
  {
   "cell_type": "markdown",
   "metadata": {},
   "source": [
    "## Añadir nuestra función al comando \"help\"\n",
    "\n",
    "Si queremos añadir texto el cual será impreso cuando llamamos a la función $\\normalsize \\color{green}{\\textsf{ help }}$, simplemente debemos escribir una(s) linea(s) de texto luego de la definición de nustra función.\n"
   ]
  },
  {
   "cell_type": "code",
   "execution_count": null,
   "metadata": {},
   "outputs": [],
   "source": [
    "def nicelydocumented():\n",
    "    \"Esta función devuelve TRUE siempre.\" # Comentario para la función help.\n",
    "    \"Esta linea no será vista\" # Esta linea no se mostrara.\n",
    "    return True"
   ]
  },
  {
   "cell_type": "code",
   "execution_count": null,
   "metadata": {},
   "outputs": [],
   "source": [
    "nicelydocumented()"
   ]
  },
  {
   "cell_type": "code",
   "execution_count": null,
   "metadata": {},
   "outputs": [],
   "source": [
    "help(nicelydocumented)"
   ]
  },
  {
   "cell_type": "markdown",
   "metadata": {},
   "source": [
    "Como hemos visto en la definición de la función $\\texttt{Fibo( n )}$, es posible escribir más de una linea de texto, utilizando cualquier método para escribir strings largos (i.e. triple comillas o la barra al final de cada linea).  "
   ]
  }
 ],
 "metadata": {
  "kernelspec": {
   "display_name": "Python 3.8.3 ('base')",
   "language": "python",
   "name": "python3"
  },
  "language_info": {
   "codemirror_mode": {
    "name": "ipython",
    "version": 3
   },
   "file_extension": ".py",
   "mimetype": "text/x-python",
   "name": "python",
   "nbconvert_exporter": "python",
   "pygments_lexer": "ipython3",
   "version": "3.7.4"
  },
  "vscode": {
   "interpreter": {
    "hash": "978c24f93c4c2a30777431976816ca704cb2b770ace170cd9b73c82027942831"
   }
  }
 },
 "nbformat": 4,
 "nbformat_minor": 2
}
