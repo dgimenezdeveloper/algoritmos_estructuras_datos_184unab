{
 "cells": [
  {
   "cell_type": "markdown",
   "metadata": {
    "id": "8jJBoDR9AQYM"
   },
   "source": [
    "# Algoritmos y Estructuras de Datos. \n",
    "\n",
    "## - Clase 10 - Algoritmos de Busqueda y Ordenamiento - "
   ]
  },
  {
   "cell_type": "markdown",
   "metadata": {
    "id": "o9QNdxZ3AQYW"
   },
   "source": [
    "## Ejercicios"
   ]
  },
  {
   "cell_type": "markdown",
   "metadata": {
    "id": "vrg65VXSAQYX"
   },
   "source": [
    "### Ejercicio 1: Búsqueda Ternaria\n",
    "\n",
    "link: https://es.wikipedia.org/wiki/B%C3%BAsqueda_ternaria\n",
    "\n",
    "La **búsqueda ternaria** determina que el extremo que se busca, no puede estar en el primer tercio del dominio o que no puede estar en el último tercio del dominio, luego se repite el proceso en los dos tercios restantes. Es decir, dividiremos la lista en 3 *'sub-listas'*. \n",
    "\n",
    "    a) Implementar el Algoritmo de Búsqueda Ternaria.\n"
   ]
  },
  {
   "cell_type": "markdown",
   "metadata": {
    "id": "dtlRuhVXAQYY"
   },
   "source": [
    "### Ejercicio 2: Buble Sort \n",
    "\n",
    "link: https://sites.google.com/site/programacioniiuno/temario/unidad-6---anlisis-de-algoritmos/algoritmo-bubblesort\n",
    "El algoritmo de ordenamiento por burbujeo (o bubblesort) es un algoritmo \"simple\" de ordenamiento. La idea es que se van a comparar pares consecutivos de elementos, y en caso en que estén desordenados, es decir que el primer elemento (izquierda) sea mayor al segundo (derecha), se hará un intercambio de posiciones.\n",
    "\n",
    "Entonces, si tenemos que comparar cada elemento con el siguiente, podríamos pensar que el algoritmo es:\n",
    "\n",
    "Iterar cada elemento de la lista (hasta el anteúltimo), e ir comparándolo con el siguiente.\n",
    "Cambiarlos de posiciones si están desordenados\n",
    "\n",
    "Entonces, no nos alcanza con una única iteración. Así que hacemos otra implementación del algoritmo que haga lo mismo que la anterior, solo que varias veces. Cuántas ? N, donde N es la cantidad de elementos que tiene la lista.\n",
    "\n",
    "<img src=\"https://drive.google.com/uc?id=1INViHe9uLtR3atFoLKl_D6UCzyX4ex4G\" align=\"right\" />\n",
    "\n",
    "Algoritmo de ordenamiento. Burbuja(Bubble Sort en inglés) es un sencillo algoritmo de ordenamiento. Funciona revisando cada elemento de la lista que va a ser ordenada con el siguiente, intercambiándolos de posición si están en el orden equivocado. Es necesario revisar varias veces toda la lista hasta que no se necesiten más intercambios, lo cual significa que la lista está ordenada. Este algoritmo obtiene su nombre de la forma con la que suben por la lista los elementos durante los intercambios, como si fueran pequeñas burbujas. También es conocido como el método del intercambio directo. Dado que solo usa comparaciones para operar elementos, se lo considera un algoritmo de comparación, siendo el más sencillo de implementar.\n",
    "\n",
    "    a) Implementar el Algoritmo de Ordenamiento Burbuja. "
   ]
  },
  {
   "cell_type": "markdown",
   "metadata": {
    "id": "x0aua9JvAQYa"
   },
   "source": [
    "![title](img/bubbleSort.gif)"
   ]
  },
  {
   "cell_type": "markdown",
   "metadata": {
    "id": "MkhPNMFqAQYa"
   },
   "source": [
    "### Ejercicio 3:  Ordenamiento Shell (Shell Sort)\n",
    "\n",
    "link: https://es.wikipedia.org/wiki/Ordenamiento_Shell\n",
    "\n",
    "El Shell sort es una generalización del ordenamiento por inserción, teniendo en cuenta dos observaciones:\n",
    "\n",
    "1) El ordenamiento por inserción es eficiente si la entrada está \"casi ordenada\".\n",
    "\n",
    "2) El ordenamiento por inserción es ineficiente, en general, porque mueve los valores solo una posición cada vez.\n",
    "\n",
    "\n",
    "El algoritmo Shell sort mejora el ordenamiento por inserción comparando elementos separados por un espacio de varias posiciones. Esto permite que un elemento haga \"pasos más grandes\" hacia su posición esperada. Los pasos múltiples sobre los datos se hacen con tamaños de espacio cada vez más pequeños. El último paso del Shell sort es un simple ordenamiento por inserción, pero para entonces, ya está garantizado que los datos del vector están casi ordenados.\n",
    "\n",
    "\n",
    "    a) Implementar el Algoritmo de Ordenamiento Shell. "
   ]
  },
  {
   "cell_type": "markdown",
   "metadata": {
    "id": "QSXlbqqIAQYg"
   },
   "source": [
    "### Ejercicio 4: Quick Sort Mejorado,\n",
    "\n",
    "\n",
    "Implemnetar el algoritmo de ordenamiento Quick Sort, utlizando el método de *'mediana de tres'* para la selección del pviote. \n",
    "\n"
   ]
  }
 ],
 "metadata": {
  "colab": {
   "collapsed_sections": [],
   "name": "Clase_6_PRACTICA.ipynb",
   "provenance": []
  },
  "kernelspec": {
   "display_name": "Python 3",
   "language": "python",
   "name": "python3"
  },
  "language_info": {
   "codemirror_mode": {
    "name": "ipython",
    "version": 3
   },
   "file_extension": ".py",
   "mimetype": "text/x-python",
   "name": "python",
   "nbconvert_exporter": "python",
   "pygments_lexer": "ipython3",
   "version": "3.8.3"
  }
 },
 "nbformat": 4,
 "nbformat_minor": 1
}
