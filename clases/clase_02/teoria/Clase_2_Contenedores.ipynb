{
 "cells": [
  {
   "cell_type": "markdown",
   "metadata": {
    "slideshow": {
     "slide_type": "slide"
    }
   },
   "source": [
    "# Algoritmos y Estructuras de Datos. \n",
    "\n",
    "## - Clase 1 - Parte 2 - Contenedores - "
   ]
  },
  {
   "cell_type": "markdown",
   "metadata": {
    "slideshow": {
     "slide_type": "slide"
    }
   },
   "source": [
    "Cuerpo Docente: Dr. Diego Agustín Ambrossio. \n",
    "\n",
    "Material adaptado de la cátedra \"Introduction to Programming\" de la Université du Luxembourg. \n",
    "Gracias a mis estimados colegas Dr. Giovanni Casini (ISTI-CNR) y Dr. Xavier Parent (TU Wien). "
   ]
  },
  {
   "cell_type": "markdown",
   "metadata": {
    "slideshow": {
     "slide_type": "slide"
    }
   },
   "source": [
    "En la lección anterior hemos visto:\n",
    "\n",
    "- Algunos typos de datos basicos:\n",
    "    - Enteros Integers (int)\n",
    "    - Números Reales (float)\n",
    "    - Valores Booleanos (bool)\n",
    "    - Cademas de caracteres (strings, 'str')\n",
    "    \n",
    "- Algunas Funciones:\n",
    "    - input\n",
    "    - print\n",
    "\n",
    "- Condicionales: $\\normalsize \\color{green}{\\textsf{if, elif, else}}$\n"
   ]
  },
  {
   "cell_type": "markdown",
   "metadata": {
    "slideshow": {
     "slide_type": "slide"
    }
   },
   "source": [
    "Hoy veremos los siguiente:\n",
    "\n",
    "-  Más de Tipos de Datos:\n",
    "    - Cademas de caracterres (strings, 'str')\n",
    "    - Tuplas (tuple)\n",
    "    - Conjuntos (set)\n",
    "    - Diccionarios (dict)\n",
    "    - Listas\n",
    "    \n",
    "- Definición y uso de Rangos\n",
    "- Ciclos y Repeticiones $\\normalsize \\color{green}{\\textsf{for, while}}$\n",
    "- Direfencias entre ${\\textit funciones}$ y ${\\textit métodos}$ \n"
   ]
  },
  {
   "cell_type": "markdown",
   "metadata": {
    "slideshow": {
     "slide_type": "skip"
    }
   },
   "source": [
    "## Cadena de Carácteres (Strings)"
   ]
  },
  {
   "cell_type": "markdown",
   "metadata": {
    "slideshow": {
     "slide_type": "skip"
    }
   },
   "source": [
    "Una cadena de carácteres (string) es una secuencia ordenada de carácteres. El $i$-ésimo elemento del string $\\texttt{c}$ puede ser accessado (siempre que el índice no este furea de rango) escribiendo $\\texttt{c[i]}$. \n"
   ]
  },
  {
   "cell_type": "code",
   "execution_count": null,
   "metadata": {
    "slideshow": {
     "slide_type": "skip"
    }
   },
   "outputs": [],
   "source": [
    "c='Introducción'\n",
    "print(c[1],c[2],c[3],c[4],c[5])# Los índices comienzan en 0. \n",
    "print(c[-1]) # Python nos permite el uso de 'indices negativos'. "
   ]
  },
  {
   "cell_type": "markdown",
   "metadata": {
    "slideshow": {
     "slide_type": "skip"
    }
   },
   "source": [
    "**En Python, todos los indices comienzan en 0**. "
   ]
  },
  {
   "cell_type": "code",
   "execution_count": null,
   "metadata": {
    "slideshow": {
     "slide_type": "skip"
    }
   },
   "outputs": [],
   "source": [
    "len(c) # La función len nos devuelve la longitud (cardinalidad) del contenedor."
   ]
  },
  {
   "cell_type": "code",
   "execution_count": null,
   "metadata": {
    "slideshow": {
     "slide_type": "skip"
    }
   },
   "outputs": [],
   "source": [
    "c='Ejemplo'\n",
    "print(' ',c[0],c[1],c[2],c[3],c[4],c[5],c[6])\n",
    "print(' ',0,1,2,3,4,5,6)\n",
    "print('-',7,6,5,4,3,2,1)"
   ]
  },
  {
   "cell_type": "code",
   "execution_count": null,
   "metadata": {
    "slideshow": {
     "slide_type": "skip"
    }
   },
   "outputs": [],
   "source": [
    "c ='Ejemplo'\n",
    "d = c + ' de unión de carácteres' # El commando '+' applicado a una cadena de carácteres \n",
    "                             # es usado para la concatenación.\n",
    "d"
   ]
  },
  {
   "cell_type": "markdown",
   "metadata": {
    "slideshow": {
     "slide_type": "skip"
    }
   },
   "source": [
    "Ya habrán notado que para definir cadenas de carácteres podemos usar comillas simples $\\texttt{' '}$ o comillas dobles $\\texttt{\" \"}$. No hay diferencia entre ambas de manera formal. Sin embargo, la convención normal es la siguiente:\n",
    "\n",
    "- Utilizamos comillas dobles cuando queremos imprimir una frase, e.g. $\\normalsize \\color{green}{\\textsf{print}}$ o $\\normalsize \\color{green}{\\textsf{input}}$.\n",
    "\n",
    "- Utilizamos comillas simples cuando definimoms una variable del tipo cadena de carácteres.\n"
   ]
  },
  {
   "cell_type": "code",
   "execution_count": null,
   "metadata": {
    "slideshow": {
     "slide_type": "skip"
    }
   },
   "outputs": [],
   "source": [
    "#Uso de una, dos, o tres comillas simples, ó dobles.\n",
    "c='un string'\n",
    "print(c)\n",
    "c=\"un string\" #comillas simples, ó dobles, tienen el mismo efecto.\n",
    "print(c)\n",
    "\n",
    "c='''un string muy muy muy muy muy muy muy muy \n",
    "muy muy muy muy muy muy muy muy\n",
    "muy muy muy muy muy muy muy muy largo '''   #Las triple comillas nos permite agregar de forma directa\n",
    "                                            #un salto de linea.\n",
    "print(c)\n",
    "c=\"\"\"un string muy muy muy muy muy muy muy muy \n",
    "muy muy muy muy muy muy muy muy\n",
    "muy muy muy muy muy muy muy muy largo \"\"\"\n",
    "print(c)"
   ]
  },
  {
   "cell_type": "code",
   "execution_count": null,
   "metadata": {
    "slideshow": {
     "slide_type": "skip"
    }
   },
   "outputs": [],
   "source": [
    "#Pertenencia, ulitzamos el operador \"in\"\n",
    "\n",
    "print('s' in c)\n",
    "print('z' in c)"
   ]
  },
  {
   "cell_type": "markdown",
   "metadata": {
    "slideshow": {
     "slide_type": "skip"
    }
   },
   "source": [
    "**No se puede** cambiar el valor del contenido del la variable $\\texttt{c}$, mediante indexación. "
   ]
  },
  {
   "cell_type": "code",
   "execution_count": null,
   "metadata": {
    "slideshow": {
     "slide_type": "skip"
    }
   },
   "outputs": [],
   "source": [
    "#La asignación de un valor utilizando el indice esta prohibido.\n",
    "c[2]='s'"
   ]
  },
  {
   "cell_type": "code",
   "execution_count": null,
   "metadata": {
    "slideshow": {
     "slide_type": "skip"
    }
   },
   "outputs": [],
   "source": [
    "#Pdemos accedder a un sub-conjunto de los valores del string. \n",
    "print(c)\n",
    "c[2:10]"
   ]
  },
  {
   "cell_type": "markdown",
   "metadata": {
    "slideshow": {
     "slide_type": "skip"
    }
   },
   "source": [
    "Aquí podemos ver alunos métodos útiles (para más información ulilizar la función $\\normalsize \\color{green}{\\textsf{help}}\\texttt{(str)}$ o referirse a la documentación de Python).\n",
    "Sea $\\texttt{c}$ una cadena de carácteres:\n",
    "\n",
    "- $\\texttt{c * n}$ (donde $\\texttt{n}$ es un entero) retornará $\\texttt{n}$ copias de $\\texttt{c}$ concatenadas. Es equivalente a $\\underbrace{\\texttt{c + } \\cdots \\texttt{ + c}}_{\\texttt{n } \\text{ veces}}$. \n",
    "\n",
    "- $c.\\texttt{find('car')}$  retorna el primer indice $\\texttt{i}$ (si es que existe) para el cual $\\texttt{c[i]='car'}$. \n",
    "\n",
    "- Pdemos comparar cadenas de carácteres. Se utilizara el ordern lexicográfico.\n",
    "\n",
    "- $\\texttt{c.count(st)}$ cuenta el número de occurrencias del string $\\texttt{st}$ en $\\texttt{c}$ (sin contar los que se superponen). \n",
    "\n",
    "- $\\texttt{c.replace(st1,st2)}$ retornará una copia de $\\texttt{c}$ donde cada ocurrencia del string $\\texttt{'st1'}$ ha sido reeplazada por $\\texttt{'st2'}$."
   ]
  },
  {
   "cell_type": "code",
   "execution_count": null,
   "metadata": {
    "slideshow": {
     "slide_type": "skip"
    }
   },
   "outputs": [],
   "source": [
    "#Ejemplos\n",
    "c=3*'11'\n",
    "print(c)\n",
    "c.count('11')"
   ]
  },
  {
   "cell_type": "code",
   "execution_count": null,
   "metadata": {
    "slideshow": {
     "slide_type": "skip"
    }
   },
   "outputs": [],
   "source": [
    "c=c.replace('11','ab')"
   ]
  },
  {
   "cell_type": "code",
   "execution_count": null,
   "metadata": {
    "slideshow": {
     "slide_type": "skip"
    }
   },
   "outputs": [],
   "source": [
    "#El método \"format\" nos permite realizar inseciones en un string. \n",
    "\n",
    "c=\"Los enteros {1} y {0} son pares. {1} \"\n",
    "\n",
    "print(c.format(2,4)) # Inserta los valores en el string, en el lugar reservado\n",
    "                     # por el número de argumento entre llaves.\n",
    "    \n",
    "c=\"Los enteros {} y {} son pares. {} \"\n",
    "print(c.format(0,2,'algo'))  # Inserción directa (posicional) de valores en un string. \n"
   ]
  },
  {
   "cell_type": "markdown",
   "metadata": {
    "slideshow": {
     "slide_type": "skip"
    }
   },
   "source": [
    "# Definición de Contenedores"
   ]
  },
  {
   "cell_type": "markdown",
   "metadata": {
    "slideshow": {
     "slide_type": "skip"
    }
   },
   "source": [
    "Informalmente, un *'contenedor'* es un \"tipo de objeto\" que contiene *'objetos'*. Python nos provee con distintos tipos de contenedores predefinidos.  \n",
    "\n",
    "A continuación veremos algunas propiedades de los contenedores más usados. Finalmente, haremos una rápida comparación de estos distintos tipos de estructuras de datos.   \n"
   ]
  },
  {
   "cell_type": "markdown",
   "metadata": {
    "slideshow": {
     "slide_type": "skip"
    }
   },
   "source": [
    "## Tuplas"
   ]
  },
  {
   "cell_type": "markdown",
   "metadata": {
    "slideshow": {
     "slide_type": "skip"
    }
   },
   "source": [
    "Una *tupla* es una secuencia finita de objetos, los cuales pueden ser de distintos tipos. Genralmente, definimos una tupla, escribiendo una secuencia de objetos entre *paréntesis* y separados entre *comas*. Esta es una estructura de datos *rígida*, es decir, no podemos modificar una tupla. Sin embargo, las tuplas pueden ser concatenadas, de manera similar a la concatenación de strings. Podemos obtener la logitud de una tupla, utilizando la función $\\normalsize \\color{green}{\\textsf{len}}$. También podemos acceder a los elementos de la tupla usando indices. \n"
   ]
  },
  {
   "cell_type": "code",
   "execution_count": null,
   "metadata": {
    "slideshow": {
     "slide_type": "skip"
    }
   },
   "outputs": [],
   "source": [
    "# Definición de una tupla.\n",
    "x=(0,1,2,'obj',(1,2))\n",
    "# Tipo\n",
    "type(x)"
   ]
  },
  {
   "cell_type": "code",
   "execution_count": null,
   "metadata": {
    "slideshow": {
     "slide_type": "skip"
    }
   },
   "outputs": [],
   "source": [
    "# Longitud de la tupla\n",
    "len(x)"
   ]
  },
  {
   "cell_type": "code",
   "execution_count": null,
   "metadata": {
    "slideshow": {
     "slide_type": "skip"
    }
   },
   "outputs": [],
   "source": [
    "# Acceso mediante indices\n",
    "x[1]"
   ]
  },
  {
   "cell_type": "code",
   "execution_count": null,
   "metadata": {
    "slideshow": {
     "slide_type": "skip"
    }
   },
   "outputs": [],
   "source": [
    "# Concatenación\n",
    "x=x+(2,3,4)\n",
    "x"
   ]
  },
  {
   "cell_type": "code",
   "execution_count": null,
   "metadata": {
    "slideshow": {
     "slide_type": "skip"
    }
   },
   "outputs": [],
   "source": [
    "# No podemos asignar valores directamente usando indices\n",
    "x[1]=100"
   ]
  },
  {
   "cell_type": "code",
   "execution_count": null,
   "metadata": {
    "slideshow": {
     "slide_type": "skip"
    }
   },
   "outputs": [],
   "source": [
    "(0,1,3)<(1,1,0)"
   ]
  },
  {
   "cell_type": "markdown",
   "metadata": {
    "slideshow": {
     "slide_type": "skip"
    }
   },
   "source": [
    "No hay muchos métodos específicos asociados a las tuplas. \n",
    "\n",
    "- $\\texttt{x.count(obj)}$ retorna el número de occurencias del objeto $\\texttt{'obj'}$ en $\\texttt{'x'}$. \n",
    "- $\\texttt{x.index(obj)}$ retorna el indice de la primer occurencia del objeto $\\texttt{'obj'}$ en $\\texttt{'x'}$. "
   ]
  },
  {
   "cell_type": "code",
   "execution_count": null,
   "metadata": {
    "slideshow": {
     "slide_type": "skip"
    }
   },
   "outputs": [],
   "source": [
    "print(x.count(2))\n",
    "print(x.index(2))"
   ]
  },
  {
   "cell_type": "markdown",
   "metadata": {
    "slideshow": {
     "slide_type": "skip"
    }
   },
   "source": [
    "## Conjuntos"
   ]
  },
  {
   "cell_type": "markdown",
   "metadata": {
    "slideshow": {
     "slide_type": "skip"
    }
   },
   "source": [
    "Un *conjunto* es una colección finita de objetos denotados entre *llaves* y separados por *comas*. Los conjuntos tienen (deben cumplir) todas las propiedades de los conjuntos matemáticos.\n"
   ]
  },
  {
   "cell_type": "code",
   "execution_count": null,
   "metadata": {
    "slideshow": {
     "slide_type": "skip"
    }
   },
   "outputs": [],
   "source": [
    "# Definición de un conjunto.\n",
    "A={1,2,4,5,6}\n",
    "# Tipo.\n",
    "type(A)"
   ]
  },
  {
   "cell_type": "code",
   "execution_count": null,
   "metadata": {
    "slideshow": {
     "slide_type": "skip"
    }
   },
   "outputs": [],
   "source": [
    "# Al igual que en los conjuntos matemáticos, no aceptan repticiones.\n",
    "A=={1,1,2,2,5,5,4,4,4,6}"
   ]
  },
  {
   "cell_type": "code",
   "execution_count": null,
   "metadata": {
    "slideshow": {
     "slide_type": "skip"
    }
   },
   "outputs": [],
   "source": [
    "# Los conjuntos no soportan indexación directa. \n",
    "A[1]"
   ]
  },
  {
   "cell_type": "code",
   "execution_count": null,
   "metadata": {
    "slideshow": {
     "slide_type": "skip"
    }
   },
   "outputs": [],
   "source": [
    "# Conversión de un string a un conjunto (de letras).\n",
    "c='será un conjunto'\n",
    "set(c)"
   ]
  },
  {
   "cell_type": "code",
   "execution_count": null,
   "metadata": {
    "slideshow": {
     "slide_type": "skip"
    }
   },
   "outputs": [],
   "source": [
    "# La función len nos retorna la cardinalidad del conjunto.\n",
    "len(A)"
   ]
  },
  {
   "cell_type": "markdown",
   "metadata": {
    "slideshow": {
     "slide_type": "skip"
    }
   },
   "source": [
    "Aquí hemos provisto una lista (no completa) de métodos útiles para el manejo de conjuntos: \n",
    "\n",
    "\n",
    "- $\\texttt{A.intersection(B)}$ retorna la intersección de los conjuntos $\\texttt{A}$ y $\\texttt{B}$. \n",
    "- $\\texttt{A.union(B)}$ retorna la unión de los conjuntos $\\texttt{A}$ y $\\texttt{B}$. \n",
    "- $\\texttt{A.difference(B)}$ retorna la diferencia simetrica de conjuntos ($\\texttt{A}\\cap \\texttt{B}^c$). \n",
    "- $\\texttt{A.copy}()$ retorna una copia del conjunto $\\texttt{A}$. \n",
    "- Podemos comparar dos conjuntos (seguiendo el orden de inclusión). \n",
    "\n",
    "\n",
    "También podemoms realizar cambios directamente sobre un conjunto: \n",
    "\n",
    "- $\\texttt{A.add(a)}$ reemplaza el conjunto $\\texttt{A}$ por $\\texttt{A} \\cup \\{a\\}$ (no tiene efecto si el elemento $a$ pertenece al conjunto $\\texttt{A}$). \n",
    "- $\\texttt{A.discard(a)}$ reeplaza el conjunto $\\texttt{A}$ por $\\texttt{A}$ removiendo el elemento $a$ (no tiene efecto si el elemento $a$ no pertenece al conjunto $\\texttt{A}$). \n",
    "- $\\texttt{A.difference_update(B)}$ reemplazara el conjunto $\\texttt{A}$ por $\\texttt{A}\\cap \\texttt{B}^c$. \n"
   ]
  },
  {
   "cell_type": "code",
   "execution_count": null,
   "metadata": {
    "slideshow": {
     "slide_type": "skip"
    }
   },
   "outputs": [],
   "source": [
    "A={1,2,4}\n",
    "B=A.copy()\n",
    "print(A,B)\n",
    "B.discard(2)\n",
    "print(A,B)"
   ]
  },
  {
   "cell_type": "markdown",
   "metadata": {
    "slideshow": {
     "slide_type": "skip"
    }
   },
   "source": [
    "Una manera útil de definir conjuntos matemáticamente es por comprensión (en vez de definirlos por \"extensión\") i.e. $\\texttt{B:=}\\{\\texttt{f(x)}\\mid \\texttt{x} \\in \\texttt{A}\\}$. En Python lo escribimos es la siguiente forma: \n",
    "\n",
    "$$\\texttt{B=} \\{ \\texttt{funcion(x)} \\normalsize \\color{green}{\\textsf{ for }} \\texttt{ x } \\normalsize \\color{green}{\\textsf{ in }} \\texttt{A} \\}$$\n"
   ]
  },
  {
   "cell_type": "code",
   "execution_count": null,
   "metadata": {
    "slideshow": {
     "slide_type": "notes"
    }
   },
   "outputs": [],
   "source": [
    "# Ejemplo de cómo definir un conjunto por comprensión. \n",
    "B={x for x in c}\n",
    "B"
   ]
  },
  {
   "cell_type": "markdown",
   "metadata": {
    "slideshow": {
     "slide_type": "slide"
    }
   },
   "source": [
    "## Diccionarios.\n",
    "\n",
    "Un diccionario o \"tabla associativa\" es un contenedor muy particular y de amplio uso (estan optimizados al igual que cualquier tipo \"hashable\" en Python).\n",
    "Es una colección de items $\\texttt{\"llave:valor\"}$ donde la *\"llave\"* y el *\"valor* pueden ser cualquier tipo de objeto, y los escribimos de la siguiente forma:\n",
    "\n",
    "$$\\texttt{c =} \\{ \\texttt{l}_1 : \\texttt{v}_1 , \\texttt{l}_2 : \\texttt{v}_2, \\ldots \\} $$\n"
   ]
  },
  {
   "cell_type": "code",
   "execution_count": null,
   "metadata": {
    "slideshow": {
     "slide_type": "slide"
    }
   },
   "outputs": [],
   "source": [
    "dicc1={'Jean Paul':'jeanpaul@mail.com',\\\n",
    "'Fanny':'fanny@mail.com',\\\n",
    "'Robert':'robert@mail.com',\\\n",
    "'Stephanie': (6812424239),\\\n",
    "0:2}\n",
    "\n",
    "# Tipo\n",
    "print(type(dicc1))"
   ]
  },
  {
   "cell_type": "markdown",
   "metadata": {
    "slideshow": {
     "slide_type": "slide"
    }
   },
   "source": [
    "- La función  $\\normalsize \\color{green}{\\textsf{len}}$ nos devuelve la cardinalidad.\n",
    "- No podemoms indexarlos de manera habitual, es decir de manera posicional, deberemo usar las llaves de diccionario para retornar los valores correspondientes. \n",
    "- Es posible asignar nuevos valores a una las llaves."
   ]
  },
  {
   "cell_type": "code",
   "execution_count": null,
   "metadata": {
    "slideshow": {
     "slide_type": "subslide"
    }
   },
   "outputs": [],
   "source": [
    "dicc1={'Jean Paul':'jeanpaul@mail.com',\\\n",
    "'Fanny':'fanny@mail.com',\\\n",
    "'Robert':'robert@mail.com',\\\n",
    "'Stephanie': (6812424239),\\\n",
    "0:2}\n",
    "# Es posible obtener la cardinalidad. \n",
    "len(dicc1)\n",
    "# Los diccionarios no pueden ser indexados posicionalmente. Debemos proveer la llave del valor que deseamos.\n",
    "dicc1['Jean Paul']\n",
    "dicc1[0]"
   ]
  },
  {
   "cell_type": "code",
   "execution_count": null,
   "metadata": {
    "slideshow": {
     "slide_type": "skip"
    }
   },
   "outputs": [],
   "source": [
    "# Tipo\n",
    "type(dicc1)"
   ]
  },
  {
   "cell_type": "code",
   "execution_count": null,
   "metadata": {
    "slideshow": {
     "slide_type": "subslide"
    }
   },
   "outputs": [],
   "source": [
    "dicc1={'Jean Paul':'jeanpaul@mail.com',\\\n",
    "'Fanny':'fanny@mail.com',\\\n",
    "'Robert':'robert@mail.com',\\\n",
    "'Stephanie': (6812424239),\\\n",
    "0:2}\n",
    "# Podemoms cambiar los valores associados a un llave mediante asignación.\n",
    "dicc1['Stephanie']='stephanie@mail.com'\n",
    "print(dicc1)"
   ]
  },
  {
   "cell_type": "code",
   "execution_count": null,
   "metadata": {
    "slideshow": {
     "slide_type": "subslide"
    }
   },
   "outputs": [],
   "source": [
    "# Cual es el efecto de tener una llave duplicada?\n",
    "dicc2={0:7,'x':'x@mail.lu', 0:3}\n",
    "print(dicc2)\n",
    "# La segunda (o última) llave definida, sobrescribira el valor anterior."
   ]
  },
  {
   "cell_type": "code",
   "execution_count": null,
   "metadata": {
    "slideshow": {
     "slide_type": "skip"
    }
   },
   "outputs": [],
   "source": [
    "# Podemos convertir un diccionario a una tupla\n",
    "tuple(dicc1)\n",
    "# No es posible en el sentido contrario (de tupla a diccionario). \n",
    "dict(dicc1)"
   ]
  },
  {
   "cell_type": "markdown",
   "metadata": {
    "slideshow": {
     "slide_type": "slide"
    }
   },
   "source": [
    "Aquí tenemos algunos métodos útiles para usar diccionarios. Sea $\\texttt{dic}$ un diccionario. \n",
    "\n",
    "- $\\texttt{dic.item}()$ retorna una *lista* de los valores en el diccionario (las listas están definidas en la siguiente sección).\n",
    "- $\\texttt{dic.keys}()$ solo retorna los valores de las llaves del diccionario.\n",
    "- $\\texttt{dic.values}()$ solo retorna los valores del diccionario.\n",
    "- $\\texttt{dic.copy}()$ retorna una copia del diccionario $\\texttt{dic}$. \n",
    "- $\\texttt{dic.pop(key)}$ retorna y quita del diccionario el valor que referido por la llave $\\texttt{key}$\n",
    "- $\\texttt{dic.popitem}()$ retorna y quita del diccionario el último item ingresado/añadido.\n",
    "- $\\texttt{dic.update(newdic)}$ actualiza $\\texttt{dic}$ con los valores de otro diccionario $\\texttt{newdic}$, solo para las llaves de $\\texttt{newdic}$ que no están en $\\texttt{dic}$."
   ]
  },
  {
   "cell_type": "markdown",
   "metadata": {
    "slideshow": {
     "slide_type": "slide"
    }
   },
   "source": [
    "- $\\texttt{dic[key]=value}$ \n",
    "\n",
    "Asignará un nuevo valor a la llave $\\texttt{key}$, solo si la llave ya pertenece al diccionario. En caso de que la llave no exista en el diccionario, añadira el nuevo par $\\texttt{(key:value)}$ al diccionario.\n"
   ]
  },
  {
   "cell_type": "code",
   "execution_count": null,
   "metadata": {
    "slideshow": {
     "slide_type": "subslide"
    }
   },
   "outputs": [],
   "source": [
    "dicc1={'Jean Paul':'jeanpaul@mail.com',\\\n",
    "'Fanny':'fanny@mail.com',\\\n",
    "'Robert':'robert@mail.com',\\\n",
    "'Stephanie': (6812424239),\\\n",
    "0:2}\n",
    "dicc1['Stephanie']='stephanie@mail.com'\n",
    "dicc1['Carl']='carl@mail.com'\n",
    "print(dicc1)"
   ]
  },
  {
   "cell_type": "code",
   "execution_count": null,
   "metadata": {
    "slideshow": {
     "slide_type": "subslide"
    }
   },
   "outputs": [],
   "source": [
    "dicc1={'Jean Paul':'jeanpaul@mail.com',\\\n",
    "'Fanny':'fanny@mail.com',\\\n",
    "'Robert':'robert@mail.com',\\\n",
    "'Stephanie': (6812424239),\\\n",
    "0:2}\n",
    "dicc2={0:7,'x':'x@mail.com',0:3}\n",
    "print(dicc1,dicc2)\n",
    "dicc1.update(dicc2)\n",
    "print(dicc1)"
   ]
  },
  {
   "cell_type": "markdown",
   "metadata": {
    "slideshow": {
     "slide_type": "slide"
    }
   },
   "source": [
    "## Listas\n",
    "\n",
    "Una lista es un contenedor ordenado de objetos (pueden ser de distinto tipo). Lo definimos ente *corchetes* y los objetos separados por *comas*. \n",
    "\n",
    "$$\\texttt{L = [ x, y,  }\\ldots \\texttt{ ]}$$"
   ]
  },
  {
   "cell_type": "code",
   "execution_count": null,
   "metadata": {
    "slideshow": {
     "slide_type": "subslide"
    }
   },
   "outputs": [],
   "source": [
    "# Definición\n",
    "L=[2,3,4]\n",
    "# Tipo\n",
    "type(L)"
   ]
  },
  {
   "cell_type": "code",
   "execution_count": null,
   "metadata": {
    "slideshow": {
     "slide_type": "subslide"
    }
   },
   "outputs": [],
   "source": [
    "# También podemoms definir Listas por comprensión (al igual que los conjuntos). \n",
    "L=[x**2 for x in range(0,9)]\n",
    "L"
   ]
  },
  {
   "cell_type": "markdown",
   "metadata": {},
   "source": [
    "### Ej. 2:\n",
    "\n",
    "Generarar por comprención la siguiente lista [1, 2, 4, 8, 16, 32, 64, 128, 256]"
   ]
  },
  {
   "cell_type": "code",
   "execution_count": null,
   "metadata": {},
   "outputs": [],
   "source": [
    "L=[2**x for x in range(0,9)]\n",
    "L"
   ]
  },
  {
   "cell_type": "markdown",
   "metadata": {},
   "source": [
    "### Ej. 5:\n",
    "\n",
    "El siguiente código, tener un lista *mess* creada aleatoriamente. Escribir un programa que ordene la lista. **Nota: NO utilizar las funciones provistas por Python**."
   ]
  },
  {
   "cell_type": "code",
   "execution_count": null,
   "metadata": {},
   "outputs": [],
   "source": [
    "#---------------Code---------------------#\n",
    "import random                           \n",
    "\n",
    "mess=[]\n",
    "N=1000\n",
    "for p in range(0,N):\n",
    "    mess.append(random.randrange(0,100)) \n",
    "S=0 \n",
    "#----------------------------------------#\n",
    "print(mess)\n",
    "\n",
    "\n",
    "\n",
    "print()\n"
   ]
  },
  {
   "cell_type": "markdown",
   "metadata": {
    "slideshow": {
     "slide_type": "slide"
    }
   },
   "source": [
    "Podemos utilizar los indices de distintas maneras para poder acceder mas convenientemente a partes de una lista. Esta notación funciona para cualquier tipo de contenedor ordenado (i.e. strings, tuples, etc).\n",
    "\n",
    "- $\\texttt{L [ i ]}$ retorna el $i$-esimo elemento de la lista $\\texttt{L}$.\n",
    "- $\\texttt{L [ i : j ]}$ retorna los elementos desde el $i$-esimo (includido) hasta el $j$-esimo (excludido). El resultado tiene el mismo tipo que $\\texttt{L}$. \n",
    "- $\\texttt{L [ i : ]}$ es equivalente a: $\\texttt{L [ i : }$ $\\normalsize \\color{green}{\\textsf{len}}(\\texttt{L})\\texttt{ ]}$.\n",
    "- $\\texttt{L [ : j ]}$ es equivalente a: $\\texttt{L [ 0 : j ]}$.\n",
    "- $\\texttt{L [ i : : paso ]}$ retorna la lista de elemntos desde la $i$-esima posición progresando sobre los indices de acuerdo a $\\texttt{paso}$. \n",
    "\n",
    "También podemos concatenar listas usando el operador *'+'*\n"
   ]
  },
  {
   "cell_type": "code",
   "execution_count": null,
   "metadata": {
    "slideshow": {
     "slide_type": "subslide"
    }
   },
   "outputs": [],
   "source": [
    "# Cambiar el i-ésimo elemento.\n",
    "L=[1,2,3,4,5,6]\n",
    "L[3]=12\n",
    "print(L)"
   ]
  },
  {
   "cell_type": "code",
   "execution_count": null,
   "metadata": {
    "slideshow": {
     "slide_type": "subslide"
    }
   },
   "outputs": [],
   "source": [
    "# Podemoms acceder a la lista usando indices.\n",
    "L=[1,2,3,4,5,6]\n",
    "L[2::3]"
   ]
  },
  {
   "cell_type": "code",
   "execution_count": null,
   "metadata": {
    "slideshow": {
     "slide_type": "subslide"
    }
   },
   "outputs": [],
   "source": [
    "# Concatenación de Listas\n",
    "L=[1,2,3,4,5,6]\n",
    "M=['caballo','perro']\n",
    "N= L + M\n",
    "print(N)"
   ]
  },
  {
   "cell_type": "markdown",
   "metadata": {
    "slideshow": {
     "slide_type": "slide"
    }
   },
   "source": [
    "Aquí hay una breve lista de los métodos asociados al tipo *Lista*:\n",
    "\n",
    "- $\\texttt{L.count}(\\texttt{obj})$ retorna el número de ocurrencias del objeto $\\texttt{obj}$ en la $\\texttt{L}$.  \n",
    "- $\\texttt{L.index}(\\texttt{value})$  retorna el primer indice $i$ para el cual $\\texttt{L [ i ] = value}$.\n",
    "- $\\texttt{L.insert}(\\texttt{i, obj})$ inserta el objecto $\\texttt{obj}$ en la $i$-esima posición, moveindo el resto de los contenidos de la lista hacia la derecha.\n",
    "- $\\texttt{L.remove}(\\texttt{value})$ remueve de $\\texttt{L}$ laprimer ocurrencia de $\\texttt{value}$.\n",
    "- $\\texttt{L.pop}(\\texttt{index})$ retorna el valor indexado y lo remueve de $\\texttt{L}$.\n",
    "- $\\texttt{L.reverse}()$ escribe la lista $\\texttt{L}$ del revez (cambia $\\texttt{L}$). \n",
    "- $\\texttt{L.sort}(\\texttt{L})$ (re)ordena $\\texttt{L}$ de acuerdo al orden lexicográfico. Los elementos deben ser del mismo tipo.\n"
   ]
  },
  {
   "cell_type": "code",
   "execution_count": null,
   "metadata": {
    "slideshow": {
     "slide_type": "subslide"
    }
   },
   "outputs": [],
   "source": [
    "L=['1','5','2','caballo','3']\n",
    "L.sort()\n",
    "print(L)"
   ]
  },
  {
   "cell_type": "markdown",
   "metadata": {
    "slideshow": {
     "slide_type": "slide"
    }
   },
   "source": [
    "## Rangos\n",
    "\n",
    "Los Rangos, son tipos especiales de contenedores. Generalmente, construiremos un rango de la siguiente forma  $\\normalsize \\color{green}{\\textsf{range}}$ $\\texttt{(comienzo, fin, paso)}$. \n",
    "\n",
    "Este commando generara un *rango* de números enteros desde $\\texttt{comienzo}$ (incluido) hasta $\\texttt{stop}$ (excluido) tomando en cuenta la \"longitud de salto\" definida por $\\texttt{paso}$.\n",
    "\n",
    "También pordemos invocar a $\\normalsize \\color{green}{\\textsf{range}}$ $\\texttt{(comienzo, fin)}$. y el *'paso'* será por defecto 1, también podemos invocar $\\normalsize \\color{green}{\\textsf{range}}$ $\\texttt{(comienzo)}$. donde el *'comienzo'* será por defecto 0."
   ]
  },
  {
   "cell_type": "code",
   "execution_count": null,
   "metadata": {
    "slideshow": {
     "slide_type": "subslide"
    }
   },
   "outputs": [],
   "source": [
    "# Por que no vemos un resultado?\n",
    "range(1,100,2)"
   ]
  },
  {
   "cell_type": "markdown",
   "metadata": {
    "slideshow": {
     "slide_type": "slide"
    }
   },
   "source": [
    "El rango no es un objeto **per se**, podemos tratarlo como una *'potencial'* lista de enteros. Sin embargo, también es posible checkear que $\\texttt{'algo'}$ esta o pertenece a cierto rango, i.e. $\\texttt{'algo'}$ $\\normalsize \\color{green}{\\textsf{in}}$ $\\normalsize \\color{green}{\\textsf{range}}$ $\\texttt{(comienzo, fin)}$. \n"
   ]
  },
  {
   "cell_type": "markdown",
   "metadata": {},
   "source": [
    "## Differencias y relaciones entre estas Estructuras de Datos\n",
    "\n",
    "- Un diccionario es una forma conveniente de almacenar/actualizar/eliminar información sobre llaves esspecíficas. Sin embargo, es un objeto de mayor complejidad y debe ser utilizado con cuidado.\n",
    "\n",
    "- Una cadena de carácteres es un objeto especifico. Es una forma simple se comunicarse con el usuario, usando el método $\\texttt{format}$. \n",
    "\n",
    "- Los strings y la tupplas, son tipos inmutables. No existen métodos definidos para cambiar sus valores internos.\n"
   ]
  },
  {
   "cell_type": "code",
   "execution_count": null,
   "metadata": {
    "slideshow": {
     "slide_type": "skip"
    }
   },
   "outputs": [],
   "source": [
    "# Es posible cambiar de 'str' a tipo 'tuple'. \n",
    "x=(1,2,3)\n",
    "x=x+x\n",
    "print(x)"
   ]
  },
  {
   "cell_type": "markdown",
   "metadata": {
    "slideshow": {
     "slide_type": "slide"
    }
   },
   "source": [
    "- Los Conjuntos, Diccionarios y Listas son tipos \"mutables\" \n",
    "\n",
    "Existen diversos métodos para manipularlos. \n",
    "\n",
    "Debemos tener cuidado cuando utilizamos la asginación en tipos mutables, ya en generalmente sobrescribiremos el o los valores. \n",
    "\n",
    "Para copiar un objeto complejo debemos usar el método $\\texttt{copy}$ en ves del symbolo $\\texttt{=}$. \n",
    "\n",
    "- Los objetos \"mutables\" tiene un tiempo de accesso mayor (son un poco más lentos).\n"
   ]
  },
  {
   "cell_type": "code",
   "execution_count": null,
   "metadata": {
    "slideshow": {
     "slide_type": "skip"
    }
   },
   "outputs": [],
   "source": [
    "# Efecto del método copy().\n",
    "L=[1,2]\n",
    "M=[3,4]\n",
    "biglist=[L,M]\n",
    "copybiglist=biglist.copy()\n",
    "copybiglist.append(1)\n",
    "print(biglist,copybiglist)\n",
    "copybiglist[0]=[1,3]\n",
    "print(biglist,copybiglist)"
   ]
  },
  {
   "cell_type": "markdown",
   "metadata": {
    "slideshow": {
     "slide_type": "skip"
    }
   },
   "source": [
    "- La desventaja de usar tipos \"mutables\" es el accesso más lento a los datos."
   ]
  },
  {
   "cell_type": "code",
   "execution_count": null,
   "metadata": {
    "slideshow": {
     "slide_type": "slide"
    }
   },
   "outputs": [],
   "source": [
    "# Efectos de los cambios de tipo (forzados).\n",
    "L=[1,2,1,2,1,3,4,2,3]\n",
    "c=list(set(L))\n",
    "print(c)"
   ]
  },
  {
   "cell_type": "markdown",
   "metadata": {},
   "source": [
    "### Punteros\n",
    "\n",
    "En otros lenguajes, como C o C++, existe un tipo de variable especial llamado puntero, que se comporta como una referencia a una variable, **como es el caso de las variables mutables**.\n",
    "\n",
    "En Python *no hay punteros* (como los de C o C++), pero todas las variables son referencias a objetos, es decir, la *dirección* de la porción de memoria, en donde el objeto está almacenado. De este modo cuando se asigna una variable a otra, lo que se está asignando es la dirección de la porción de memoria guarda el objeto. Si esa porción de memoria cambia, el cambio se puede ver en todas las variables que apuntan a esa porción."
   ]
  },
  {
   "attachments": {
    "python_mutable.png": {
     "image/png": "[encoded data removed]"
    }
   },
   "cell_type": "markdown",
   "metadata": {},
   "source": [
    "### Resumen Clasificación\n",
    "\n",
    "![python_mutable.png](attachment:python_mutable.png)"
   ]
  },
  {
   "cell_type": "markdown",
   "metadata": {},
   "source": [
    "# Ciclos y Repeticiones\n",
    "\n",
    "## Ciclos while (mientras).\n",
    "\n",
    "Un bucle $\\normalsize \\color{green}{\\textsf{while}}$ se representa de la siguiete manera: "
   ]
  },
  {
   "cell_type": "code",
   "execution_count": 1,
   "metadata": {},
   "outputs": [
    {
     "name": "stdout",
     "output_type": "stream",
     "text": [
      "1 2 3 4 5 6 7 8 9 10 "
     ]
    }
   ],
   "source": [
    "N = 10\n",
    "p = 1\n",
    "\n",
    "while p < (N + 1):   # Definimos la condición sobre la que ejecutara el ciclo.\n",
    "    print(p,end=\" \") # Hacemos otra cosa.\n",
    "    p = p + 1        # Hacemos algo dentro del ciclo."
   ]
  },
  {
   "cell_type": "markdown",
   "metadata": {},
   "source": [
    "Al igual que para el *condicional*, debemos terminar la linea con la instrucción $\\normalsize \\color{green}{\\textsf{while}}$ con **' : '**, luego debemos indentar el bloque de comandos que será repetido en el ciclo.  \n",
    "\n",
    "En general, cuando definimos un ciclo $\\normalsize \\color{green}{\\textsf{while}}$, debemos asegurarnos que el ciclo termine en algún momento. En caso de omitir una terminación segura del ciclo, el programa nunca ejecutara los comandos que esten a continuación del ciclo, para retomar el control, deberemos reiniciar el kernel.  \n"
   ]
  },
  {
   "cell_type": "markdown",
   "metadata": {
    "collapsed": true,
    "slideshow": {
     "slide_type": "slide"
    }
   },
   "source": [
    "## Ciclos for (para). \n",
    "\n",
    "Cuando debemos realizar una tarea repetitiva, es muy conveniente utilizar los ciclos $\\normalsize \\color{green}{\\textsf{for}}$. La forma estandard de escribirlos es la siguiente: \n",
    "\n",
    "$\\normalsize \\color{green}{\\textsf{for}}$ $\\texttt{variable}$ $\\normalsize \\color{green}{\\textsf{in}}$ *'contenedor'* $\\texttt{:}$ \n",
    "\n",
    "seguido de un salto de linea y luego las instrucciones a ser repetidas. Como cualquier instrucción con **:** , necesitaremos indentar.\n",
    "\n",
    "$\\texttt{variable}$ es cualquier nombre de variable (no protegido), y *'contenedor'* es un objeto contenedor. "
   ]
  },
  {
   "cell_type": "code",
   "execution_count": 4,
   "metadata": {
    "slideshow": {
     "slide_type": "slide"
    }
   },
   "outputs": [
    {
     "name": "stdout",
     "output_type": "stream",
     "text": [
      "1 2 3 4 5 6 7 8 9 10 "
     ]
    }
   ],
   "source": [
    "# Ejemplo de un ciclo\n",
    "\n",
    "for x in range(1, 11) : # range( inicio, final, paso) -> {inicio, ..., fin - 1, \"contando de a\"} \n",
    "    print(x, end=\" \")\n",
    "    "
   ]
  },
  {
   "cell_type": "markdown",
   "metadata": {
    "slideshow": {
     "slide_type": "skip"
    }
   },
   "source": [
    "Debemoms tener cuidado que $\\normalsize \\color{green}{\\textsf{range}}$ no nos retorna un tipo de datos conveninete. Igualmente puede ser (o será) convertido al tipo lista. Si utilizaramoms el tipo lista directamente, la performance se vera reducida.\n"
   ]
  },
  {
   "cell_type": "code",
   "execution_count": 3,
   "metadata": {
    "slideshow": {
     "slide_type": "subslide"
    }
   },
   "outputs": [
    {
     "name": "stdout",
     "output_type": "stream",
     "text": [
      "0 1 2 3 4 5 6 7 8 9 10 "
     ]
    }
   ],
   "source": [
    "# Comparación con los ciclos \"mientras\" \n",
    "x=0\n",
    "while x <= 10:\n",
    "    print(x,end=\" \")\n",
    "    x+=1"
   ]
  },
  {
   "cell_type": "code",
   "execution_count": null,
   "metadata": {
    "slideshow": {
     "slide_type": "subslide"
    }
   },
   "outputs": [],
   "source": [
    "# Uso de ciclos for, para distintos tipos de contenedores. \n",
    "\n",
    "for x in {0,1,2}: # Conjunto\n",
    "    print(x,end=' ')\n",
    "print('')\n",
    "for x in 'AlgoritmosEstructurasDatos': # Strings\n",
    "     print(x,end=' ')\n",
    "print('')\n",
    "for x in list('AlgoritmosEstructurasDatos'): # Listas\n",
    "     print(x,end=' ')\n"
   ]
  },
  {
   "cell_type": "markdown",
   "metadata": {
    "slideshow": {
     "slide_type": "slide"
    }
   },
   "source": [
    "Algunas veces, cuando recorremos una lista $\\texttt{L}$ utilizando un ciclo $\\normalsize \\color{green}{\\textsf{for}}$  nos gustaría poder ver los valores y los indices.\n"
   ]
  },
  {
   "cell_type": "code",
   "execution_count": null,
   "metadata": {
    "slideshow": {
     "slide_type": "subslide"
    }
   },
   "outputs": [],
   "source": [
    "# Un modo sencillo de hacerlo.\n",
    "L=['1','5','2','caballo','3']  \n",
    "for index in range(0,len(L)):\n",
    "    print(\"L[{}]={}\".format(index,L[index]))"
   ]
  },
  {
   "cell_type": "markdown",
   "metadata": {
    "slideshow": {
     "slide_type": "slide"
    }
   },
   "source": [
    "También podemos utilizar la siguiente notación reducida $\\normalsize \\color{green}{\\textsf{for}}$ $\\texttt{index,variable}$ $\\normalsize \\color{green}{\\textsf{in}}$ $\\texttt{L}$ **:**. En este caso, tendremos $\\texttt{L[index]=variable}$ durante la ejecición del ciclo. "
   ]
  },
  {
   "cell_type": "code",
   "execution_count": null,
   "metadata": {
    "slideshow": {
     "slide_type": "subslide"
    }
   },
   "outputs": [],
   "source": [
    "for  index,variable in enumerate(L): # Usamos la funcion enumarate para acceder a las tuplas (i,L[i])\n",
    "    print(\"L[{}]={}\".format(index,variable))"
   ]
  },
  {
   "cell_type": "markdown",
   "metadata": {
    "slideshow": {
     "slide_type": "slide"
    }
   },
   "source": [
    "Podemos interrumpir el ciclo $\\normalsize \\color{green}{\\textsf{for}}$ (respectivametne para $\\normalsize \\color{green}{\\textsf{while}}$) utilizando el commando $\\normalsize \\color{green}{\\textsf{break}}$."
   ]
  },
  {
   "cell_type": "code",
   "execution_count": null,
   "metadata": {
    "slideshow": {
     "slide_type": "subslide"
    }
   },
   "outputs": [],
   "source": [
    "for x in range(0,9):\n",
    "    if x>6:\n",
    "        break\n",
    "    print(x,end=\" \")"
   ]
  },
  {
   "cell_type": "code",
   "execution_count": null,
   "metadata": {
    "slideshow": {
     "slide_type": "subslide"
    }
   },
   "outputs": [],
   "source": [
    "for y in range(0,9):\n",
    "    for x in range(0,9):\n",
    "        if x>6:\n",
    "            break # Solo interrumpimos el ciclo en \"donde estamos\".\n",
    "        print(10*y+x,end=\" \")"
   ]
  },
  {
   "cell_type": "markdown",
   "metadata": {
    "slideshow": {
     "slide_type": "skip"
    }
   },
   "source": [
    "# Preliminares: Funciones vs. Métodos"
   ]
  },
  {
   "cell_type": "markdown",
   "metadata": {
    "slideshow": {
     "slide_type": "skip"
    }
   },
   "source": [
    "En Python temnemos dos tipos differentes formas de retornar valores o realizar acciones, en base a parámetros enviados. Podemos llamar a una $\\textit función$ o usar un $\\textit método$ (luego quedará mas claro cuando veamos como Python define y utiliza objetos).    \n",
    "\n",
    "Ya hemos visto algunos ejemplos de funciones (i.e. $\\normalsize \\color{green}{\\textsf{print}}$, $\\normalsize \\color{green}{\\textsf{input}}$, $\\normalsize \\color{green}{\\textsf{len}}$, $\\dots$). Un *método* es especifico a un tipo y son invocados de forma diferente. \n",
    "\n",
    "Sea $\\texttt{'obj'}$ un ojeto de tipo $\\texttt{type}$ y $\\texttt{method}$ es un método asociado a al tipo $\\texttt{type}$, entonces invocamos al método de la siguiente forma: $\\texttt{obj.method}(\\cdot)$, donde, $(\\cdot)$ puede (o no) contener algunos parámetros.     "
   ]
  },
  {
   "cell_type": "code",
   "execution_count": null,
   "metadata": {
    "slideshow": {
     "slide_type": "skip"
    }
   },
   "outputs": [],
   "source": [
    "c='ertl'\n",
    "print(len(c)) # Funcción\n",
    "c.index('r')  # Método"
   ]
  },
  {
   "cell_type": "markdown",
   "metadata": {
    "slideshow": {
     "slide_type": "skip"
    }
   },
   "source": [
    "De forma practica, no hay muchas diferencias, entre llamar a una función o invocar un método. Las funciones son definidas como objetos independientes, mientras que, un método esta simpre definido dentro de una tipo de objeto (i.e. una clase, \"template\" del objeto) y \"no existe\" fuera de dicho tipo (clase del objeto). Un método, puede tener el mismo nombre, ya que cada será distinto para cada tipo de objeto. De esta manera podemos proteger ciertos nombres de variables, funcioes, etc. \n",
    "Ejemplo:\n",
    " - Podemos definir en nuestro código $\\texttt{count=3}$, sin embargo $\\texttt{c.count(val)}$ retornara el numero de ocurrencias del parámetro $\\texttt{val}$ en la variable $\\texttt{c}$.\n",
    " - En cambio, si definimos $\\texttt{len=2}$, luego cualquier uso de la función $\\normalsize \\color{green}{\\textsf{len}}\\texttt{(c)}$ retornara un error. \n"
   ]
  },
  {
   "cell_type": "code",
   "execution_count": null,
   "metadata": {
    "slideshow": {
     "slide_type": "skip"
    }
   },
   "outputs": [],
   "source": [
    "#len=2\n",
    "#len(c) #Ya no tendrá sentido invocar a la función.\n",
    "        #Hemos 'sobrescrito' el nombre de la función len(.),\n",
    "        #ahora el \"nombre de función 'len'\" esta asociado a un nombre de variable. "
   ]
  },
  {
   "cell_type": "markdown",
   "metadata": {
    "slideshow": {
     "slide_type": "skip"
    }
   },
   "source": [
    "Las funciones y métodos, pueden retornar un valor (e.g. $\\normalsize \\color{green}{\\textsf{len}}$) o relizar una acción (e.g. $\\normalsize \\color{green}{\\textsf{print}}$). También puede modificar el valor (o valores) de algunos objetos. \n"
   ]
  },
  {
   "cell_type": "code",
   "execution_count": null,
   "metadata": {
    "slideshow": {
     "slide_type": "skip"
    }
   },
   "outputs": [],
   "source": [
    "type(print(c)) # La función print no tiene tipo."
   ]
  }
 ],
 "metadata": {
  "celltoolbar": "Slideshow",
  "kernelspec": {
   "display_name": "Python 3",
   "language": "python",
   "name": "python3"
  },
  "language_info": {
   "codemirror_mode": {
    "name": "ipython",
    "version": 3
   },
   "file_extension": ".py",
   "mimetype": "text/x-python",
   "name": "python",
   "nbconvert_exporter": "python",
   "pygments_lexer": "ipython3",
   "version": "3.7.4"
  }
 },
 "nbformat": 4,
 "nbformat_minor": 2
}
