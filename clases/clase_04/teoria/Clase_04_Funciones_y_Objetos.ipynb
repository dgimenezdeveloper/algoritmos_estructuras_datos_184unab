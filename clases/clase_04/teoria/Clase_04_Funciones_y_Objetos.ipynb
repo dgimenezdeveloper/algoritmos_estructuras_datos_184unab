{
 "cells": [
  {
   "attachments": {},
   "cell_type": "markdown",
   "metadata": {},
   "source": [
    "# Algoritmos y Estructuras de Datos. \n",
    "\n",
    "## - Clase 04 - Encapsulamiento, Módulos y Objetos -"
   ]
  },
  {
   "attachments": {},
   "cell_type": "markdown",
   "metadata": {
    "collapsed": true
   },
   "source": [
    "# Funciones"
   ]
  },
  {
   "cell_type": "markdown",
   "metadata": {},
   "source": [
    "## Funciones Recursivas\n",
    "\n",
    "Python nos permite una declaración sencilla de **funciones recursivas**, solamente debemos *\"llamar a la función, dentro del cuerpo de la (misma) función'*. \n",
    "\n",
    "Una definición correcta de una función recursiva, debera tener el cuenta lo siguiente:\n",
    "\n",
    "- Existencia de un **caso base** o inicial de manera *especial*, es decir cuando la función retorna un valor (no hay llamada recursiva), ya que sino, la función prodria nunca terminar. \n",
    "\n",
    "\n",
    "Manejo standard del caso base: \n",
    "\n",
    "- Utilizando un  $\\normalsize \\color{green}{\\textsf{ if }}$, como veremos a continuación.\n",
    "- Luego podremoms: \n",
    "    - Terminar la función\n",
    "    - Terminar y devolver un valor que indicará un error en la ejecución de la función \n",
    "    - Opcionalmente podemos informar del error, utilizando los errores predefinidos provistos por Python utilizando el comando $\\normalsize \\color{green}{\\textsf{ raise }}$.  \n"
   ]
  },
  {
   "cell_type": "markdown",
   "metadata": {},
   "source": [
    "El comando $\\normalsize \\color{green}{\\textsf{ raise }}$ es invocado de la siguiente forma:\n",
    "\n",
    "$\\normalsize \\color{green}{\\textsf{ raise }}$ $\\texttt{ Error ( string )}$\n",
    "\n",
    "$\\normalsize \\color{green}{\\textsf{ raise }}$ $\\texttt{ ValueError ( string )}$\n",
    "\n",
    "$\\normalsize \\color{green}{\\textsf{ raise }}$ $\\texttt{ AssertionError ( string )}$"
   ]
  },
  {
   "cell_type": "code",
   "execution_count": null,
   "metadata": {},
   "outputs": [],
   "source": [
    "# Secuencia de Fibonacci.\n",
    "# [ 1, 1, 2, 3, 5, 8, 13, 21, 34, 55, 89, 144, 233, 377, 610, . . . ]\n",
    "def Fibo(n):\n",
    "\n",
    "    \"Definición: F(n) = F(n-1) + F(n-2), F(1) = F(0) = 1\"\n",
    "\n",
    "    if n<0:\n",
    "        raise ValueError(\"Fibonacci terms begin at 0\") # sin este error, Fibo(-1) etrara en un ciclo eterno.\n",
    "        #print(\"error\")\n",
    "        #return -1\n",
    "    \n",
    "    if n==0:\n",
    "        return 1 # Primer caso base\n",
    "    elif n==1:\n",
    "        return 1 # Segundo caso base\n",
    "    else:\n",
    "        return Fibo(n-1)+Fibo(n-2) ## ESTA ES LA LLAMADA RECURSIVA"
   ]
  },
  {
   "cell_type": "code",
   "execution_count": null,
   "metadata": {},
   "outputs": [],
   "source": [
    "print(Fibo(35))"
   ]
  },
  {
   "cell_type": "code",
   "execution_count": null,
   "metadata": {},
   "outputs": [],
   "source": [
    "# Cálculo recursivo del factorial de un número n.\n",
    "# n! = n * (n-1)! || 0! = 1 || 1! = 1\n",
    "def factorial(n):\n",
    "    if type(n) is not int:\n",
    "        raise ValueError(\"N debe ser un numero entero\")\n",
    "    elif n <0 :\n",
    "        raise ValueError(\"N debe ser mayor a 0\")\n",
    "    else:     \n",
    "        if n<=1:\n",
    "            print('Se ejecuto el caso base')\n",
    "            return 1\n",
    "        else: \n",
    "            print('Llamada Recursiva {} * factorial({})'.format(n,n-1))\n",
    "            return n * factorial(n-1)"
   ]
  },
  {
   "cell_type": "markdown",
   "metadata": {},
   "source": []
  },
  {
   "cell_type": "code",
   "execution_count": null,
   "metadata": {},
   "outputs": [],
   "source": [
    "print(factorial(5))"
   ]
  },
  {
   "cell_type": "markdown",
   "metadata": {},
   "source": [
    "Como para el caso de la generación de conjuntos, listas, etc. por comprención. Podemos utilizar cualquier función, incluso aquellas que definimos nosotros. "
   ]
  },
  {
   "cell_type": "code",
   "execution_count": null,
   "metadata": {},
   "outputs": [],
   "source": [
    "# Ejemplo lista por comprención\n",
    "\n",
    "[factorial(n) for n in range(0,20)] # Para n>30 la performace es muy lenta. "
   ]
  },
  {
   "cell_type": "markdown",
   "metadata": {},
   "source": [
    "El uso de funciones recursivas no debe ser abusado. Este tipo de funciones nos permite la facilidad de escritura de una función, aunque generalmente requieren el uso de mucha memoria. *(Luego veremos cómo mejorar esto)*.\n"
   ]
  },
  {
   "cell_type": "code",
   "execution_count": null,
   "metadata": {},
   "outputs": [],
   "source": [
    "# Ejemplo: Fibonacci Iterativo\n",
    "def Fiboiter(n):\n",
    "    if n<0:\n",
    "        raise ValueError(\"La secuencia de Fibonacci comienza en '0'\") # si no comprabos que el parámetro es un \n",
    "                                                                      # nro. entero, por ejemplo, llamar a Fibo(-1) \n",
    "                                                                      # causara que la función nunca termine.\n",
    "    elif n==0:\n",
    "        return 1 # Primer caso base\n",
    "    elif n==1:\n",
    "        return 1 # Segundo caso base\n",
    "    else:\n",
    "        x=1 # elemento 0\n",
    "        y=1 # elemento 1ro\n",
    "        for i in range(1,n):\n",
    "            # elemento 'x' i-1-esimo, e 'y' sera el i-esimo elemento\n",
    "            x, y = y, x + y\n",
    "            # elemento 'x' i-esimo, e 'y' sera el i+1-esimo elemento\n",
    "        return y"
   ]
  },
  {
   "cell_type": "code",
   "execution_count": null,
   "metadata": {},
   "outputs": [],
   "source": [
    "N=20\n",
    "print(Fibo(N),\"=\",Fiboiter(N))"
   ]
  },
  {
   "cell_type": "code",
   "execution_count": null,
   "metadata": {},
   "outputs": [],
   "source": [
    "print(Fiboiter(100))"
   ]
  },
  {
   "cell_type": "code",
   "execution_count": null,
   "metadata": {},
   "outputs": [],
   "source": [
    "# Secuencia de Fibonacci contando la cantidad de llamaradas recursivas\n",
    "t=0\n",
    "def Fibo(n):\n",
    "\n",
    "    \"\"\"n debe ser un número entero \n",
    "    \"F(n)=F(n-1)+F(n-2), F(1)=F(0)=1\"\"\"\n",
    "    \n",
    "    global t # la variable t será considerada como global\n",
    "    t+=1     # hacemos algo con t\n",
    "    if n<0:\n",
    "        raise ValueError(\"Fibonacci terms begin at 0\") \n",
    "    elif n==0:\n",
    "        return 1 \n",
    "    elif n==1:\n",
    "        return 1 \n",
    "    else:\n",
    "        return Fibo(n-1)+Fibo(n-2)\n",
    "# Es posible estimar la cantidad de llamadas a la función? "
   ]
  },
  {
   "cell_type": "code",
   "execution_count": null,
   "metadata": {},
   "outputs": [],
   "source": [
    "help(Fibo)"
   ]
  },
  {
   "cell_type": "code",
   "execution_count": null,
   "metadata": {},
   "outputs": [],
   "source": [
    "t=0\n",
    "2 * Fibo(20) - 1"
   ]
  },
  {
   "cell_type": "code",
   "execution_count": null,
   "metadata": {},
   "outputs": [],
   "source": [
    "t"
   ]
  },
  {
   "cell_type": "markdown",
   "metadata": {},
   "source": [
    "## Funciónes y el \"alcanze\" (scope) de las variables\n",
    "\n",
    "El *alcanze* de una variable $\\texttt{v}$ es el conjunto de lineas de código, en donde la variable es comprendida. Es decir, donde el nombre de variable $\\texttt{v}$ esta asignado a un valor. \n",
    "\n",
    "A priori, es simple: \n",
    "\n",
    "\"*si la variable* $\\texttt{v}$ *esta definida en la linea* $n$ *el alcanze de la variable será cualquier linea* $m > n$ \".\n",
    "\n",
    "\n",
    "Esto se complica cuando introducimos funciones, estas pueden (o no) cambiar el alcanze de una variable. Esta situación se complica aún más cuando tenemos *funciones anidadas*, es decir, funciones dentro de otras funciones. \n",
    "\n",
    "A continuación veremos algunos ejemplos: \n"
   ]
  },
  {
   "cell_type": "code",
   "execution_count": null,
   "metadata": {},
   "outputs": [],
   "source": [
    "# Investigar en los siguientes ejemplos: - qué será impreso por pantalla? \n",
    "#                                        - cuál es el valor de x luego de cada llamada a una función? \n",
    "#                                        - habra algún mensaje de error?\n",
    "\n",
    "x=2\n",
    "\n",
    "def ExVar1():\n",
    "    print(x)\n",
    "    \n",
    "def ExVar2():\n",
    "    x=5\n",
    "    print(x)\n",
    "    \n",
    "def ExVar3():\n",
    "    x=5    \n",
    "    def ExVar11():\n",
    "        global x\n",
    "        print(x)       \n",
    "    ExVar11()    \n",
    "    print(x)\n",
    "    \n",
    "def ExVar4():\n",
    "    print(x)\n",
    "    print('x=1')"
   ]
  },
  {
   "cell_type": "code",
   "execution_count": null,
   "metadata": {},
   "outputs": [],
   "source": [
    "ExVar3()"
   ]
  },
  {
   "cell_type": "markdown",
   "metadata": {},
   "source": [
    "La razón principal por la cual los variables tienen un alcanze predefinido es para evitar **efectos secundarios**. Es decir, cambiar los valores de variables que pasamos por argumento y afectar el resto del código. Por ello, por defecto, el alcanze de las variables es **dentro del cuerpo de la función**. \n",
    "\n",
    "Notar que aquellas variables **invocadas que no están en el cuerpo de la función no existiran**.\n",
    "\n",
    "\n",
    "De esta menera podemos \"proteger\" las variables fuera de la función.\n",
    "\n",
    "Es posible cambiar este comportamiento. Debemos usar el comando $\\normalsize \\color{green}{\\textsf{ global }}$ o $\\normalsize \\color{green}{\\textsf{ nonlocal }}$. La diferencia entre ambos es sutil: \n",
    "\n",
    "Sea una variable $\\texttt{v}$:\n",
    "\n",
    "- Con el comando $\\normalsize \\color{green}{\\textsf{ global }}$ $\\texttt{v}$, la variable $\\texttt{v}$ será usada como una variable global (externa a la función), perteneciente al código con mayor alcanze. \n",
    "\n",
    "- Con el comando $\\normalsize \\color{green}{\\textsf{ nonlocal }}$ $\\texttt{v}$, la variable $\\texttt{v}$ será aquella cual alcanze es de **un nivel superioir**, es decir, en funciónes anidadas, aquella que tenga mayor alcanze.  \n",
    "\n",
    "\n",
    "Debemos notar que al utilizar $\\normalsize \\color{green}{\\textsf{ nonlocal }}$ en funciones recursivas, generara un error del tipo **SyntaxError**. \n",
    "\n"
   ]
  },
  {
   "cell_type": "markdown",
   "metadata": {},
   "source": [
    "## Añadir nuestra función al comando \"help\"\n",
    "\n",
    "Si queremos añadir texto el cual será impreso cuando llamamos a la función $\\normalsize \\color{green}{\\textsf{ help }}$, simplemente debemos escribir una(s) linea(s) de texto luego de la definición de nustra función.\n"
   ]
  },
  {
   "cell_type": "code",
   "execution_count": null,
   "metadata": {},
   "outputs": [],
   "source": [
    "def nicelydocumented():\n",
    "    \"Esta función devuelve TRUE siempre.\"\n",
    "    \"Esta linea no será vista\" \n",
    "    \n",
    "    return True"
   ]
  },
  {
   "cell_type": "code",
   "execution_count": null,
   "metadata": {},
   "outputs": [],
   "source": [
    "nicelydocumented()"
   ]
  },
  {
   "cell_type": "code",
   "execution_count": null,
   "metadata": {},
   "outputs": [],
   "source": [
    "help(nicelydocumented)"
   ]
  },
  {
   "cell_type": "markdown",
   "metadata": {},
   "source": [
    "Como hemos visto en las definiciones de algunas anteriores, es posible escribir más de una linea de texto, utilizando cualquier método para escribir strings largos (i.e. triple comillas o la barra al final de cada linea).  "
   ]
  },
  {
   "cell_type": "markdown",
   "metadata": {},
   "source": [
    "# Módulos en Python\n",
    "\n",
    "\n",
    "Para que nos siven? Nos permiten definir nuestras propias funciones, bloques de codigo, metodos, pbjetos, tipos de datos, etc. \n",
    "Cuando desarrollamos, aunque es possible hacerlo de manera individual, **requiere mucho tiempo y esfuerzo**, además de se debe considerar la (posible) **falta de eficiencia u otimización** del codigo.\n",
    "\n",
    "El comando $\\normalsize \\color{green}{\\textsf{import}}$ nos permite utilizar funciones y objetos definidos fuera de las funciones pre-definidas en Python.\n",
    "\n",
    "Por qué estas funciones no estas dentro de Python? Son muchas y muy especificas a cada dominio. A raíz de esto, los siguientes problemas aparecen: \n",
    "\n",
    "- Uso ineficiente de memoria.\n",
    "- Conflictos de nombres.\n",
    "\n",
    "\n",
    "Usar $\\textit{módulos}$ nos permite trabajar de forma colaborativa, en equipos. De esta manera se podrán abordar projectos de gran magnitud. \n"
   ]
  },
  {
   "cell_type": "markdown",
   "metadata": {},
   "source": [
    "## Cómo usar $\\normalsize \\color{green}{\\textsf{import}}$ ?\n",
    "\n",
    "\n",
    "Hay dos fromas de usar el comando $\\normalsize \\color{green}{\\textsf{import}}$.\n"
   ]
  },
  {
   "cell_type": "markdown",
   "metadata": {},
   "source": [
    "### Importar solo un módulo.\n",
    "\n",
    "$\\normalsize \\color{green}{\\textsf{ import }} \\texttt{nombre\\_módulo}$\n",
    "\n",
    "\n",
    "Luego podremos llamar a la cualquier función $\\texttt{func}$ definida dentro del módulo $\\texttt{nombre\\_módulo}$, de la siguiente forma: $\\texttt{nombre\\_módule.func}$."
   ]
  },
  {
   "cell_type": "code",
   "execution_count": 26,
   "metadata": {},
   "outputs": [
    {
     "data": {
      "text/plain": [
       "24"
      ]
     },
     "execution_count": 26,
     "metadata": {},
     "output_type": "execute_result"
    }
   ],
   "source": [
    "#Ejemplo nombramiento directo\n",
    "import random\n",
    "random.randrange(100)"
   ]
  },
  {
   "cell_type": "code",
   "execution_count": 27,
   "metadata": {},
   "outputs": [
    {
     "data": {
      "text/plain": [
       "3.141592653589793"
      ]
     },
     "execution_count": 27,
     "metadata": {},
     "output_type": "execute_result"
    }
   ],
   "source": [
    "import numpy\n",
    "numpy.pi  #numpy.pi es la aproximación del número pi."
   ]
  },
  {
   "cell_type": "markdown",
   "metadata": {},
   "source": [
    "De forma técnica, el comando $\\normalsize \\color{green}{\\textsf{import}}$ $\\texttt{ nombre\\_módulo }$ ,  genera una nueva variable $\\texttt{nombre\\_módulo}$ tipo $\\textit{módulo}$. Luego, las funciones y/o métodos definidas en el módulo pueden ser llamados o invocados desde nuestro codigo. \n"
   ]
  },
  {
   "cell_type": "code",
   "execution_count": 28,
   "metadata": {},
   "outputs": [
    {
     "name": "stdout",
     "output_type": "stream",
     "text": [
      "<class 'module'>\n",
      "<class 'method'>\n",
      "<class 'float'>\n"
     ]
    }
   ],
   "source": [
    "print(type(random)) # Tipo : module (módulo)\n",
    "print(type(random.randrange)) # Tipo : method (método)\n",
    "print(type(numpy.pi))"
   ]
  },
  {
   "cell_type": "code",
   "execution_count": 29,
   "metadata": {},
   "outputs": [
    {
     "ename": "NameError",
     "evalue": "name 'randrange' is not defined",
     "output_type": "error",
     "traceback": [
      "\u001b[0;31m---------------------------------------------------------------------------\u001b[0m",
      "\u001b[0;31mNameError\u001b[0m                                 Traceback (most recent call last)",
      "\u001b[0;32m<ipython-input-29-461c2259a0df>\u001b[0m in \u001b[0;36m<module>\u001b[0;34m\u001b[0m\n\u001b[0;32m----> 1\u001b[0;31m \u001b[0mrandrange\u001b[0m\u001b[0;34m(\u001b[0m\u001b[0;36m100\u001b[0m\u001b[0;34m)\u001b[0m \u001b[0;31m# Esto genera un error del tipo \"NameError\" porque la función randrange no esta definida.\u001b[0m\u001b[0;34m\u001b[0m\u001b[0;34m\u001b[0m\u001b[0m\n\u001b[0m",
      "\u001b[0;31mNameError\u001b[0m: name 'randrange' is not defined"
     ]
    }
   ],
   "source": [
    "randrange(100) # Esto genera un error del tipo \"NameError\" porque la función randrange no esta definida. "
   ]
  },
  {
   "cell_type": "markdown",
   "metadata": {},
   "source": [
    "También es posible cambiar el nombre de los módulos, por otro, generalmente más corto.\n",
    "\n",
    "$\\normalsize \\color{green}{\\textsf{import}}$ $\\texttt{ nombre\\_módulo}$ $\\normalsize \\color{green}{\\textsf{as}}$ $\\texttt{nuevo\\_nombre}$"
   ]
  },
  {
   "cell_type": "code",
   "execution_count": 30,
   "metadata": {},
   "outputs": [
    {
     "name": "stdout",
     "output_type": "stream",
     "text": [
      "3.141592653589793\n"
     ]
    },
    {
     "ename": "NameError",
     "evalue": "name 'math' is not defined",
     "output_type": "error",
     "traceback": [
      "\u001b[0;31m---------------------------------------------------------------------------\u001b[0m",
      "\u001b[0;31mNameError\u001b[0m                                 Traceback (most recent call last)",
      "\u001b[0;32m<ipython-input-30-0eac26da685a>\u001b[0m in \u001b[0;36m<module>\u001b[0;34m\u001b[0m\n\u001b[1;32m      2\u001b[0m                  \u001b[0;31m# m es el objeto que contiene las funciones del módulo math.\u001b[0m\u001b[0;34m\u001b[0m\u001b[0;34m\u001b[0m\u001b[0;34m\u001b[0m\u001b[0m\n\u001b[1;32m      3\u001b[0m \u001b[0mprint\u001b[0m\u001b[0;34m(\u001b[0m\u001b[0mm\u001b[0m\u001b[0;34m.\u001b[0m\u001b[0mpi\u001b[0m\u001b[0;34m)\u001b[0m \u001b[0;31m# funciona...\u001b[0m\u001b[0;34m\u001b[0m\u001b[0;34m\u001b[0m\u001b[0m\n\u001b[0;32m----> 4\u001b[0;31m \u001b[0mmath\u001b[0m\u001b[0;34m.\u001b[0m\u001b[0mpi\u001b[0m \u001b[0;31m# NameError\u001b[0m\u001b[0;34m\u001b[0m\u001b[0;34m\u001b[0m\u001b[0m\n\u001b[0m",
      "\u001b[0;31mNameError\u001b[0m: name 'math' is not defined"
     ]
    }
   ],
   "source": [
    "import math as m # el nommbre 'math' no es asociado al modulo (el nombre de variable esta \"libre\") \n",
    "                 # m es el objeto que contiene las funciones del módulo math. \n",
    "print(m.pi) # funciona...\n",
    "math.pi # NameError"
   ]
  },
  {
   "cell_type": "markdown",
   "metadata": {},
   "source": [
    "### Importar objectos desde un módulo\n",
    "\n",
    "La otra manera de importar funciones (objetos, métodos, etc.) definidas en un módulo es asignando un nuevo monbre para ellas:\n",
    "\n",
    "$\\normalsize \\color{green}{\\textsf{ from }}$ $\\texttt{ nombre\\_módulo}$ $\\normalsize \\color{green}{\\textsf{ import }}$ $\\texttt{algo\\_1, algo\\_2, ...}$ $\\normalsize \\color{green}{\\textsf{ as }}$ $\\texttt{nuevo\\_mombre\\_1, nuevo\\_nombre\\_2, ...}$\n"
   ]
  },
  {
   "cell_type": "code",
   "execution_count": 31,
   "metadata": {},
   "outputs": [
    {
     "data": {
      "text/plain": [
       "True"
      ]
     },
     "execution_count": 31,
     "metadata": {},
     "output_type": "execute_result"
    }
   ],
   "source": [
    "from math import pi as sliceofpie # sliceofpie es un número con el valor de math.pi\n",
    "from math import pi # el comando \"as\" es opcional\n",
    "pi == sliceofpie # Son Iguales"
   ]
  },
  {
   "cell_type": "markdown",
   "metadata": {},
   "source": [
    "Si queremos importar un módulo de manera **\"completa\"**, es decir, todas las funciones, objetos, etc, invocamos el siguiente comando:\n",
    "\n",
    "\n",
    "$\\normalsize \\color{green}{\\textsf{ from }}$ $\\texttt{nombre\\_módulo}$ $\\normalsize \\color{green}{\\textsf{import}}$ $\\texttt{ * }$\n"
   ]
  },
  {
   "cell_type": "code",
   "execution_count": 32,
   "metadata": {},
   "outputs": [
    {
     "data": {
      "text/plain": [
       "3.141592653589793"
      ]
     },
     "execution_count": 32,
     "metadata": {},
     "output_type": "execute_result"
    }
   ],
   "source": [
    "#import math \n",
    "#math.pi \n",
    "\n",
    "from random import *\n",
    "randrange(100)\n",
    "\n",
    "from math import *\n",
    "pi"
   ]
  },
  {
   "cell_type": "code",
   "execution_count": 37,
   "metadata": {},
   "outputs": [
    {
     "name": "stdout",
     "output_type": "stream",
     "text": [
      "BPF - LOG4 - NV_MAGICCONST - RECIP_BPF - Random - SG_MAGICCONST - SystemRandom - TWOPI - _BuiltinMethodType - _MethodType - _Sequence - _Set - __all__ - __builtins__ - __cached__ - __doc__ - __file__ - __loader__ - __name__ - __package__ - __spec__ - _acos - _bisect - _ceil - _cos - _e - _exp - _inst - _itertools - _log - _os - _pi - _random - _sha512 - _sin - _sqrt - _test - _test_generator - _urandom - _warn - betavariate - choice - choices - expovariate - gammavariate - gauss - getrandbits - getstate - lognormvariate - normalvariate - paretovariate - randint - random - randrange - sample - seed - setstate - shuffle - triangular - uniform - vonmisesvariate - weibullvariate - \n",
      "['__add__', '__class__', '__contains__', '__delattr__', '__dir__', '__doc__', '__eq__', '__format__', '__ge__', '__getattribute__', '__getitem__', '__getnewargs__', '__gt__', '__hash__', '__init__', '__init_subclass__', '__iter__', '__le__', '__len__', '__lt__', '__mod__', '__mul__', '__ne__', '__new__', '__reduce__', '__reduce_ex__', '__repr__', '__rmod__', '__rmul__', '__setattr__', '__sizeof__', '__str__', '__subclasshook__', 'capitalize', 'casefold', 'center', 'count', 'encode', 'endswith', 'expandtabs', 'find', 'format', 'format_map', 'index', 'isalnum', 'isalpha', 'isascii', 'isdecimal', 'isdigit', 'isidentifier', 'islower', 'isnumeric', 'isprintable', 'isspace', 'istitle', 'isupper', 'join', 'ljust', 'lower', 'lstrip', 'maketrans', 'partition', 'replace', 'rfind', 'rindex', 'rjust', 'rpartition', 'rsplit', 'rstrip', 'split', 'splitlines', 'startswith', 'strip', 'swapcase', 'title', 'translate', 'upper', 'zfill']\n"
     ]
    }
   ],
   "source": [
    "import random\n",
    "for x in  dir(random): #Funciones provistas por Python (built-in functions).  \n",
    "    print (x, end= \" - \")\n",
    "    \n",
    "help(random)"
   ]
  },
  {
   "cell_type": "markdown",
   "metadata": {},
   "source": [
    "Aunque los módulos mas usados, toman en cuenta la definición de nombres de manera cuidadosa para no generar conflictos. Es una buena practica evitar importar \"todo\" (utilizando asterisco) si importaremos mas de un módulo. \n"
   ]
  },
  {
   "cell_type": "markdown",
   "metadata": {},
   "source": [
    "## Algunos de los módulos mas utilizados\n",
    "\n",
    "Nota: algunos de estos módulos vienen provistos dependiendo de que versión y via que método instalamos Python. Los módulos qué no esten presentes, deben ser instalados manualmente o mediante la herramienta **\"pip\"**\n"
   ]
  },
  {
   "cell_type": "markdown",
   "metadata": {},
   "source": [
    "### Módulo math\n",
    "\n",
    "Para la mayoría de los módulos \"comunes\" de Python, la documentación es extensiva y clara. Ver Documentación del módulo $\\texttt{math}$: https://docs.python.org/es/3.6/library/math.html\n",
    "\n",
    "La libreria $\\texttt{math}$ contiene funciones comunes (logaritmoms, exponenciales, trigonometricas, ...) y algunas constantes ($\\pi$, $e$, ...), además de algunos otras definiciones, por ejemplo $\\texttt{inf}$ ($+\\infty$) y $\\texttt{nan}$ que \"No Representa a un Número\" (Not A Number) y es del tipo número de punto flotante\". \n"
   ]
  },
  {
   "cell_type": "code",
   "execution_count": 38,
   "metadata": {
    "scrolled": true
   },
   "outputs": [
    {
     "name": "stdout",
     "output_type": "stream",
     "text": [
      "inf\n",
      "0.0\n",
      "nan\n",
      "\n",
      "nan\n"
     ]
    }
   ],
   "source": [
    "from math import inf,nan\n",
    "\n",
    "print(inf+inf)\n",
    "print(1/inf) \n",
    "print(inf-inf)# \"Indeterminado\" aunque no genera error  \n",
    "print()\n",
    "print(nan)"
   ]
  },
  {
   "cell_type": "code",
   "execution_count": 39,
   "metadata": {},
   "outputs": [
    {
     "ename": "ZeroDivisionError",
     "evalue": "float division by zero",
     "output_type": "error",
     "traceback": [
      "\u001b[0;31m---------------------------------------------------------------------------\u001b[0m",
      "\u001b[0;31mZeroDivisionError\u001b[0m                         Traceback (most recent call last)",
      "\u001b[0;32m<ipython-input-39-59853e540af7>\u001b[0m in \u001b[0;36m<module>\u001b[0;34m\u001b[0m\n\u001b[0;32m----> 1\u001b[0;31m \u001b[0;36m1.0\u001b[0m\u001b[0;34m/\u001b[0m\u001b[0;36m0.0\u001b[0m \u001b[0;31m# Infinito no es un resultado valido.\u001b[0m\u001b[0;34m\u001b[0m\u001b[0;34m\u001b[0m\u001b[0m\n\u001b[0m",
      "\u001b[0;31mZeroDivisionError\u001b[0m: float division by zero"
     ]
    }
   ],
   "source": [
    "1.0/0.0 # Infinito no es un resultado valido. "
   ]
  },
  {
   "cell_type": "code",
   "execution_count": 40,
   "metadata": {},
   "outputs": [
    {
     "ename": "ValueError",
     "evalue": "math domain error",
     "output_type": "error",
     "traceback": [
      "\u001b[0;31m---------------------------------------------------------------------------\u001b[0m",
      "\u001b[0;31mValueError\u001b[0m                                Traceback (most recent call last)",
      "\u001b[0;32m<ipython-input-40-b6a9a468b4e3>\u001b[0m in \u001b[0;36m<module>\u001b[0;34m\u001b[0m\n\u001b[1;32m      1\u001b[0m \u001b[0;32mfrom\u001b[0m \u001b[0mmath\u001b[0m \u001b[0;32mimport\u001b[0m \u001b[0mlog\u001b[0m\u001b[0;34m\u001b[0m\u001b[0;34m\u001b[0m\u001b[0m\n\u001b[0;32m----> 2\u001b[0;31m \u001b[0mlog\u001b[0m\u001b[0;34m(\u001b[0m\u001b[0;36m0\u001b[0m\u001b[0;34m)\u001b[0m \u001b[0;31m#no -inf definido (solo +inf)\u001b[0m\u001b[0;34m\u001b[0m\u001b[0;34m\u001b[0m\u001b[0m\n\u001b[0m",
      "\u001b[0;31mValueError\u001b[0m: math domain error"
     ]
    }
   ],
   "source": [
    "from math import log\n",
    "log(0) #no -inf definido (solo +inf)"
   ]
  },
  {
   "cell_type": "markdown",
   "metadata": {},
   "source": [
    "### Módulo numpy\n",
    "\n",
    "Su Documentación completa está disponible aqui: http://www.numpy.org. Particularmente interesante para problemas mathematicos. \n",
    "Nos ofrece un nuevo tipo de dato \"arreglo\" (array), tambien llamados \"vectores\", cuando todos los elementos son del mismo tipo.  \n"
   ]
  },
  {
   "cell_type": "code",
   "execution_count": 41,
   "metadata": {},
   "outputs": [],
   "source": [
    "import numpy as np"
   ]
  },
  {
   "cell_type": "code",
   "execution_count": 42,
   "metadata": {},
   "outputs": [
    {
     "name": "stdout",
     "output_type": "stream",
     "text": [
      "[[1 1]\n",
      " [1 1]]\n",
      "[[1, 1], [1, 1]]\n"
     ]
    },
    {
     "data": {
      "text/plain": [
       "numpy.ndarray"
      ]
     },
     "execution_count": 42,
     "metadata": {},
     "output_type": "execute_result"
    }
   ],
   "source": [
    "v=np.array([[1,1],[1,1]])# Crea un arreglo de 2 x 2 (es decir, una matríz).  \n",
    "                         # v= [ 1 | 1\n",
    "                         #      1 | 1 ]\n",
    "print(v)\n",
    "\n",
    "print([[1,1],[1,1]])\n",
    "\n",
    "type(v)"
   ]
  },
  {
   "cell_type": "code",
   "execution_count": 43,
   "metadata": {},
   "outputs": [
    {
     "name": "stdout",
     "output_type": "stream",
     "text": [
      "[[2 2]\n",
      " [2 2]]\n"
     ]
    }
   ],
   "source": [
    "v+=v\n",
    "print(v)"
   ]
  },
  {
   "cell_type": "code",
   "execution_count": null,
   "metadata": {},
   "outputs": [],
   "source": [
    "v=np.array([[1,2],[3,4]])\n",
    "print(v)\n",
    "print(v[0][1]) # Podemos indexar los elementos de un array\n",
    "v[0][1]=5 \n",
    "print(v)\n",
    "w=v     # Los arrays son objetos \"mutables\".\n",
    "w[0][1]=3\n",
    "print(w,'\\n',v)  \n"
   ]
  },
  {
   "cell_type": "code",
   "execution_count": 44,
   "metadata": {},
   "outputs": [
    {
     "data": {
      "text/plain": [
       "array([[ 1.        +0.j,  2.        +0.j],\n",
       "       [ 0.        +1.j,  0.1       +0.j],\n",
       "       [ 3.        +7.j, -3.14159265+0.j]])"
      ]
     },
     "execution_count": 44,
     "metadata": {},
     "output_type": "execute_result"
    }
   ],
   "source": [
    "np.array([[True,2.0],[0+1j,0.1],(3+7*1j,-np.pi)]) # La *función* array normalizara los datos \n",
    "                                                  # que ingresamos por parametros. "
   ]
  },
  {
   "cell_type": "code",
   "execution_count": 45,
   "metadata": {},
   "outputs": [
    {
     "data": {
      "text/plain": [
       "array([[[[0., 0., 0.],\n",
       "         [0., 0., 0.],\n",
       "         [0., 0., 0.],\n",
       "         [0., 0., 0.]],\n",
       "\n",
       "        [[0., 0., 0.],\n",
       "         [0., 0., 0.],\n",
       "         [0., 0., 0.],\n",
       "         [0., 0., 0.]],\n",
       "\n",
       "        [[0., 0., 0.],\n",
       "         [0., 0., 0.],\n",
       "         [0., 0., 0.],\n",
       "         [0., 0., 0.]]],\n",
       "\n",
       "\n",
       "       [[[0., 0., 0.],\n",
       "         [0., 0., 0.],\n",
       "         [0., 0., 0.],\n",
       "         [0., 0., 0.]],\n",
       "\n",
       "        [[0., 0., 0.],\n",
       "         [0., 0., 0.],\n",
       "         [0., 0., 0.],\n",
       "         [0., 0., 0.]],\n",
       "\n",
       "        [[0., 0., 0.],\n",
       "         [0., 0., 0.],\n",
       "         [0., 0., 0.],\n",
       "         [0., 0., 0.]]]])"
      ]
     },
     "execution_count": 45,
     "metadata": {},
     "output_type": "execute_result"
    }
   ],
   "source": [
    "np.zeros([2,3,4,3]) # podemos crear arreglos multi-dimensionales"
   ]
  },
  {
   "cell_type": "markdown",
   "metadata": {},
   "source": [
    "Además tenemos provisto el tipo $\\textit{Matríz}$. "
   ]
  },
  {
   "cell_type": "code",
   "execution_count": 46,
   "metadata": {},
   "outputs": [
    {
     "name": "stdout",
     "output_type": "stream",
     "text": [
      "[[0.-0.j 0.-1.j]\n",
      " [0.-1.j 0.-0.j]]\n",
      "[[-1.+0.j  0.+0.j]\n",
      " [ 0.+0.j -1.+0.j]]\n"
     ]
    }
   ],
   "source": [
    "M=np.matrix([[0,1j],[1j,0]]) # Tipo : matrix\n",
    "print(M.conjugate()) # Retorna wl conjugado de la matríz.\n",
    "print(M*M)"
   ]
  },
  {
   "cell_type": "code",
   "execution_count": 47,
   "metadata": {},
   "outputs": [
    {
     "name": "stdout",
     "output_type": "stream",
     "text": [
      "[[   0.+0.j 2713.+0.j]\n",
      " [   0.+1.j    0.+0.j]]\n"
     ]
    }
   ],
   "source": [
    "N = M     # Las matrices son elementos mutables.\n",
    "N[0,1]=2713\n",
    "print(M)"
   ]
  },
  {
   "cell_type": "markdown",
   "metadata": {},
   "source": [
    "También podemos generar estructuras de mayor deminesión, i.e. Tensores. "
   ]
  },
  {
   "cell_type": "markdown",
   "metadata": {},
   "source": [
    "### Módulo scipy\n",
    "\n",
    "Su Documentación completa está disponible aqui: https://www.scipy.org. Contiene a los módulos $\\texttt{numpy}$ (analisis numerico), $\\texttt{sympy}$ (computación simbolica), y otras heramientas útiles que veremos luego.\n"
   ]
  },
  {
   "cell_type": "markdown",
   "metadata": {},
   "source": [
    "### Módulo random\n",
    "\n",
    "Como lo indica su nombre, se utiliza para generar valores (u objetos) aleatorios. \n"
   ]
  },
  {
   "cell_type": "code",
   "execution_count": 48,
   "metadata": {},
   "outputs": [],
   "source": [
    "import random"
   ]
  },
  {
   "cell_type": "code",
   "execution_count": 70,
   "metadata": {},
   "outputs": [
    {
     "data": {
      "text/plain": [
       "0.8200736095541119"
      ]
     },
     "execution_count": 70,
     "metadata": {},
     "output_type": "execute_result"
    }
   ],
   "source": [
    "random.random() # Retorna un número de punto flotante aleatorio entre 0 y 1 (igual que la calculadora)"
   ]
  },
  {
   "cell_type": "code",
   "execution_count": 62,
   "metadata": {},
   "outputs": [
    {
     "data": {
      "text/plain": [
       "3"
      ]
     },
     "execution_count": 62,
     "metadata": {},
     "output_type": "execute_result"
    }
   ],
   "source": [
    "random.randrange(0,4) # Retorna un entero aleatorio entre 0 y 3 (incluido)"
   ]
  },
  {
   "cell_type": "code",
   "execution_count": 65,
   "metadata": {},
   "outputs": [
    {
     "data": {
      "text/plain": [
       "['Oct',\n",
       " 'Jan',\n",
       " 'Nov',\n",
       " 'Sep',\n",
       " 'Feb',\n",
       " 'May',\n",
       " 'Mar',\n",
       " 'Jul',\n",
       " 'Apr',\n",
       " 'Dec',\n",
       " 'Jun',\n",
       " 'Aug']"
      ]
     },
     "execution_count": 65,
     "metadata": {},
     "output_type": "execute_result"
    }
   ],
   "source": [
    "Meses=['Jan','Feb','Mar','Apr','May','Jun','Jul','Aug','Sep','Oct','Nov','Dec']\n",
    "random.shuffle(Meses) #Mezcla los meses (la lista Meses ha sido cambiada)\n",
    "Meses"
   ]
  },
  {
   "cell_type": "code",
   "execution_count": 71,
   "metadata": {},
   "outputs": [
    {
     "data": {
      "text/plain": [
       "['Jun', 'Aug', 'Jul', 'Sep', 'May']"
      ]
     },
     "execution_count": 71,
     "metadata": {},
     "output_type": "execute_result"
    }
   ],
   "source": [
    "random.sample(Meses,k=5) # Retorna una muestra de 5 elementos de la población Meses\n",
    "#Comparar con las opciones: random.shuffle(L) and random.sample(L,len(L))"
   ]
  },
  {
   "cell_type": "code",
   "execution_count": null,
   "metadata": {},
   "outputs": [],
   "source": [
    "#Ejercicio: Paradoja del Cumpleaños. Dentro de un grupo de 10 personas, asumiendo que \n",
    "#sus cumpleños siguen una distribución normal sobre los 365 dias de año. Calcular una aproximación\n",
    "#de la probabilidad que dos personas cumplan años el mismo día.\n",
    "#Mismo ejercicio, pero para 30 personas.\n",
    "\n",
    "N=10000 #Numero de iteraciones (tests)\n",
    "Npeople=10 #Número de personas. \n",
    "S=0     #+1 si no hay cumpleños que iguales, 0 en otro caso.\n",
    "for ntest in range(0,N):\n",
    "    Lbirthday=[]\n",
    "    for x in range(0,Npeople):\n",
    "        birthday=random.randrange(0,366)\n",
    "        if birthday in Lbirthday:     # Verificar si dos personas tienen el mismo cumpleaños\n",
    "            test=0             # Mantendremos S = 0. \n",
    "            break              # Salimos del ciclo.\n",
    "        else:\n",
    "            Lbirthday.append(birthday) #Añadir el cumpleaños a la lista de cumpleaños para ese día.\n",
    "    \n",
    "    if len(Lbirthday)==Npeople:   # Si la lista de cumpleños Lbirthday es igual a Npeople, entonces todas\n",
    "                                  # las personas tienen diferentes cumpleaños. \n",
    "        test=1\n",
    "        \n",
    "    S+=test                   # Añadimos los resultados del test a la variable S\n",
    "\n",
    "print(S/N) # Mostrar porcentaje.  \n",
    "\n",
    "\n"
   ]
  },
  {
   "cell_type": "code",
   "execution_count": null,
   "metadata": {},
   "outputs": [],
   "source": [
    "# Ejercicio : Supongamos que hacemos una \"tirada\" de  10 dados. \n",
    "    # Ganaremos $200 si la suma de los valores esta entre los 10 y 23. \n",
    "    # Perderemos $1600 si la suma de los valores es 24 o 48.\n",
    "    # Ganaremos $2500 si la suma de los valores es 42.\n",
    "    # Perderemos $500 en cualquier otro caso.\n",
    "  # Deberiamos jugar a este juego?\n",
    "\n",
    "\n",
    "N=10000 #Número de iteraciones o \"tests\"\n",
    "S=0     #Suma total del dinero ganado/perdido \n",
    "\n",
    "for ntest in range(0,N):\n",
    "    \n",
    "    dicesvalue=0           #Inicialización\n",
    "    \n",
    "    for ndice in range(0,10):      #\" tiramos los dados 10 veces\" \n",
    "        dicesvalue+=random.randrange(1,7)  # \"tirada\" de **un** dado \n",
    "    \n",
    "    if dicesvalue<= 23:   # Aplicamos las reglas del juego\n",
    "        S+=200\n",
    "    elif dicesvalue==10 or dicesvalue==23:\n",
    "        S-=1600\n",
    "    elif dicesvalue==42:\n",
    "        S+=2500\n",
    "    else:\n",
    "        dicesvalue-=500\n",
    "        \n",
    "print(S/N)  # El promedio S/N es una buen estimador de la \"espranza\" de las ganancias. \n",
    "\n"
   ]
  },
  {
   "cell_type": "markdown",
   "metadata": {},
   "source": [
    "## Importar módulos escritos por el usuario\n",
    "\n",
    "Podemos importar nuestras propios módulos, para ello, veremos como método de encapsilación: **Clases**. \n"
   ]
  },
  {
   "cell_type": "markdown",
   "metadata": {
    "slideshow": {
     "slide_type": "skip"
    }
   },
   "source": [
    "## Preliminares : Funciones vs. Métodos"
   ]
  },
  {
   "cell_type": "markdown",
   "metadata": {
    "slideshow": {
     "slide_type": "skip"
    }
   },
   "source": [
    "Python nos provee de dos formas de ejecutar instrucciones y retornar valoes, dados una serie de parametros. Podemos llamar a una **función** o a un **método**. \n",
    "\n",
    "Ya hemos visto algunos ejemplos de funciones como $\\normalsize \\color{green}{\\textsf{print}}$, $\\normalsize \\color{green}{\\textsf{len}}$,$\\dots$. \n",
    "\n",
    "Un método es tipo específico de \"función\" y es llamdo (o invocado) de la siguiente forma: \n",
    "\n",
    "\n",
    "Si $\\texttt{obj}$ es un objeto del tipo **type** y **method** es un método asociado al tipo **type**, entonces llamaremos (o invocaremos) al método utilizando $\\texttt{obj.method}(\\cdot)$ en donde, $\\cdot$ puede contener parametros o no. "
   ]
  },
  {
   "cell_type": "code",
   "execution_count": 75,
   "metadata": {
    "slideshow": {
     "slide_type": "skip"
    }
   },
   "outputs": [
    {
     "name": "stdout",
     "output_type": "stream",
     "text": [
      "4\n",
      "0\n"
     ]
    }
   ],
   "source": [
    "c='ertl'\n",
    "print(len(c)) # Función\n",
    "print(c.index('e'))  # Método"
   ]
  },
  {
   "cell_type": "markdown",
   "metadata": {
    "slideshow": {
     "slide_type": "skip"
    }
   },
   "source": [
    "De manera practica no existen muchas diferencias entre métodos y funciones. Las funciones serán definidas como objetos inependientes, mientras que los métodos están definidas dentro de un tipo de objeto y no \"existiran\" fuera de este.\n"
   ]
  },
  {
   "cell_type": "code",
   "execution_count": null,
   "metadata": {
    "collapsed": true,
    "slideshow": {
     "slide_type": "skip"
    }
   },
   "outputs": [],
   "source": [
    "#len=2\n",
    "#len(c) # No tendra ningun sentido"
   ]
  },
  {
   "cell_type": "markdown",
   "metadata": {
    "slideshow": {
     "slide_type": "skip"
    }
   },
   "source": [
    "Funciones y métodos pueden retornar un valor (como en el caso de **len**) o sólamente realizar una acción (como en el caso de **print**). También pueden modificar otros objetos. "
   ]
  },
  {
   "cell_type": "code",
   "execution_count": null,
   "metadata": {
    "slideshow": {
     "slide_type": "skip"
    }
   },
   "outputs": [],
   "source": [
    "type(print(c)) # print (ejecutado) no tiene valor o tipo."
   ]
  },
  {
   "cell_type": "markdown",
   "metadata": {},
   "source": [
    "# Clases en Python\n",
    "\n",
    "En Python, una $\\textit{Clase}$ nos permite definir nuestros propies tipos de objetos. Debemos pensar en una Clase, cómo un \"template\" de nuestros objetos, donde definiremos sus **atributos** (variables internas) y/o **métodos** (\"comportamientos\", o funciones internas). \n",
    "\n",
    "Ambas pueden ser invoacadas regularmente de la siguiente forma: $\\texttt{obj.name}$. \n"
   ]
  },
  {
   "cell_type": "markdown",
   "metadata": {},
   "source": [
    "## Definición"
   ]
  },
  {
   "cell_type": "code",
   "execution_count": 76,
   "metadata": {},
   "outputs": [
    {
     "data": {
      "text/plain": [
       "__main__.MyfirstClass"
      ]
     },
     "execution_count": 76,
     "metadata": {},
     "output_type": "execute_result"
    }
   ],
   "source": [
    "class MyfirstClass(): pass   \n",
    "    # Atributos \n",
    "    # Métodos\n",
    "    \n",
    "x = MyfirstClass() # Define un objecto del Tipo 'MyfirstClass'\n",
    "type(x)"
   ]
  },
  {
   "cell_type": "code",
   "execution_count": 77,
   "metadata": {},
   "outputs": [
    {
     "name": "stdout",
     "output_type": "stream",
     "text": [
      "Pierre\n",
      "Paul\n"
     ]
    }
   ],
   "source": [
    "xy=MyfirstClass()\n",
    "xy.name='Pierre' # Luego de realizada esta asignación \"xy.name\" es el \"name\" del objeto 'xy'\n",
    "print(xy.name)          # Notar que el atributo 'name' no estaba definido anteriormente en MyfirstClass.\n",
    "z=xy\n",
    "z.name='Paul' # los atributos son objetos mutables.\n",
    "print(xy.name)"
   ]
  },
  {
   "cell_type": "markdown",
   "metadata": {},
   "source": [
    "De manera similar a las funciones, podremos definir valores por defecto, para la instanciación de un nuevo objeto:\n"
   ]
  },
  {
   "cell_type": "code",
   "execution_count": 78,
   "metadata": {},
   "outputs": [],
   "source": [
    "class Ratio():\n",
    "    \"Número Racional\"\n",
    "    def __init__(self,numerator,denominator): # Siempre usar \"self\" para referirse a los atributos\n",
    "                                              # del objeto (variables internas)\n",
    "        self.num=numerator\n",
    "        self.den=denominator"
   ]
  },
  {
   "cell_type": "code",
   "execution_count": 79,
   "metadata": {
    "scrolled": true
   },
   "outputs": [
    {
     "name": "stdout",
     "output_type": "stream",
     "text": [
      "0\n",
      "1\n"
     ]
    }
   ],
   "source": [
    "q=Ratio(0,1) # Crea una variable \"q\" de tipo \"Ratio\" , donde el numerador es 0 y el denominador es 1\n",
    "print(q.num)\n",
    "print(q.den) "
   ]
  },
  {
   "cell_type": "markdown",
   "metadata": {},
   "source": [
    "## Métodos asociados al objeto\n",
    "\n",
    "Dentro de la Clase definimos los métodos (funciones internas a los objetos) que los objetos requieren para realizar computaciones, acciones, etc. \n"
   ]
  },
  {
   "cell_type": "code",
   "execution_count": 80,
   "metadata": {},
   "outputs": [],
   "source": [
    "class Ratio():\n",
    "    \"rational number\"\n",
    "    def __init__(self,numerator,denominator):\n",
    "        self.num=numerator\n",
    "        self.den=denominator\n",
    "    def val(self):\n",
    "        return self.num/self.den"
   ]
  },
  {
   "cell_type": "code",
   "execution_count": 81,
   "metadata": {},
   "outputs": [
    {
     "data": {
      "text/plain": [
       "0.5"
      ]
     },
     "execution_count": 81,
     "metadata": {},
     "output_type": "execute_result"
    }
   ],
   "source": [
    "r = Ratio(1,2)\n",
    "r.val() # Esto no funciona, recordar que 'val' es un método y no una función."
   ]
  },
  {
   "cell_type": "code",
   "execution_count": 82,
   "metadata": {},
   "outputs": [
    {
     "name": "stdout",
     "output_type": "stream",
     "text": [
      "0.0\n",
      "0.0\n"
     ]
    }
   ],
   "source": [
    "q=Ratio(0,1)\n",
    "print(q.val())\n",
    "print(Ratio.val(q))"
   ]
  },
  {
   "cell_type": "markdown",
   "metadata": {},
   "source": [
    "## Sobrecarga de operadores/comandos (Overloading)\n",
    "\n",
    "La \"sobrecarga\" de una función, operador, método, ya definido nos permite cambiar su significado. Por ejemplo, nos gustaria re-definir el operador \"suma\" $\\textit{\"+\"}$, para nuestra nueva clase de objetos.    \n"
   ]
  },
  {
   "cell_type": "code",
   "execution_count": 83,
   "metadata": {},
   "outputs": [],
   "source": [
    "class Ratio():\n",
    "    \"rational number\"\n",
    "    def __init__(self,numerator=0,denominator=1):\n",
    "        self.num=numerator\n",
    "        self.den=denominator\n",
    "        \n",
    "    # Methods\n",
    "    def val(self):\n",
    "        return self.num/self.den\n",
    "    \n",
    "    #Overloading operators\n",
    "    def __add__(self,other):    # Sobrecarga del operador '+'.\n",
    "        return Ratio(self.num*other.den+self.den*other.num,self.den*other.den)\n",
    "    \n",
    "    def suma(self,other):    # Sobrecarga del operador '+'.\n",
    "        return Ratio(self.num*other.den+self.den*other.num,self.den*other.den)\n",
    "    \n",
    "    def __str__(self):          # Sobrecarga necesaria para la función 'print'.\n",
    "        return str(self.num)+'/'+str(self.den)  #Cómo devolvemos una cadena de caracteres, para que\n",
    "                                                #la función print muestre algo para nuestro objeto. \n",
    "                                                \n",
    "    def __mul__(self,other):    # Sobrecarga del operador '*'.\n",
    "        return Ratio(self.num*other.num,self.den*other.den)\n",
    "    \n",
    "    def __int__(self): #Sobrecarga de la función 'int'.\n",
    "        return int(self.val())\n",
    "        \n",
    "  #print(obj)----> print(str(obj))  "
   ]
  },
  {
   "cell_type": "code",
   "execution_count": 86,
   "metadata": {},
   "outputs": [
    {
     "name": "stdout",
     "output_type": "stream",
     "text": [
      "9 / 9\n",
      "2/3\n"
     ]
    }
   ],
   "source": [
    "q1 = Ratio(2,3)\n",
    "q2 = Ratio(1,3)\n",
    "q = q1 + q2 \n",
    "# q3 = q1.suma(q2) \n",
    "# q3 = Ratio.suma(q1, q2)\n",
    "\n",
    "print(q.num,'/', q.den) # No es muy bonito, podemos arreglarlo?\n",
    "print(q1)\n",
    "\n",
    "#q1 + q2 --> __add__(self -> q1 ; other -> q2)\n",
    "#q2 + q1 --> __add__(self -> q2 ; other -> q1)\n",
    "#q1.suma(q2) --> suma(self -> q1 ; other -> q2)\n",
    "#q2.suma(q1) --> suma(self -> q2 ; other -> q1)\n",
    "#Ratio.suma(q1,q2) --> suma(self -> q1 ; other -> q2)\n",
    "#Ratio.suma(q2,q1) --> suma(self -> q2 ; other -> q1)\n"
   ]
  }
 ],
 "metadata": {
  "kernelspec": {
   "display_name": "Python 3",
   "language": "python",
   "name": "python3"
  },
  "language_info": {
   "codemirror_mode": {
    "name": "ipython",
    "version": 3
   },
   "file_extension": ".py",
   "mimetype": "text/x-python",
   "name": "python",
   "nbconvert_exporter": "python",
   "pygments_lexer": "ipython3",
   "version": "3.7.4"
  }
 },
 "nbformat": 4,
 "nbformat_minor": 2
}
