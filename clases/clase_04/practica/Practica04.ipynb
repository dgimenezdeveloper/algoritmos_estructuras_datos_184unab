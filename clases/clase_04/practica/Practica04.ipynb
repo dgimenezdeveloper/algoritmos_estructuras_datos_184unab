{
 "cells": [
  {
   "attachments": {},
   "cell_type": "markdown",
   "metadata": {
    "pycharm": {}
   },
   "source": [
    "# Ejercicios - Clase 04 -"
   ]
  },
  {
   "cell_type": "markdown",
   "metadata": {
    "pycharm": {}
   },
   "source": [
    "## Ejercicios"
   ]
  },
  {
   "attachments": {},
   "cell_type": "markdown",
   "metadata": {},
   "source": [
    "### Ej. 1:\n",
    "\n",
    "Definir la clase <code>Punto</code>. Sus *atributos* serán las coodenadas en `x` e `y` del plano cartesiano. Un <code>Punto</code> reconoce las siguientes *operaciones (métodos)*: \n",
    "- <code>distancia(p1, p2)</code>: distancia entre los puntos (devuleve un número)\n",
    "- <code>resta(p1, p2)</code>: resultado de la resta de dos puntos (devuelve un punto)      \n",
    "- <code>norma(p)</code>: módulo del vector desde el origen hacia el punto `p` "
   ]
  },
  {
   "cell_type": "code",
   "execution_count": null,
   "metadata": {},
   "outputs": [],
   "source": []
  },
  {
   "attachments": {},
   "cell_type": "markdown",
   "metadata": {},
   "source": [
    "### Ej. 2:\n",
    "Sobrecargar los métodos: <code>\\_\\_str\\_\\_ , \\_\\_add\\_\\_ , \\_\\_sub\\_\\_ , \\_\\_eq\\_\\_</code>."
   ]
  },
  {
   "cell_type": "code",
   "execution_count": null,
   "metadata": {},
   "outputs": [],
   "source": []
  },
  {
   "attachments": {},
   "cell_type": "markdown",
   "metadata": {},
   "source": [
    "### Ej. 3:\n",
    "\n",
    "Definir la clase <code>Circulo</code>. La clase debe contener los siguientes métodos:\n",
    "\n",
    "- Calcular el perimetro del circulo. \n",
    "- Clacular el area del circulo.\n"
   ]
  },
  {
   "cell_type": "code",
   "execution_count": null,
   "metadata": {},
   "outputs": [],
   "source": []
  },
  {
   "attachments": {},
   "cell_type": "markdown",
   "metadata": {},
   "source": [
    "### Ej. 4:\n",
    "\n",
    "Definir la clase <code>Triangulo</code>. Un triangulo esta compuesto por 3 puntos. La clase debe contener los siguientes métodos:\n",
    "\n",
    "- Calcular el perimetro del triangulo. \n",
    "- Clacular el area del triangulo.\n",
    "- Chequear si el triagulo es rectangulo. \n",
    "\n",
    "**Importante!** deben validar que los 3 puntos conformen un triangulo. "
   ]
  },
  {
   "cell_type": "code",
   "execution_count": null,
   "metadata": {},
   "outputs": [],
   "source": []
  },
  {
   "attachments": {},
   "cell_type": "markdown",
   "metadata": {},
   "source": [
    "### Ej. 5:\n",
    "\n",
    "Definir la clase <code>Rectangulo</code>. Un rectangulo pude ser definido de varias maneras, por ejemplo:\n",
    "- 4 puntos: las 4 esquinas (sirve para cualquier poligono).\n",
    "- 2 puntos: Idem anterior, pero usamos dos.\n",
    "- 1 punto de referencia, base y altura.\n",
    "\n",
    "*(Elejir solo una e implementarla)*\n",
    "\n",
    " La clase debe contener los siguientes métodos:\n",
    "\n",
    "- Calcular el perimetro del rectangulo. \n",
    "- Clacular el area del rectangulo.\n",
    "- Chequear si el rectangulo es un cuadradro. "
   ]
  },
  {
   "attachments": {},
   "cell_type": "markdown",
   "metadata": {},
   "source": []
  },
  {
   "cell_type": "markdown",
   "metadata": {},
   "source": [
    "### Ej. 3: \n",
    "\n",
    "Escribir un programa que simule un ecosistema conteniendo dos tipos de criaturas, **osos** y **peces**. El ecosistema cosiste en un río, el cuál esta modelado como una lista. Cada elemento de la lista debe ser un objeto del tipo `Oso` , del tipo `Pez`, o `None`. Considerando un \"contador externo\" (random), en cada paso, cada animal intenta moverse hacia una celda adjacente en la lista, o quedarse en su sitio. Si dos animales del mismo tipo estan por ocupar el mismo espacio, deberan quedarse en sus posiciones, y generaremos una nueva criatura de ese tipo en un lugar aleatorio vacio (i.e. `None`) de la lista (se reproducen). Si un oso y un pez ocupan el mismo espacio, entonces el pez desaparecera (es comido).  "
   ]
  },
  {
   "cell_type": "markdown",
   "metadata": {},
   "source": [
    "### Ej. 4:\n",
    "\n",
    "La clase `DynamicArray` descripta a continuación, no soporta el uso de indices negativos usando `__getitem__`. \n",
    "Arreglar el método, para que soprte el indexado de Python (faltan los indices negativos) "
   ]
  },
  {
   "cell_type": "code",
   "execution_count": 1,
   "metadata": {},
   "outputs": [
    {
     "name": "stdout",
     "output_type": "stream",
     "text": [
      "10\n",
      "20\n",
      "30\n",
      "30\n",
      "20\n",
      "10\n"
     ]
    }
   ],
   "source": [
    "import ctypes\n",
    "\n",
    "class DynamicArray:\n",
    "    \"\"\"A dynamic array class akin to a simplified Python list\"\"\"\n",
    "    \n",
    "    def __init__(self):\n",
    "        \"\"\"Create an empty array.\"\"\"\n",
    "        self._n = 0\n",
    "        self._capacity = 1\n",
    "        self._A = self._make_array(self._capacity)\n",
    "        \n",
    "    def __len__(self):\n",
    "        \"\"\"Return number of elements stored in the array\"\"\"\n",
    "        return self._n\n",
    "    \n",
    "    def __getitem__(self, k):\n",
    "        \"\"\"Retrieve element at index k, supporting negative indexing.\"\"\"\n",
    "        if k < 0:\n",
    "            k += self._n  # Convert negative index to positive\n",
    "        if not 0 <= k < self._n:\n",
    "            raise IndexError('invalid index')\n",
    "        return self._A[k]\n",
    "        \n",
    "    def append(self, obj):\n",
    "        \"\"\"Add object to end of the array.\"\"\"\n",
    "        if self._n == self._capacity:\n",
    "            self._resize(2 * self._capacity)\n",
    "        self._A[self._n] = obj\n",
    "        self._n += 1\n",
    "    \n",
    "    def _resize(self, c):\n",
    "        \"\"\"Resize internal array to capacity c.\"\"\"\n",
    "        B = self._make_array(c)\n",
    "        for k in range(self._n):\n",
    "            B[k] = self._A[k]\n",
    "        self._A = B\n",
    "        self._capacity = c\n",
    "        \n",
    "    def _make_array(self, c):\n",
    "        \"\"\"Return new array with capacity c.\"\"\"\n",
    "        return (c * ctypes.py_object)()\n",
    "\n",
    "# Ejemplo de uso\n",
    "array = DynamicArray()\n",
    "array.append(10)\n",
    "array.append(20)\n",
    "array.append(30)\n",
    "\n",
    "print(array[0])  # Imprime 10\n",
    "print(array[1])  # Imprime 20\n",
    "print(array[2])  # Imprime 30\n",
    "print(array[-1]) # Imprime 30\n",
    "print(array[-2]) # Imprime 20\n",
    "print(array[-3]) # Imprime 10\n"
   ]
  },
  {
   "cell_type": "code",
   "execution_count": 2,
   "metadata": {},
   "outputs": [
    {
     "name": "stdout",
     "output_type": "stream",
     "text": [
      "4\n",
      "1\n",
      "3\n",
      "4\n",
      "1\n",
      "3\n"
     ]
    }
   ],
   "source": [
    "darray = DynamicArray()\n",
    "darray.append(4)\n",
    "darray.append(1)\n",
    "darray.append(3)\n",
    "print(darray[-3])\n",
    "print(darray[-2])\n",
    "print(darray[-1])\n",
    "print(darray[0])\n",
    "print(darray[1])\n",
    "print(darray[2])"
   ]
  }
 ],
 "metadata": {
  "kernelspec": {
   "display_name": "Python 3",
   "language": "python",
   "name": "python3"
  },
  "language_info": {
   "codemirror_mode": {
    "name": "ipython",
    "version": 3
   },
   "file_extension": ".py",
   "mimetype": "text/x-python",
   "name": "python",
   "nbconvert_exporter": "python",
   "pygments_lexer": "ipython3",
   "version": "3.12.3"
  },
  "pycharm": {
   "stem_cell": {
    "cell_type": "raw",
    "metadata": {
     "collapsed": false
    },
    "source": []
   }
  },
  "vscode": {
   "interpreter": {
    "hash": "aee8b7b246df8f9039afb4144a1f6fd8d2ca17a180786b69acc140d282b71a49"
   }
  }
 },
 "nbformat": 4,
 "nbformat_minor": 2
}
