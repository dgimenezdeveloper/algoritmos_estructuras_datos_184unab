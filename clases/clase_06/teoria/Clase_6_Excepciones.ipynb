{
 "cells": [
  {
   "cell_type": "markdown",
   "metadata": {},
   "source": [
    "# Algoritmos y Estructuras de Datos. \n",
    "\n",
    "## - Clase 6 - Manejo de Excepciones -"
   ]
  },
  {
   "cell_type": "markdown",
   "metadata": {},
   "source": [
    "# Manejo de  Excepciones \n",
    "\n",
    "\n",
    "Los errores en nuestro código terminan la ejecución del programa. En algunos casos, nos gustaría ingnorar algunos errores no criticos, y poder continuar ejecutando el programa. Utilizando el comando $\\normalsize \\color{green}{\\textsf{ try }}$ podemos capturar exepciones (errores) y decidir como proseguir.\n",
    "Para *'lanzar'* una exepción, es decir, informar o propagar un error, utilizaremos los comandos $\\normalsize \\color{green}{\\textsf{ raise }}$ y $\\normalsize \\color{green}{\\textsf{ assert }}$\n"
   ]
  },
  {
   "cell_type": "markdown",
   "metadata": {},
   "source": [
    "## El comando Try \n",
    "\n",
    "Está es la forma de utilizar el comando $\\normalsize \\color{green}{\\textsf{ try }}$:\n",
    "\n",
    "$\\normalsize \\color{green}{\\textsf{ try }}$ :\n",
    "\n",
    "    {bloque A de código con potenciales errores}\n",
    "    {bloque A de código con potenciales errores}\n",
    "    \n",
    "$\\normalsize \\color{green}{\\textsf{ except }}$ *Error1* $\\normalsize \\color{green}{\\textsf{ as }}$ *string1* : \n",
    "    \n",
    "    {bloque B1 de código para el manejo del *Error1*}\n",
    "    {bloque B1 de código para el manejo del *Error1*}\n",
    " \n",
    "$\\normalsize \\color{green}{\\textsf{ except }}$ *Error2* $\\normalsize \\color{green}{\\textsf{ as }}$ *string2* : \n",
    " \n",
    "    {bloque B2 de código para el manejo del *Error2*}\n",
    "    {bloque B2 de código para el manejo del *Error2*}    \n",
    "    \n",
    "$\\normalsize \\color{green}{\\textsf{ else }}$ :\n",
    " \n",
    "    {bloque C de código para ejecutar finalmente, si no hay errores}\n",
    "    {bloque C de código para ejecutar finalmente, si no hay errores}    \n",
    "    \n",
    "\n",
    "Funciona de la siguiente forma, primero se ejecutara el bloque de código $\\texttt{A}$, el cual contendra comandos que podrian generar errores del tipo *Error1* o *Error2*. Si hay ningún error, a continuación se ejecutará el bloque de código $\\texttt{C}$ luego del $\\normalsize \\color{green}{\\textsf{ else }}$. Si una de las excepciones/errores (contenidos en la lista de errores), el bloque de código $\\texttt{B1}$ o $\\texttt{B2}$, respectivamente al error. Cabe destacar que todo el código del bloque $\\texttt{A}$ debajo del error, así como el bloque de código $\\texttt{C}$ no serán ejecutados. El parámetro *string1* contine los argumentos o informe del error. \n"
   ]
  },
  {
   "cell_type": "code",
   "execution_count": 3,
   "metadata": {},
   "outputs": [
    {
     "ename": "IndexError",
     "evalue": "list assignment index out of range",
     "output_type": "error",
     "traceback": [
      "\u001b[0;31m---------------------------------------------------------------------------\u001b[0m",
      "\u001b[0;31mIndexError\u001b[0m                                Traceback (most recent call last)",
      "\u001b[0;32m<ipython-input-3-47861d88eab2>\u001b[0m in \u001b[0;36m<module>\u001b[0;34m\u001b[0m\n\u001b[1;32m      1\u001b[0m \u001b[0mL\u001b[0m\u001b[0;34m=\u001b[0m\u001b[0;34m[\u001b[0m\u001b[0;36m1\u001b[0m\u001b[0;34m,\u001b[0m\u001b[0;36m2\u001b[0m\u001b[0;34m]\u001b[0m\u001b[0;34m\u001b[0m\u001b[0;34m\u001b[0m\u001b[0m\n\u001b[0;32m----> 2\u001b[0;31m \u001b[0mL\u001b[0m\u001b[0;34m[\u001b[0m\u001b[0;36m2\u001b[0m\u001b[0;34m]\u001b[0m \u001b[0;34m=\u001b[0m \u001b[0;36m6\u001b[0m\u001b[0;34m\u001b[0m\u001b[0;34m\u001b[0m\u001b[0m\n\u001b[0m\u001b[1;32m      3\u001b[0m \u001b[0mprint\u001b[0m\u001b[0;34m(\u001b[0m\u001b[0;34m'fawafawefawe'\u001b[0m\u001b[0;34m)\u001b[0m\u001b[0;34m\u001b[0m\u001b[0;34m\u001b[0m\u001b[0m\n",
      "\u001b[0;31mIndexError\u001b[0m: list assignment index out of range"
     ]
    }
   ],
   "source": [
    "L=[1,2]\n",
    "L[2] = 6"
   ]
  },
  {
   "cell_type": "code",
   "execution_count": 5,
   "metadata": {},
   "outputs": [
    {
     "name": "stdout",
     "output_type": "stream",
     "text": [
      " Hay un problema!\n"
     ]
    }
   ],
   "source": [
    "# Ejemplo \n",
    "try:\n",
    "    L=[1,2]\n",
    "    L[2]=6\n",
    "except IndexError:\n",
    "    print(' Hay un problema!')\n",
    "else: pass\n"
   ]
  },
  {
   "cell_type": "markdown",
   "metadata": {},
   "source": [
    "\n",
    "También es posible una tupla de errores al comando $\\normalsize \\color{green}{\\textsf{ except }}$, en vez de escribirlos separados $\\normalsize \\color{green}{\\textsf{ except }}$ *Error1* $\\ldots$; $\\normalsize \\color{green}{\\textsf{ except }}$ *Error2* $\\ldots$, etc. Una *'tupla de errores'*, solo debe ser usada para agrupar aquellas excepciones/erorres que manejaremos (o ignoremos) de la misma forma. En caso de que $\\normalsize \\color{green}{\\textsf{ except }}$ no tenga un *Error* como parámetro, este será activado por *'cualquier error'* (todos los tipos de error).       \n"
   ]
  },
  {
   "cell_type": "markdown",
   "metadata": {},
   "source": [
    "## El comando Assert\n",
    "\n",
    "\n",
    "El comando $\\normalsize \\color{green}{\\textsf{ assert }}$ es un comando simple, muy útil para depurar nuestro código. Lo usamos de la siguiente forma: \n",
    "\n",
    "\n",
    "$\\normalsize \\color{green}{\\textsf{ assert }}$ *una condición*, *un string*\n",
    "\n",
    "\n",
    "Si la condicón es verdadera ($\\normalsize \\color{green}{\\textsf{ True }}$), el código continuara su ejecución normalemnete. En caso de que la condición sea falsa ($\\normalsize \\color{green}{\\textsf{ False }}$), se generara un error/excepcion del tipo **AssertionError** y se imprimira el argumento *string* en la consola. Si la *expresión* de la condición no es del tipo booleano, igualmente se evaluara y luego se intentara converitr el resultado a tipo booleano (de ser posible).   \n"
   ]
  },
  {
   "cell_type": "code",
   "execution_count": 6,
   "metadata": {},
   "outputs": [],
   "source": [
    "# Ejercicio: Que hace este código?  \n",
    "import random\n",
    "mess=[]\n",
    "if random.randrange(0,2)==1:\n",
    "    N=20\n",
    "    for p in range(0,N):\n",
    "        mess.append(random.randrange(0,100000))\n",
    "\n",
    "# Creara una lista de 20 números aleatorios, o una lista vacia, con probabilidad 1/2.    "
   ]
  },
  {
   "cell_type": "code",
   "execution_count": 7,
   "metadata": {},
   "outputs": [
    {
     "ename": "AssertionError",
     "evalue": "la lista está vacía",
     "output_type": "error",
     "traceback": [
      "\u001b[0;31m---------------------------------------------------------------------------\u001b[0m",
      "\u001b[0;31mAssertionError\u001b[0m                            Traceback (most recent call last)",
      "\u001b[0;32m<ipython-input-7-b0b8cf1d420f>\u001b[0m in \u001b[0;36m<module>\u001b[0;34m\u001b[0m\n\u001b[1;32m      3\u001b[0m \u001b[0;31m# si la lista esta vacía, informar un 'assert error'.\u001b[0m\u001b[0;34m\u001b[0m\u001b[0;34m\u001b[0m\u001b[0;34m\u001b[0m\u001b[0m\n\u001b[1;32m      4\u001b[0m \u001b[0mmess\u001b[0m\u001b[0;34m=\u001b[0m\u001b[0;34m[\u001b[0m\u001b[0;36m1\u001b[0m\u001b[0;34m,\u001b[0m\u001b[0;36m2\u001b[0m\u001b[0;34m,\u001b[0m\u001b[0;36m3\u001b[0m\u001b[0;34m,\u001b[0m\u001b[0;36m4\u001b[0m\u001b[0;34m]\u001b[0m\u001b[0;34m\u001b[0m\u001b[0;34m\u001b[0m\u001b[0m\n\u001b[0;32m----> 5\u001b[0;31m \u001b[0;32massert\u001b[0m \u001b[0mlen\u001b[0m\u001b[0;34m(\u001b[0m\u001b[0mmess\u001b[0m\u001b[0;34m)\u001b[0m \u001b[0;34m<\u001b[0m \u001b[0;36m0\u001b[0m\u001b[0;34m,\u001b[0m\u001b[0;34m'la lista está vacía'\u001b[0m \u001b[0;31m# El mensage de error del comando assert\u001b[0m\u001b[0;34m\u001b[0m\u001b[0;34m\u001b[0m\u001b[0m\n\u001b[0m\u001b[1;32m      6\u001b[0m \u001b[0;32massert\u001b[0m \u001b[0mmess\u001b[0m\u001b[0;34m[\u001b[0m\u001b[0;36m2\u001b[0m\u001b[0;34m]\u001b[0m \u001b[0;34m!=\u001b[0m \u001b[0;36m3\u001b[0m\u001b[0;34m,\u001b[0m\u001b[0;34m'indice fuera de rango'\u001b[0m\u001b[0;34m\u001b[0m\u001b[0;34m\u001b[0m\u001b[0m\n\u001b[1;32m      7\u001b[0m \u001b[0;34m\u001b[0m\u001b[0m\n",
      "\u001b[0;31mAssertionError\u001b[0m: la lista está vacía"
     ]
    }
   ],
   "source": [
    "# Ejercicio: Escribir un programa que imprima  \n",
    "# el maximo de la lista 'mess', llamada max(mess), y el indice correspondiente: \"max(mess)=mess[i]\"\n",
    "# si la lista esta vacía, informar un 'assert error'.\n",
    "mess=[1,2,3,4]\n",
    "assert len(mess) < 0,'la lista está vacía' # El mensage de error del comando assert\n",
    "assert mess[2] != 3,'indice fuera de rango'\n",
    "\n",
    "maxelement=0\n",
    "for x in mess:\n",
    "    if x>maxelement:\n",
    "        maxelement=x\n",
    "Lindices=[]\n",
    "for i in range(0,len(mess)):\n",
    "    if maxelement==mess[i]:\n",
    "        Lindices.append(i)\n"
   ]
  },
  {
   "cell_type": "markdown",
   "metadata": {},
   "source": [
    "## El commando Raise"
   ]
  },
  {
   "cell_type": "markdown",
   "metadata": {},
   "source": [
    "Invocamos el comando $\\normalsize \\color{green}{\\textsf{raise}}$ de la siguiente forma:\n",
    "\n",
    "$\\normalsize \\color{green}{\\textsf{raise }} \\texttt{ NameError }( \\texttt{string} )$\n",
    "\n",
    "La ejecución del codigo se **detendra** de inmediato en la linea donde se ha llamado al commando $\\normalsize \\color{green}{\\textsf{raise}}$ y se escribira el siguiente error $\\texttt{ NameError }( \\texttt{string} )$.\n",
    "\n",
    "Este comando nos sirve para \"lanzar\" erorres, y avisar al systema/usuario del evento.\n"
   ]
  },
  {
   "cell_type": "code",
   "execution_count": 13,
   "metadata": {},
   "outputs": [
    {
     "ename": "ValueError",
     "evalue": "El denominador debe ser distinto de '0'",
     "output_type": "error",
     "traceback": [
      "\u001b[0;31m---------------------------------------------------------------------------\u001b[0m",
      "\u001b[0;31mValueError\u001b[0m                                Traceback (most recent call last)",
      "\u001b[0;32m<ipython-input-13-04608ff87dd4>\u001b[0m in \u001b[0;36m<module>\u001b[0;34m\u001b[0m\n\u001b[1;32m      4\u001b[0m \u001b[0md\u001b[0m\u001b[0;34m=\u001b[0m\u001b[0mint\u001b[0m\u001b[0;34m(\u001b[0m\u001b[0minput\u001b[0m\u001b[0;34m(\u001b[0m\u001b[0;34m\"Denominador : \"\u001b[0m\u001b[0;34m)\u001b[0m\u001b[0;34m)\u001b[0m\u001b[0;34m\u001b[0m\u001b[0;34m\u001b[0m\u001b[0m\n\u001b[1;32m      5\u001b[0m \u001b[0;32mif\u001b[0m \u001b[0md\u001b[0m\u001b[0;34m==\u001b[0m\u001b[0;36m0\u001b[0m\u001b[0;34m:\u001b[0m\u001b[0;34m\u001b[0m\u001b[0;34m\u001b[0m\u001b[0m\n\u001b[0;32m----> 6\u001b[0;31m     \u001b[0;32mraise\u001b[0m \u001b[0mValueError\u001b[0m\u001b[0;34m(\u001b[0m\u001b[0;34m\"El denominador debe ser distinto de '0'\"\u001b[0m\u001b[0;34m)\u001b[0m\u001b[0;34m\u001b[0m\u001b[0;34m\u001b[0m\u001b[0m\n\u001b[0m\u001b[1;32m      7\u001b[0m \u001b[0mprint\u001b[0m\u001b[0;34m(\u001b[0m\u001b[0mn\u001b[0m\u001b[0;34m*\u001b[0m\u001b[0;36m1.0\u001b[0m\u001b[0;34m/\u001b[0m\u001b[0md\u001b[0m\u001b[0;34m)\u001b[0m\u001b[0;34m\u001b[0m\u001b[0;34m\u001b[0m\u001b[0m\n",
      "\u001b[0;31mValueError\u001b[0m: El denominador debe ser distinto de '0'"
     ]
    }
   ],
   "source": [
    "# Ejemplo\n",
    "\n",
    "n=int(input(\"Numerador : \"))\n",
    "d=int(input(\"Denominador : \"))\n",
    "if d==0:\n",
    "    raise ValueError(\"El denominador debe ser distinto de '0'\")\n",
    "print(n*1.0/d)"
   ]
  },
  {
   "cell_type": "markdown",
   "metadata": {},
   "source": [
    "También podemos hacer uso del comando $\\normalsize \\color{green}{\\textsf{assert}}$, es muy similar al comando $\\normalsize \\color{green}{\\textsf{raise}}$, de hecho podemos escribirlos casi de manera equivalente: \n",
    "\n",
    "$\\normalsize \\color{green}{\\textsf{if}} \\texttt{ someboolean :} $\n",
    "\n",
    "$\\quad \\normalsize \\color{green}{\\textsf{ raise }} \\texttt{ AssertionError ( string )}$\n",
    "\n",
    "es equivalente a:  \n",
    "\n",
    "$\\normalsize \\color{green}{\\textsf{ if }}$ __debug__ :\n",
    "      \n",
    "$\\quad \\normalsize \\color{green}{\\textsf{ assert }} \\texttt{someboolean ,  string}$"
   ]
  },
  {
   "cell_type": "markdown",
   "metadata": {},
   "source": [
    "## Para que sirve cada uno y cuándo debemos usarlos? \n",
    "\n",
    "\n",
    "- El comando $\\normalsize \\color{green}{\\textsf{ try }}$ nos permite manejar de errores, ya sea por propositos de debugging del código, o dentro de funciones complejas propensas a generar errores. El uso de $\\normalsize \\color{green}{\\textsf{ try }}$ para el manejo de errores y nos permitira ejecutar código especiffico para cada tipo de error. En caso de la terminación de un programa de manera inesperada, un buena practica es intentar guardar el estado actual de la ejecución del programa, evitar más errores (e.g. cerrar archivos abiertos, desalocar memoria, etc.) y proveer una buena descripción del error que ha causado la terminación. \n",
    "\n",
    "\n",
    "- El comando $\\normalsize \\color{green}{\\textsf{ assert }}$ es espcifico para un rápido debugging de nuestro codigo lazando una excepción **AssertionError**. Debe ser usado cuándo queremos encotrar un problema en nuestro código. El uso del comando $\\normalsize \\color{green}{\\textsf{ assert }}$ es generalmente considerado un \"parche\" y no una solución permanente. En comparación el comando $\\normalsize \\color{green}{\\textsf{ try }}$  podemos invocar nuestras excepciones y manejar los errores.     \n",
    "\n",
    "\n",
    "- El comando $\\normalsize \\color{green}{\\textsf{ raise }}$ es el cual nos permite lanzar (o invocar) exepciones para informar que se ha producido un error, y el \"tipo\" de error. Se debe destacar que las exepciones pueden ser definidas por el programador y al igual que en el caso del comando $\\normalsize \\color{green}{\\textsf{ try }}$, las exepciones pueden contener código que permita manejar el error.   \n"
   ]
  }
 ],
 "metadata": {
  "kernelspec": {
   "display_name": "Python 3",
   "language": "python",
   "name": "python3"
  },
  "language_info": {
   "codemirror_mode": {
    "name": "ipython",
    "version": 3
   },
   "file_extension": ".py",
   "mimetype": "text/x-python",
   "name": "python",
   "nbconvert_exporter": "python",
   "pygments_lexer": "ipython3",
   "version": "3.7.4"
  }
 },
 "nbformat": 4,
 "nbformat_minor": 2
}
