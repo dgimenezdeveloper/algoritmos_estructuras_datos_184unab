{
 "cells": [
  {
   "attachments": {},
   "cell_type": "markdown",
   "metadata": {
    "pycharm": {
     "metadata": false,
     "name": "#%% md\n"
    }
   },
   "source": [
    "# 1er Parcial - Resuelto "
   ]
  },
  {
   "cell_type": "markdown",
   "metadata": {},
   "source": [
    "### Ejercicio 1.\n",
    "\n",
    "Definir una lista por comprensión, que contenga el conjunto de factoriales desde $1$ hasta $N$ (para un $N$ fijo). Es decir, <code>[ 1, 2, 6, ..., N! ]</code>. "
   ]
  },
  {
   "cell_type": "code",
   "execution_count": null,
   "metadata": {},
   "outputs": [],
   "source": [
    "import math\n",
    "\n",
    "L = [ math.factorial(x) for x in range(1, N + 1)]\n"
   ]
  },
  {
   "cell_type": "code",
   "execution_count": null,
   "metadata": {},
   "outputs": [],
   "source": [
    "def factorial(n):\n",
    "    return 1 if (n==1 or n==0) else n * factorial(n - 1) \n",
    "\n",
    "L = [ factorial(x) for x in range(1, N + 1)]"
   ]
  },
  {
   "attachments": {},
   "cell_type": "markdown",
   "metadata": {
    "pycharm": {
     "metadata": false,
     "name": "#%% md\n"
    }
   },
   "source": [
    "### Ejercicio 2.\n",
    "\n",
    "Dadas las siguientes funciones y considerando que dichas funciones se ejecutan en orden (primero <code>ExVar1</code>, luego <code>ExVar2</code>, etc.) "
   ]
  },
  {
   "cell_type": "code",
   "execution_count": null,
   "metadata": {},
   "outputs": [],
   "source": [
    "# Alcanze de variables\n",
    "\n",
    "x = 2\n",
    "\n",
    "def ExVar1(): \n",
    "    print(x)\n",
    "    \n",
    "def ExVar2():\n",
    "    x = 5\n",
    "    def ExVar21():\n",
    "        global x\n",
    "        print(x)\n",
    "    ExVar21()\n",
    "    print(x)\n",
    "    \n",
    "def ExVar3():   \n",
    "    x = 5\n",
    "    def ExVar31():\n",
    "        nonlocal x\n",
    "        print(x)\n",
    "    ExVar31()    \n",
    "    print(x)\n",
    "    \n",
    "def ExVar4():\n",
    "    global x\n",
    "    def ExVar41():\n",
    "        x = 5\n",
    "        print(x)\n",
    "    ExVar41()\n",
    "    print(x)"
   ]
  },
  {
   "cell_type": "code",
   "execution_count": null,
   "metadata": {},
   "outputs": [],
   "source": [
    "ExVar1()"
   ]
  },
  {
   "cell_type": "code",
   "execution_count": null,
   "metadata": {},
   "outputs": [],
   "source": [
    "ExVar2()"
   ]
  },
  {
   "cell_type": "code",
   "execution_count": null,
   "metadata": {},
   "outputs": [],
   "source": [
    "ExVar3()"
   ]
  },
  {
   "cell_type": "code",
   "execution_count": null,
   "metadata": {},
   "outputs": [],
   "source": [
    "ExVar2()\n",
    "ExVar3()"
   ]
  },
  {
   "attachments": {},
   "cell_type": "markdown",
   "metadata": {},
   "source": [
    "Escribir una función iterativa que calcule la potenciación de un numero. Recibe como parámetros dos números (naturales) a y b devuelve el valor de a**b."
   ]
  },
  {
   "cell_type": "code",
   "execution_count": null,
   "metadata": {},
   "outputs": [],
   "source": [
    "def potencia_iterativa(a,b):\n",
    "    result = 1\n",
    "    for x in range(b):\n",
    "        result *= a\n",
    "    return result"
   ]
  },
  {
   "cell_type": "code",
   "execution_count": 1,
   "metadata": {},
   "outputs": [
    {
     "data": {
      "text/plain": [
       "16"
      ]
     },
     "execution_count": 1,
     "metadata": {},
     "output_type": "execute_result"
    }
   ],
   "source": [
    "def potencia_it(a,b):\n",
    "    res = 1\n",
    "    for i in range(b):\n",
    "        res *= a\n",
    "    return res\n",
    "\n",
    "potencia_it(2,4)"
   ]
  },
  {
   "attachments": {},
   "cell_type": "markdown",
   "metadata": {},
   "source": [
    "Escribir una función recursiva que calcule la potenciación de un numero. Recibe como parámetros dos números (naturales) a y b devuelve el valor de a**b.\n"
   ]
  },
  {
   "cell_type": "code",
   "execution_count": null,
   "metadata": {},
   "outputs": [],
   "source": [
    "def potencia_recursiva(a, b):\n",
    "    # caso base\n",
    "    if b <= 0: \n",
    "        return 1\n",
    "    else:\n",
    "    # llamada recursiva    \n",
    "        return a * potencia_recursiva(a, b - 1)   "
   ]
  },
  {
   "cell_type": "code",
   "execution_count": 8,
   "metadata": {},
   "outputs": [
    {
     "data": {
      "text/plain": [
       "16"
      ]
     },
     "execution_count": 8,
     "metadata": {},
     "output_type": "execute_result"
    }
   ],
   "source": [
    "def potencia_rec(a,b): \n",
    "    # Caso Base\n",
    "    if b == 0:\n",
    "        return 1\n",
    "    #elif b == 1:\n",
    "    #    return a\n",
    "    # Llamada Recursiva -->> b-1\n",
    "    else: \n",
    "        return a * potencia_rec(a,b-1)\n",
    "\n",
    "potencia_rec(2,4)"
   ]
  },
  {
   "attachments": {},
   "cell_type": "markdown",
   "metadata": {},
   "source": [
    "Escribir una función que reciba dos parámetros: (i) una lista desordenada y (ii) una expresión (una expresión es parámetro que puede ser evaluado a True o False). Si el valor de la expresión es Verdadera (True), la lista se ordenara en forma descendente, en otro caso de manera ascendente. Por defecto, si la función es llamada sin una \"expresión\" (solo la lista) debe retornar una lista ordenada de forma ascendente.\n"
   ]
  },
  {
   "cell_type": "code",
   "execution_count": null,
   "metadata": {},
   "outputs": [],
   "source": [
    "def ordenar_lista(L, exp = False):\n",
    "   if exp :\n",
    "       return L.sorted(reverse=False) \n",
    "   else:\n",
    "       return L.sorted()\n",
    "   \n",
    "def ordenar_o_no(lista, b = False):\n",
    "    return lista.sorted(reverse=b)"
   ]
  },
  {
   "attachments": {},
   "cell_type": "markdown",
   "metadata": {},
   "source": [
    "Podemos utilizar el siguiente código genera una lista L. Escribir la/s sentencia/s necesarias para generar la misma lista L utilizando el método de generación de listas por comprensión. "
   ]
  },
  {
   "cell_type": "code",
   "execution_count": 10,
   "metadata": {},
   "outputs": [
    {
     "name": "stdout",
     "output_type": "stream",
     "text": [
      "[0, 1, 0, 1, 0, 1, 0, 1, 0, 1, 0, 1, 0, 1, 0, 1, 0, 1, 0, 1]\n"
     ]
    }
   ],
   "source": [
    "x, L = 0, []\n",
    "while x < 20:\n",
    "    L.append(x**2 % 2)\n",
    "    x+=1\n",
    "\n",
    "print(L)"
   ]
  },
  {
   "cell_type": "code",
   "execution_count": 13,
   "metadata": {},
   "outputs": [
    {
     "name": "stdout",
     "output_type": "stream",
     "text": [
      "[0, 1, 0, 1, 0, 1, 0, 1, 0, 1, 0, 1, 0, 1, 0, 1, 0, 1, 0, 1]\n"
     ]
    }
   ],
   "source": [
    "L = [ x**2 % 2 for x in range(20)]\n",
    "\n",
    "print(L)"
   ]
  },
  {
   "cell_type": "code",
   "execution_count": 12,
   "metadata": {},
   "outputs": [
    {
     "name": "stdout",
     "output_type": "stream",
     "text": [
      "[0, 1, 0, 1, 0, 1, 0, 1, 0, 1, 0, 1, 0, 1, 0, 1, 0, 1, 0, 1]\n"
     ]
    }
   ],
   "source": [
    "L=[ x%2 for x in range(0,20)]\n",
    "print(L)"
   ]
  },
  {
   "attachments": {},
   "cell_type": "markdown",
   "metadata": {},
   "source": [
    "Definir una clase \"Producto\", el cual contiene los datos:\n",
    "\n",
    "\"Descripcion\" : 'string' \n",
    "\"ID\" : 'integer'\n",
    "\"FechaExp\" : date, ## importar datetime \n",
    "\"INFO\" : 'cualquier tipo' \n",
    "\n",
    "La clase debe contener métodos para facilitar:\n",
    "- Cambiar uno o varios datos del Producto.\n",
    "- Calcular en cuantos dias/horas expira un producto. Si el método detecta que el Producto ha expirado, debera informar al usuario.\n",
    "\n",
    "Importante:\n",
    "- Pueden agregar más atributos y métodos, si lo consideran necesario."
   ]
  },
  {
   "cell_type": "code",
   "execution_count": null,
   "metadata": {},
   "outputs": [],
   "source": [
    "#import datetime\n",
    "from datetime import datetime\n",
    "\n",
    "class Producto():\n",
    "\n",
    "    def __init__(self, descripcion, id, fechaexp, info):\n",
    "        self.Descripcion = descripcion\n",
    "        self.ID = id\n",
    "        self.FechaExp = fechaexp\n",
    "        self.INFO = info\n",
    "\n",
    "    def actualizar(self, descripcion = None, id = None, fechaexp = None, info = None):\n",
    "        if descripcion:\n",
    "            self.Descripcion = descripcion\n",
    "        if id:\n",
    "            self.ID = id\n",
    "        if fechaexp:\n",
    "            self.FechaExp = fechaexp\n",
    "        if info:\n",
    "            self.INFO = info\n",
    "            \n",
    "    def esta_expirado(self):\n",
    "        if self.FechaExp <= datetime.now():\n",
    "             print(\"El producto: \" + str(self.ID) + \" ha expirado el dia: \" + str(self.FechaExp) )\n",
    "        else:\n",
    "            return self.FechaExp - datetime.now()\n",
    "\n",
    "\n",
    "    def __str__(self):\n",
    "        return f\"Producto ID: {self.ID},  Desc: {self.Descripcion}, Fecha de Vencimiento: {self.FechaExp}, INFO: {self.INFO}\"\n",
    "\n",
    "\n",
    "    def __eq__(self, other):\n",
    "        if isinstance(other, Producto):\n",
    "            return self.ID == other.ID \n",
    "        return False"
   ]
  },
  {
   "attachments": {},
   "cell_type": "markdown",
   "metadata": {},
   "source": [
    "Crear una clase Mercado, el cual estará representado (atributos internos) mediante varias listas de objetos del tipo Producto. Cada lista corresponde a un pasillo (o sección del mercado).\n",
    "\n",
    "La clase debe contener métodos para facilitar:\n",
    "- Controlar el stock de productos (añadir, remover, etc).\n",
    "- Calcular en cuántos productos expiran en las proximas 24hs y removerlos.\n",
    "\n",
    "Importante:\n",
    "- Pueden agregar más atributos y métodos, si lo consideran necesario."
   ]
  },
  {
   "cell_type": "code",
   "execution_count": null,
   "metadata": {},
   "outputs": [],
   "source": [
    "import datetime\n",
    "#from datetime import datetime\n",
    "\n",
    "class Mercado():\n",
    "    def __init__(self):\n",
    "        self.pasillos = []\n",
    "    \n",
    "    def añadir(self, seccion, producto):\n",
    "        self.pasillos[seccion].append(producto)\n",
    " \n",
    "    def remover_producto(self, seccion, producto):\n",
    "        self.pasillos[seccion].remove(producto)\n",
    "\n",
    "    def remover_expirados(self):\n",
    "        expirados = []\n",
    "        today = date.today()\n",
    "        for pasillo in self.pasillos:\n",
    "            for producto in pasillo:\n",
    "                if (producto.FechaExp - today).days <= 1:\n",
    "                    expirados.append(producto)\n",
    "        \n",
    "        for producto in expirados:\n",
    "            self.remover_producto(self.pasillos.index(pasillo), producto)\n",
    "        "
   ]
  }
 ],
 "metadata": {
  "kernelspec": {
   "display_name": "Python 3",
   "language": "python",
   "name": "python3"
  },
  "language_info": {
   "codemirror_mode": {
    "name": "ipython",
    "version": 3
   },
   "file_extension": ".py",
   "mimetype": "text/x-python",
   "name": "python",
   "nbconvert_exporter": "python",
   "pygments_lexer": "ipython3",
   "version": "3.7.4"
  },
  "pycharm": {
   "stem_cell": {
    "cell_type": "raw",
    "metadata": {
     "collapsed": false
    },
    "source": []
   }
  },
  "stem_cell": {
   "cell_type": "raw",
   "metadata": {
    "pycharm": {
     "metadata": false
    }
   },
   "source": ""
  }
 },
 "nbformat": 4,
 "nbformat_minor": 1
}
