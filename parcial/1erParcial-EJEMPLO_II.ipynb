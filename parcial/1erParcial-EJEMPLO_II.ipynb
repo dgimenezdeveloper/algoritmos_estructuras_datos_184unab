{
 "cells": [
  {
   "attachments": {},
   "cell_type": "markdown",
   "metadata": {
    "pycharm": {
     "metadata": false,
     "name": "#%% md\n"
    }
   },
   "source": [
    "# 1er Parcial - Resuelto "
   ]
  },
  {
   "cell_type": "markdown",
   "metadata": {},
   "source": [
    "### Ejercicio 1.\n",
    "\n",
    "Definir una lista por comprensión, que contenga el conjunto de factoriales desde $1$ hasta $N$ (para un $N$ fijo). Es decir, <code>[ 1, 2, 6, ..., N! ]</code>. "
   ]
  },
  {
   "cell_type": "code",
   "execution_count": null,
   "metadata": {},
   "outputs": [],
   "source": []
  },
  {
   "attachments": {},
   "cell_type": "markdown",
   "metadata": {
    "pycharm": {
     "metadata": false,
     "name": "#%% md\n"
    }
   },
   "source": [
    "### Ejercicio 2.\n",
    "\n",
    "Dadas las siguientes funciones y considerando que dichas funciones se ejecutan en orden (primero <code>ExVar1</code>, luego <code>ExVar2</code>, etc.) "
   ]
  },
  {
   "cell_type": "code",
   "execution_count": null,
   "metadata": {},
   "outputs": [],
   "source": [
    "# Alcanze de variables\n",
    "\n",
    "x = 2\n",
    "\n",
    "def ExVar1(): \n",
    "    print(x)\n",
    "    \n",
    "def ExVar2():\n",
    "    x = 5\n",
    "    def ExVar21():\n",
    "        global x\n",
    "        print(x)\n",
    "    ExVar21()\n",
    "    print(x)\n",
    "    \n",
    "def ExVar3():   \n",
    "    x = 5\n",
    "    def ExVar31():\n",
    "        nonlocal x\n",
    "        print(x)\n",
    "    ExVar31()    \n",
    "    print(x)\n",
    "    \n",
    "def ExVar4():\n",
    "    global x\n",
    "    def ExVar41():\n",
    "        x = 5\n",
    "        print(x)\n",
    "    ExVar41()\n",
    "    print(x)"
   ]
  },
  {
   "cell_type": "code",
   "execution_count": null,
   "metadata": {},
   "outputs": [],
   "source": []
  },
  {
   "attachments": {},
   "cell_type": "markdown",
   "metadata": {},
   "source": [
    "Escribir una función iterativa que calcule la potenciación de un numero. Recibe como parámetros dos números (naturales) a y b devuelve el valor de a**b."
   ]
  },
  {
   "cell_type": "code",
   "execution_count": null,
   "metadata": {},
   "outputs": [],
   "source": []
  },
  {
   "attachments": {},
   "cell_type": "markdown",
   "metadata": {},
   "source": [
    "Escribir una función recursiva que calcule la potenciación de un numero. Recibe como parámetros dos números (naturales) a y b devuelve el valor de a**b.\n"
   ]
  },
  {
   "cell_type": "code",
   "execution_count": null,
   "metadata": {},
   "outputs": [],
   "source": []
  },
  {
   "attachments": {},
   "cell_type": "markdown",
   "metadata": {},
   "source": [
    "Escribir una función que reciba dos parámetros: (i) una lista desordenada y (ii) una expresión (una expresión es parámetro que puede ser evaluado a True o False). Si el valor de la expresión es Verdadera (True), la lista se ordenara en forma descendente, en otro caso de manera ascendente. Por defecto, si la función es llamada sin una \"expresión\" (solo la lista) debe retornar una lista ordenada de forma ascendente.\n"
   ]
  },
  {
   "cell_type": "code",
   "execution_count": null,
   "metadata": {},
   "outputs": [],
   "source": []
  },
  {
   "attachments": {},
   "cell_type": "markdown",
   "metadata": {},
   "source": [
    "Podemos utilizar el siguiente código genera una lista L. Escribir la/s sentencia/s necesarias para generar la misma lista L utilizando el método de generación de listas por comprensión. "
   ]
  },
  {
   "cell_type": "code",
   "execution_count": null,
   "metadata": {},
   "outputs": [],
   "source": []
  },
  {
   "attachments": {},
   "cell_type": "markdown",
   "metadata": {},
   "source": [
    "Definir una clase \"Producto\", el cual contiene los datos:\n",
    "\n",
    "\"Descripcion\" : 'string' \n",
    "\"ID\" : 'integer'\n",
    "\"FechaExp\" : date, ## importar datetime \n",
    "\"INFO\" : 'cualquier tipo' \n",
    "\n",
    "La clase debe contener métodos para facilitar:\n",
    "- Cambiar uno o varios datos del Producto.\n",
    "- Calcular en cuantos dias/horas expira un producto. Si el método detecta que el Producto ha expirado, debera informar al usuario.\n",
    "\n",
    "Importante:\n",
    "- Pueden agregar más atributos y métodos, si lo consideran necesario."
   ]
  },
  {
   "cell_type": "code",
   "execution_count": null,
   "metadata": {},
   "outputs": [],
   "source": []
  },
  {
   "attachments": {},
   "cell_type": "markdown",
   "metadata": {},
   "source": [
    "Crear una clase Mercado, el cual estará representado (atributos internos) mediante varias listas de objetos del tipo Producto. Cada lista corresponde a un pasillo (o sección del mercado).\n",
    "\n",
    "La clase debe contener métodos para facilitar:\n",
    "- Controlar el stock de productos (añadir, remover, etc).\n",
    "- Calcular en cuántos productos expiran en las proximas 24hs y removerlos.\n",
    "\n",
    "Importante:\n",
    "- Pueden agregar más atributos y métodos, si lo consideran necesario."
   ]
  },
  {
   "cell_type": "code",
   "execution_count": null,
   "metadata": {},
   "outputs": [],
   "source": []
  }
 ],
 "metadata": {
  "kernelspec": {
   "display_name": "Python 3",
   "language": "python",
   "name": "python3"
  },
  "language_info": {
   "codemirror_mode": {
    "name": "ipython",
    "version": 3
   },
   "file_extension": ".py",
   "mimetype": "text/x-python",
   "name": "python",
   "nbconvert_exporter": "python",
   "pygments_lexer": "ipython3",
   "version": "3.7.4"
  },
  "pycharm": {
   "stem_cell": {
    "cell_type": "raw",
    "metadata": {
     "collapsed": false
    },
    "source": []
   }
  },
  "stem_cell": {
   "cell_type": "raw",
   "metadata": {
    "pycharm": {
     "metadata": false
    }
   },
   "source": ""
  }
 },
 "nbformat": 4,
 "nbformat_minor": 1
}
